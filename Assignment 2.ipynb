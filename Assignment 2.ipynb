{
 "cells": [
  {
   "cell_type": "code",
   "execution_count": 85,
   "metadata": {},
   "outputs": [],
   "source": [
    "# importing pandas and reading in the data as a pandas dataframe\n",
    "import pandas as pd\n",
    "df = pd.read_csv(\"./players.csv\", index_col=0)"
   ]
  },
  {
   "cell_type": "code",
   "execution_count": 86,
   "metadata": {},
   "outputs": [
    {
     "data": {
      "text/html": [
       "<div>\n",
       "<style scoped>\n",
       "    .dataframe tbody tr th:only-of-type {\n",
       "        vertical-align: middle;\n",
       "    }\n",
       "\n",
       "    .dataframe tbody tr th {\n",
       "        vertical-align: top;\n",
       "    }\n",
       "\n",
       "    .dataframe thead th {\n",
       "        text-align: right;\n",
       "    }\n",
       "</style>\n",
       "<table border=\"1\" class=\"dataframe\">\n",
       "  <thead>\n",
       "    <tr style=\"text-align: right;\">\n",
       "      <th></th>\n",
       "      <th>player_name</th>\n",
       "      <th>team_abbreviation</th>\n",
       "      <th>age</th>\n",
       "      <th>player_height</th>\n",
       "      <th>player_weight</th>\n",
       "      <th>college</th>\n",
       "      <th>country</th>\n",
       "      <th>draft_year</th>\n",
       "      <th>draft_round</th>\n",
       "      <th>draft_number</th>\n",
       "      <th>...</th>\n",
       "      <th>pts</th>\n",
       "      <th>reb</th>\n",
       "      <th>ast</th>\n",
       "      <th>net_rating</th>\n",
       "      <th>oreb_pct</th>\n",
       "      <th>dreb_pct</th>\n",
       "      <th>usg_pct</th>\n",
       "      <th>ts_pct</th>\n",
       "      <th>ast_pct</th>\n",
       "      <th>season</th>\n",
       "    </tr>\n",
       "  </thead>\n",
       "  <tbody>\n",
       "    <tr>\n",
       "      <th>0</th>\n",
       "      <td>Randy Livingston</td>\n",
       "      <td>HOU</td>\n",
       "      <td>22.0</td>\n",
       "      <td>193.04</td>\n",
       "      <td>94.800728</td>\n",
       "      <td>Louisiana State</td>\n",
       "      <td>USA</td>\n",
       "      <td>1996</td>\n",
       "      <td>2</td>\n",
       "      <td>42</td>\n",
       "      <td>...</td>\n",
       "      <td>3.9</td>\n",
       "      <td>1.5</td>\n",
       "      <td>2.4</td>\n",
       "      <td>0.3</td>\n",
       "      <td>0.042</td>\n",
       "      <td>0.071</td>\n",
       "      <td>0.169</td>\n",
       "      <td>0.487</td>\n",
       "      <td>0.248</td>\n",
       "      <td>1996-97</td>\n",
       "    </tr>\n",
       "    <tr>\n",
       "      <th>1</th>\n",
       "      <td>Gaylon Nickerson</td>\n",
       "      <td>WAS</td>\n",
       "      <td>28.0</td>\n",
       "      <td>190.50</td>\n",
       "      <td>86.182480</td>\n",
       "      <td>Northwestern Oklahoma</td>\n",
       "      <td>USA</td>\n",
       "      <td>1994</td>\n",
       "      <td>2</td>\n",
       "      <td>34</td>\n",
       "      <td>...</td>\n",
       "      <td>3.8</td>\n",
       "      <td>1.3</td>\n",
       "      <td>0.3</td>\n",
       "      <td>8.9</td>\n",
       "      <td>0.030</td>\n",
       "      <td>0.111</td>\n",
       "      <td>0.174</td>\n",
       "      <td>0.497</td>\n",
       "      <td>0.043</td>\n",
       "      <td>1996-97</td>\n",
       "    </tr>\n",
       "    <tr>\n",
       "      <th>2</th>\n",
       "      <td>George Lynch</td>\n",
       "      <td>VAN</td>\n",
       "      <td>26.0</td>\n",
       "      <td>203.20</td>\n",
       "      <td>103.418976</td>\n",
       "      <td>North Carolina</td>\n",
       "      <td>USA</td>\n",
       "      <td>1993</td>\n",
       "      <td>1</td>\n",
       "      <td>12</td>\n",
       "      <td>...</td>\n",
       "      <td>8.3</td>\n",
       "      <td>6.4</td>\n",
       "      <td>1.9</td>\n",
       "      <td>-8.2</td>\n",
       "      <td>0.106</td>\n",
       "      <td>0.185</td>\n",
       "      <td>0.175</td>\n",
       "      <td>0.512</td>\n",
       "      <td>0.125</td>\n",
       "      <td>1996-97</td>\n",
       "    </tr>\n",
       "    <tr>\n",
       "      <th>3</th>\n",
       "      <td>George McCloud</td>\n",
       "      <td>LAL</td>\n",
       "      <td>30.0</td>\n",
       "      <td>203.20</td>\n",
       "      <td>102.058200</td>\n",
       "      <td>Florida State</td>\n",
       "      <td>USA</td>\n",
       "      <td>1989</td>\n",
       "      <td>1</td>\n",
       "      <td>7</td>\n",
       "      <td>...</td>\n",
       "      <td>10.2</td>\n",
       "      <td>2.8</td>\n",
       "      <td>1.7</td>\n",
       "      <td>-2.7</td>\n",
       "      <td>0.027</td>\n",
       "      <td>0.111</td>\n",
       "      <td>0.206</td>\n",
       "      <td>0.527</td>\n",
       "      <td>0.125</td>\n",
       "      <td>1996-97</td>\n",
       "    </tr>\n",
       "    <tr>\n",
       "      <th>4</th>\n",
       "      <td>George Zidek</td>\n",
       "      <td>DEN</td>\n",
       "      <td>23.0</td>\n",
       "      <td>213.36</td>\n",
       "      <td>119.748288</td>\n",
       "      <td>UCLA</td>\n",
       "      <td>USA</td>\n",
       "      <td>1995</td>\n",
       "      <td>1</td>\n",
       "      <td>22</td>\n",
       "      <td>...</td>\n",
       "      <td>2.8</td>\n",
       "      <td>1.7</td>\n",
       "      <td>0.3</td>\n",
       "      <td>-14.1</td>\n",
       "      <td>0.102</td>\n",
       "      <td>0.169</td>\n",
       "      <td>0.195</td>\n",
       "      <td>0.500</td>\n",
       "      <td>0.064</td>\n",
       "      <td>1996-97</td>\n",
       "    </tr>\n",
       "  </tbody>\n",
       "</table>\n",
       "<p>5 rows × 21 columns</p>\n",
       "</div>"
      ],
      "text/plain": [
       "        player_name team_abbreviation   age  player_height  player_weight  \\\n",
       "0  Randy Livingston               HOU  22.0         193.04      94.800728   \n",
       "1  Gaylon Nickerson               WAS  28.0         190.50      86.182480   \n",
       "2      George Lynch               VAN  26.0         203.20     103.418976   \n",
       "3    George McCloud               LAL  30.0         203.20     102.058200   \n",
       "4      George Zidek               DEN  23.0         213.36     119.748288   \n",
       "\n",
       "                 college country draft_year draft_round draft_number  ...  \\\n",
       "0        Louisiana State     USA       1996           2           42  ...   \n",
       "1  Northwestern Oklahoma     USA       1994           2           34  ...   \n",
       "2         North Carolina     USA       1993           1           12  ...   \n",
       "3          Florida State     USA       1989           1            7  ...   \n",
       "4                   UCLA     USA       1995           1           22  ...   \n",
       "\n",
       "    pts  reb  ast  net_rating  oreb_pct  dreb_pct  usg_pct  ts_pct  ast_pct  \\\n",
       "0   3.9  1.5  2.4         0.3     0.042     0.071    0.169   0.487    0.248   \n",
       "1   3.8  1.3  0.3         8.9     0.030     0.111    0.174   0.497    0.043   \n",
       "2   8.3  6.4  1.9        -8.2     0.106     0.185    0.175   0.512    0.125   \n",
       "3  10.2  2.8  1.7        -2.7     0.027     0.111    0.206   0.527    0.125   \n",
       "4   2.8  1.7  0.3       -14.1     0.102     0.169    0.195   0.500    0.064   \n",
       "\n",
       "    season  \n",
       "0  1996-97  \n",
       "1  1996-97  \n",
       "2  1996-97  \n",
       "3  1996-97  \n",
       "4  1996-97  \n",
       "\n",
       "[5 rows x 21 columns]"
      ]
     },
     "execution_count": 86,
     "metadata": {},
     "output_type": "execute_result"
    }
   ],
   "source": [
    "#displaying the first 5 rows\n",
    "df.head()"
   ]
  },
  {
   "cell_type": "code",
   "execution_count": 87,
   "metadata": {},
   "outputs": [],
   "source": [
    "# only selecting the five columns wanted\n",
    "df = df[[\"player_name\", \"pts\", \"player_weight\", \"player_height\", \"season\"]]"
   ]
  },
  {
   "cell_type": "code",
   "execution_count": 88,
   "metadata": {},
   "outputs": [
    {
     "data": {
      "text/html": [
       "<div>\n",
       "<style scoped>\n",
       "    .dataframe tbody tr th:only-of-type {\n",
       "        vertical-align: middle;\n",
       "    }\n",
       "\n",
       "    .dataframe tbody tr th {\n",
       "        vertical-align: top;\n",
       "    }\n",
       "\n",
       "    .dataframe thead th {\n",
       "        text-align: right;\n",
       "    }\n",
       "</style>\n",
       "<table border=\"1\" class=\"dataframe\">\n",
       "  <thead>\n",
       "    <tr style=\"text-align: right;\">\n",
       "      <th></th>\n",
       "      <th>player_name</th>\n",
       "      <th>pts</th>\n",
       "      <th>player_weight</th>\n",
       "      <th>player_height</th>\n",
       "      <th>season</th>\n",
       "    </tr>\n",
       "  </thead>\n",
       "  <tbody>\n",
       "    <tr>\n",
       "      <th>0</th>\n",
       "      <td>Randy Livingston</td>\n",
       "      <td>3.9</td>\n",
       "      <td>94.800728</td>\n",
       "      <td>193.04</td>\n",
       "      <td>1996-97</td>\n",
       "    </tr>\n",
       "    <tr>\n",
       "      <th>1</th>\n",
       "      <td>Gaylon Nickerson</td>\n",
       "      <td>3.8</td>\n",
       "      <td>86.182480</td>\n",
       "      <td>190.50</td>\n",
       "      <td>1996-97</td>\n",
       "    </tr>\n",
       "    <tr>\n",
       "      <th>2</th>\n",
       "      <td>George Lynch</td>\n",
       "      <td>8.3</td>\n",
       "      <td>103.418976</td>\n",
       "      <td>203.20</td>\n",
       "      <td>1996-97</td>\n",
       "    </tr>\n",
       "    <tr>\n",
       "      <th>3</th>\n",
       "      <td>George McCloud</td>\n",
       "      <td>10.2</td>\n",
       "      <td>102.058200</td>\n",
       "      <td>203.20</td>\n",
       "      <td>1996-97</td>\n",
       "    </tr>\n",
       "    <tr>\n",
       "      <th>4</th>\n",
       "      <td>George Zidek</td>\n",
       "      <td>2.8</td>\n",
       "      <td>119.748288</td>\n",
       "      <td>213.36</td>\n",
       "      <td>1996-97</td>\n",
       "    </tr>\n",
       "  </tbody>\n",
       "</table>\n",
       "</div>"
      ],
      "text/plain": [
       "        player_name   pts  player_weight  player_height   season\n",
       "0  Randy Livingston   3.9      94.800728         193.04  1996-97\n",
       "1  Gaylon Nickerson   3.8      86.182480         190.50  1996-97\n",
       "2      George Lynch   8.3     103.418976         203.20  1996-97\n",
       "3    George McCloud  10.2     102.058200         203.20  1996-97\n",
       "4      George Zidek   2.8     119.748288         213.36  1996-97"
      ]
     },
     "execution_count": 88,
     "metadata": {},
     "output_type": "execute_result"
    }
   ],
   "source": [
    "# displaying the first five rows again\n",
    "df.head()"
   ]
  },
  {
   "cell_type": "code",
   "execution_count": 89,
   "metadata": {},
   "outputs": [
    {
     "name": "stdout",
     "output_type": "stream",
     "text": [
      "Average height of an NBA player between 1996 and 2022: 200.56 cm\n"
     ]
    }
   ],
   "source": [
    "# calculating the mean-value of the players' heights with the .mean()-function, rounding it to two decimal points\n",
    "mean_height = round(df[\"player_height\"].mean(), 2)\n",
    "print(f\"Average height of an NBA player between 1996 and 2022: {mean_height} cm\")"
   ]
  },
  {
   "cell_type": "code",
   "execution_count": 90,
   "metadata": {},
   "outputs": [
    {
     "name": "stdout",
     "output_type": "stream",
     "text": [
      "Median height of an NBA player between 1996 and 2022: 200.66 cm\n"
     ]
    }
   ],
   "source": [
    "# calculating the median-value of the players' heights with the .median()-function, rounding it to two decimal points\n",
    "median_height = round(df[\"player_height\"].median(), 2)\n",
    "print(f\"Median height of an NBA player between 1996 and 2022: {median_height} cm\")"
   ]
  },
  {
   "cell_type": "code",
   "execution_count": 91,
   "metadata": {},
   "outputs": [
    {
     "name": "stdout",
     "output_type": "stream",
     "text": [
      "Average points per season of an NBA player between 1996 and 2022: 8.21\n"
     ]
    }
   ],
   "source": [
    "# calculating the mean-value of the points per season with the .mean()-function, rounding it to two decimal points\n",
    "mean_points = round(df[\"pts\"].mean(), 2)\n",
    "print(f\"Average points per season of an NBA player between 1996 and 2022: {mean_points}\")"
   ]
  },
  {
   "cell_type": "code",
   "execution_count": 92,
   "metadata": {},
   "outputs": [
    {
     "name": "stdout",
     "output_type": "stream",
     "text": [
      "Median points of an NBA player between 1996 and 2022: 6.7\n"
     ]
    }
   ],
   "source": [
    "# calculating the median-value of the players' points per season with the .median()-function, rounding it to two decimal points\n",
    "median_points = round(df[\"pts\"].median(), 2)\n",
    "print(f\"Median points of an NBA player between 1996 and 2022: {median_points}\")"
   ]
  },
  {
   "cell_type": "code",
   "execution_count": 93,
   "metadata": {},
   "outputs": [
    {
     "name": "stdout",
     "output_type": "stream",
     "text": [
      "Average weight of an NBA player between 1996 and 2022: 100.26 kg\n"
     ]
    }
   ],
   "source": [
    "# calculating the mean-value of the players' weights with the .mean()-function, rounding it to two decimal points\n",
    "mean_weight = round(df[\"player_weight\"].mean(), 2)\n",
    "print(f\"Average weight of an NBA player between 1996 and 2022: {mean_weight} kg\")"
   ]
  },
  {
   "cell_type": "code",
   "execution_count": 94,
   "metadata": {},
   "outputs": [
    {
     "name": "stdout",
     "output_type": "stream",
     "text": [
      "Median weight of an NBA player between 1996 and 2022: 99.79 kg\n"
     ]
    }
   ],
   "source": [
    "# calculating the median-value of the players' weights with the .median()-function, rounding it to two decimal points\n",
    "median_weight = round(df[\"player_weight\"].median(), 2)\n",
    "print(f\"Median weight of an NBA player between 1996 and 2022: {median_weight} kg\")"
   ]
  },
  {
   "cell_type": "code",
   "execution_count": 95,
   "metadata": {},
   "outputs": [
    {
     "data": {
      "text/html": [
       "<div>\n",
       "<style scoped>\n",
       "    .dataframe tbody tr th:only-of-type {\n",
       "        vertical-align: middle;\n",
       "    }\n",
       "\n",
       "    .dataframe tbody tr th {\n",
       "        vertical-align: top;\n",
       "    }\n",
       "\n",
       "    .dataframe thead th {\n",
       "        text-align: right;\n",
       "    }\n",
       "</style>\n",
       "<table border=\"1\" class=\"dataframe\">\n",
       "  <thead>\n",
       "    <tr style=\"text-align: right;\">\n",
       "      <th></th>\n",
       "      <th>Mean</th>\n",
       "      <th>Median</th>\n",
       "    </tr>\n",
       "  </thead>\n",
       "  <tbody>\n",
       "    <tr>\n",
       "      <th>Points</th>\n",
       "      <td>8.21</td>\n",
       "      <td>6.70</td>\n",
       "    </tr>\n",
       "    <tr>\n",
       "      <th>Height (cm)</th>\n",
       "      <td>200.56</td>\n",
       "      <td>200.66</td>\n",
       "    </tr>\n",
       "    <tr>\n",
       "      <th>Weight (kg)</th>\n",
       "      <td>100.26</td>\n",
       "      <td>99.79</td>\n",
       "    </tr>\n",
       "  </tbody>\n",
       "</table>\n",
       "</div>"
      ],
      "text/plain": [
       "               Mean  Median\n",
       "Points         8.21    6.70\n",
       "Height (cm)  200.56  200.66\n",
       "Weight (kg)  100.26   99.79"
      ]
     },
     "metadata": {},
     "output_type": "display_data"
    }
   ],
   "source": [
    "# storing the results for the descriptive statistics in a new dataframe\n",
    "s = pd.DataFrame([\n",
    "    (mean_points, median_points), \n",
    "    (mean_height, median_height), \n",
    "    (mean_weight, median_weight)], \n",
    "    index=[\"Points\", \"Height (cm)\", \"Weight (kg)\"], \n",
    "    columns=[\"Mean\", \"Median\"]) \n",
    "display(s)"
   ]
  },
  {
   "cell_type": "code",
   "execution_count": 96,
   "metadata": {},
   "outputs": [
    {
     "data": {
      "text/html": [
       "<div>\n",
       "<style scoped>\n",
       "    .dataframe tbody tr th:only-of-type {\n",
       "        vertical-align: middle;\n",
       "    }\n",
       "\n",
       "    .dataframe tbody tr th {\n",
       "        vertical-align: top;\n",
       "    }\n",
       "\n",
       "    .dataframe thead th {\n",
       "        text-align: right;\n",
       "    }\n",
       "</style>\n",
       "<table border=\"1\" class=\"dataframe\">\n",
       "  <thead>\n",
       "    <tr style=\"text-align: right;\">\n",
       "      <th></th>\n",
       "      <th>season</th>\n",
       "      <th>player_weight</th>\n",
       "    </tr>\n",
       "  </thead>\n",
       "  <tbody>\n",
       "    <tr>\n",
       "      <th>0</th>\n",
       "      <td>1996-97</td>\n",
       "      <td>100.526270</td>\n",
       "    </tr>\n",
       "    <tr>\n",
       "      <th>1</th>\n",
       "      <td>1997-98</td>\n",
       "      <td>100.265530</td>\n",
       "    </tr>\n",
       "    <tr>\n",
       "      <th>2</th>\n",
       "      <td>1998-99</td>\n",
       "      <td>100.639563</td>\n",
       "    </tr>\n",
       "    <tr>\n",
       "      <th>3</th>\n",
       "      <td>1999-00</td>\n",
       "      <td>100.735741</td>\n",
       "    </tr>\n",
       "    <tr>\n",
       "      <th>4</th>\n",
       "      <td>2000-01</td>\n",
       "      <td>100.842450</td>\n",
       "    </tr>\n",
       "  </tbody>\n",
       "</table>\n",
       "</div>"
      ],
      "text/plain": [
       "    season  player_weight\n",
       "0  1996-97     100.526270\n",
       "1  1997-98     100.265530\n",
       "2  1998-99     100.639563\n",
       "3  1999-00     100.735741\n",
       "4  2000-01     100.842450"
      ]
     },
     "execution_count": 96,
     "metadata": {},
     "output_type": "execute_result"
    }
   ],
   "source": [
    "# creating a new dataframe, \n",
    "# which contains a row for every season with the average weight of players that played in the NBA in this year\n",
    "mean_weights_by_year = df.groupby(\"season\")[\"player_weight\"].mean().reset_index()\n",
    "mean_weights_by_year.head()"
   ]
  },
  {
   "cell_type": "code",
   "execution_count": 97,
   "metadata": {},
   "outputs": [
    {
     "data": {
      "image/png": "[encoded data removed]",
      "text/plain": [
       "<Figure size 1000x600 with 1 Axes>"
      ]
     },
     "metadata": {},
     "output_type": "display_data"
    }
   ],
   "source": [
    "# importing matplotlib\n",
    "import matplotlib.pyplot as plt\n",
    "\n",
    "# setting the plot's size\n",
    "plt.figure(figsize=(10, 6))\n",
    "\n",
    "# plotting the season on the x-axis and the respective weights on the y-axis\n",
    "plt.plot(mean_weights_by_year[\"season\"], mean_weights_by_year[\"player_weight\"], marker=\"o\", linestyle=\"-\",\n",
    "         label=\"Average Player Weight\")\n",
    "\n",
    "# looping through the dataframe in order to display the season in the plot, above each data point\n",
    "for index, row in mean_weights_by_year.iterrows():\n",
    "    plt.text(row[\"season\"], row[\"player_weight\"], str(row[\"season\"]), ha=\"center\", va=\"bottom\")\n",
    "\n",
    "# giving the plot a title and labeling the axes\n",
    "plt.title(\"Evolution of Average Player Weight by Season\")\n",
    "plt.xlabel(\"Season\")\n",
    "plt.ylabel(\"Average Weight (kg)\")\n",
    "\n",
    "# removing the ticks on the x-axis, because the year-numbers overlap \n",
    "plt.xticks([])\n",
    "\n",
    "# adding a legend and a grid in the background\n",
    "plt.legend()\n",
    "plt.grid(True)\n",
    "\n",
    "# displaying the plot\n",
    "plt.show()"
   ]
  }
 ],
 "metadata": {
  "kernelspec": {
   "display_name": "Python 3",
   "language": "python",
   "name": "python3"
  },
  "language_info": {
   "codemirror_mode": {
    "name": "ipython",
    "version": 3
   },
   "file_extension": ".py",
   "mimetype": "text/x-python",
   "name": "python",
   "nbconvert_exporter": "python",
   "pygments_lexer": "ipython3",
   "version": "3.12.3"
  }
 },
 "nbformat": 4,
 "nbformat_minor": 2
}
