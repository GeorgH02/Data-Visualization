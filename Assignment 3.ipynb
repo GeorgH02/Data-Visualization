{
 "cells": [
  {
   "cell_type": "markdown",
   "metadata": {},
   "source": [
    "# Assignment 3"
   ]
  },
  {
   "cell_type": "markdown",
   "metadata": {},
   "source": [
    "## Part one"
   ]
  },
  {
   "cell_type": "code",
   "execution_count": 182,
   "metadata": {},
   "outputs": [
    {
     "data": {
      "text/html": [
       "<div>\n",
       "<style scoped>\n",
       "    .dataframe tbody tr th:only-of-type {\n",
       "        vertical-align: middle;\n",
       "    }\n",
       "\n",
       "    .dataframe tbody tr th {\n",
       "        vertical-align: top;\n",
       "    }\n",
       "\n",
       "    .dataframe thead th {\n",
       "        text-align: right;\n",
       "    }\n",
       "</style>\n",
       "<table border=\"1\" class=\"dataframe\">\n",
       "  <thead>\n",
       "    <tr style=\"text-align: right;\">\n",
       "      <th></th>\n",
       "      <th>NAME</th>\n",
       "      <th>CONTRACT_START</th>\n",
       "      <th>CONTRACT_END</th>\n",
       "      <th>AVG_SALARY</th>\n",
       "      <th>AGE</th>\n",
       "      <th>GP</th>\n",
       "      <th>W</th>\n",
       "      <th>L</th>\n",
       "      <th>MIN</th>\n",
       "      <th>PTS</th>\n",
       "      <th>...</th>\n",
       "      <th>FT%</th>\n",
       "      <th>OREB</th>\n",
       "      <th>DREB</th>\n",
       "      <th>REB</th>\n",
       "      <th>AST</th>\n",
       "      <th>TOV</th>\n",
       "      <th>STL</th>\n",
       "      <th>BLK</th>\n",
       "      <th>PF</th>\n",
       "      <th>+/-</th>\n",
       "    </tr>\n",
       "  </thead>\n",
       "  <tbody>\n",
       "    <tr>\n",
       "      <th>0</th>\n",
       "      <td>Wesley Matthews</td>\n",
       "      <td>2019</td>\n",
       "      <td>2020</td>\n",
       "      <td>2564753.0</td>\n",
       "      <td>32.0</td>\n",
       "      <td>69.0</td>\n",
       "      <td>27.0</td>\n",
       "      <td>42.0</td>\n",
       "      <td>2091.0</td>\n",
       "      <td>840.0</td>\n",
       "      <td>...</td>\n",
       "      <td>81.0</td>\n",
       "      <td>32.0</td>\n",
       "      <td>138.0</td>\n",
       "      <td>170.0</td>\n",
       "      <td>160.0</td>\n",
       "      <td>91.0</td>\n",
       "      <td>54.0</td>\n",
       "      <td>17.0</td>\n",
       "      <td>160.0</td>\n",
       "      <td>-90.0</td>\n",
       "    </tr>\n",
       "    <tr>\n",
       "      <th>1</th>\n",
       "      <td>Brook Lopez</td>\n",
       "      <td>2015</td>\n",
       "      <td>2017</td>\n",
       "      <td>21165675.0</td>\n",
       "      <td>27.0</td>\n",
       "      <td>72.0</td>\n",
       "      <td>34.0</td>\n",
       "      <td>38.0</td>\n",
       "      <td>2100.0</td>\n",
       "      <td>1236.0</td>\n",
       "      <td>...</td>\n",
       "      <td>81.4</td>\n",
       "      <td>214.0</td>\n",
       "      <td>321.0</td>\n",
       "      <td>535.0</td>\n",
       "      <td>50.0</td>\n",
       "      <td>104.0</td>\n",
       "      <td>43.0</td>\n",
       "      <td>126.0</td>\n",
       "      <td>206.0</td>\n",
       "      <td>-104.0</td>\n",
       "    </tr>\n",
       "    <tr>\n",
       "      <th>2</th>\n",
       "      <td>DeAndre Jordan</td>\n",
       "      <td>2011</td>\n",
       "      <td>2014</td>\n",
       "      <td>10759763.5</td>\n",
       "      <td>22.0</td>\n",
       "      <td>80.0</td>\n",
       "      <td>31.0</td>\n",
       "      <td>49.0</td>\n",
       "      <td>2047.0</td>\n",
       "      <td>566.0</td>\n",
       "      <td>...</td>\n",
       "      <td>45.2</td>\n",
       "      <td>207.0</td>\n",
       "      <td>368.0</td>\n",
       "      <td>575.0</td>\n",
       "      <td>42.0</td>\n",
       "      <td>101.0</td>\n",
       "      <td>41.0</td>\n",
       "      <td>142.0</td>\n",
       "      <td>255.0</td>\n",
       "      <td>-100.0</td>\n",
       "    </tr>\n",
       "    <tr>\n",
       "      <th>3</th>\n",
       "      <td>Markieff Morris</td>\n",
       "      <td>2015</td>\n",
       "      <td>2018</td>\n",
       "      <td>8143323.5</td>\n",
       "      <td>25.0</td>\n",
       "      <td>82.0</td>\n",
       "      <td>39.0</td>\n",
       "      <td>43.0</td>\n",
       "      <td>2581.0</td>\n",
       "      <td>1258.0</td>\n",
       "      <td>...</td>\n",
       "      <td>76.3</td>\n",
       "      <td>110.0</td>\n",
       "      <td>396.0</td>\n",
       "      <td>506.0</td>\n",
       "      <td>192.0</td>\n",
       "      <td>170.0</td>\n",
       "      <td>101.0</td>\n",
       "      <td>39.0</td>\n",
       "      <td>245.0</td>\n",
       "      <td>105.0</td>\n",
       "    </tr>\n",
       "    <tr>\n",
       "      <th>4</th>\n",
       "      <td>Dwight Howard</td>\n",
       "      <td>2018</td>\n",
       "      <td>2019</td>\n",
       "      <td>13410739.0</td>\n",
       "      <td>32.0</td>\n",
       "      <td>81.0</td>\n",
       "      <td>35.0</td>\n",
       "      <td>46.0</td>\n",
       "      <td>2463.0</td>\n",
       "      <td>1347.0</td>\n",
       "      <td>...</td>\n",
       "      <td>57.4</td>\n",
       "      <td>255.0</td>\n",
       "      <td>757.0</td>\n",
       "      <td>1012.0</td>\n",
       "      <td>105.0</td>\n",
       "      <td>208.0</td>\n",
       "      <td>48.0</td>\n",
       "      <td>131.0</td>\n",
       "      <td>249.0</td>\n",
       "      <td>89.0</td>\n",
       "    </tr>\n",
       "  </tbody>\n",
       "</table>\n",
       "<p>5 rows × 28 columns</p>\n",
       "</div>"
      ],
      "text/plain": [
       "              NAME  CONTRACT_START  CONTRACT_END  AVG_SALARY   AGE    GP  \\\n",
       "0  Wesley Matthews            2019          2020   2564753.0  32.0  69.0   \n",
       "1      Brook Lopez            2015          2017  21165675.0  27.0  72.0   \n",
       "2   DeAndre Jordan            2011          2014  10759763.5  22.0  80.0   \n",
       "3  Markieff Morris            2015          2018   8143323.5  25.0  82.0   \n",
       "4    Dwight Howard            2018          2019  13410739.0  32.0  81.0   \n",
       "\n",
       "      W     L     MIN     PTS  ...   FT%   OREB   DREB     REB    AST    TOV  \\\n",
       "0  27.0  42.0  2091.0   840.0  ...  81.0   32.0  138.0   170.0  160.0   91.0   \n",
       "1  34.0  38.0  2100.0  1236.0  ...  81.4  214.0  321.0   535.0   50.0  104.0   \n",
       "2  31.0  49.0  2047.0   566.0  ...  45.2  207.0  368.0   575.0   42.0  101.0   \n",
       "3  39.0  43.0  2581.0  1258.0  ...  76.3  110.0  396.0   506.0  192.0  170.0   \n",
       "4  35.0  46.0  2463.0  1347.0  ...  57.4  255.0  757.0  1012.0  105.0  208.0   \n",
       "\n",
       "     STL    BLK     PF    +/-  \n",
       "0   54.0   17.0  160.0  -90.0  \n",
       "1   43.0  126.0  206.0 -104.0  \n",
       "2   41.0  142.0  255.0 -100.0  \n",
       "3  101.0   39.0  245.0  105.0  \n",
       "4   48.0  131.0  249.0   89.0  \n",
       "\n",
       "[5 rows x 28 columns]"
      ]
     },
     "execution_count": 182,
     "metadata": {},
     "output_type": "execute_result"
    }
   ],
   "source": [
    "import pandas as pd\n",
    "\n",
    "# reading in the data as a pandas dataframe\n",
    "df_contracts = pd.read_csv(\"./nba_contracts_history.csv\")\n",
    "df_contracts.head()"
   ]
  },
  {
   "cell_type": "markdown",
   "metadata": {},
   "source": [
    "### Evolution Chart"
   ]
  },
  {
   "cell_type": "code",
   "execution_count": 183,
   "metadata": {},
   "outputs": [
    {
     "data": {
      "text/html": [
       "<div>\n",
       "<style scoped>\n",
       "    .dataframe tbody tr th:only-of-type {\n",
       "        vertical-align: middle;\n",
       "    }\n",
       "\n",
       "    .dataframe tbody tr th {\n",
       "        vertical-align: top;\n",
       "    }\n",
       "\n",
       "    .dataframe thead th {\n",
       "        text-align: right;\n",
       "    }\n",
       "</style>\n",
       "<table border=\"1\" class=\"dataframe\">\n",
       "  <thead>\n",
       "    <tr style=\"text-align: right;\">\n",
       "      <th></th>\n",
       "      <th>NAME</th>\n",
       "      <th>CONTRACT_START</th>\n",
       "      <th>CONTRACT_END</th>\n",
       "      <th>AVG_SALARY</th>\n",
       "      <th>AGE</th>\n",
       "      <th>GP</th>\n",
       "      <th>W</th>\n",
       "      <th>L</th>\n",
       "      <th>MIN</th>\n",
       "      <th>PTS</th>\n",
       "      <th>...</th>\n",
       "      <th>OREB</th>\n",
       "      <th>DREB</th>\n",
       "      <th>REB</th>\n",
       "      <th>AST</th>\n",
       "      <th>TOV</th>\n",
       "      <th>STL</th>\n",
       "      <th>BLK</th>\n",
       "      <th>PF</th>\n",
       "      <th>+/-</th>\n",
       "      <th>AVG_SALARY_MILLIONS</th>\n",
       "    </tr>\n",
       "  </thead>\n",
       "  <tbody>\n",
       "    <tr>\n",
       "      <th>0</th>\n",
       "      <td>Wesley Matthews</td>\n",
       "      <td>2019</td>\n",
       "      <td>2020</td>\n",
       "      <td>2564753.0</td>\n",
       "      <td>32.0</td>\n",
       "      <td>69.0</td>\n",
       "      <td>27.0</td>\n",
       "      <td>42.0</td>\n",
       "      <td>2091.0</td>\n",
       "      <td>840.0</td>\n",
       "      <td>...</td>\n",
       "      <td>32.0</td>\n",
       "      <td>138.0</td>\n",
       "      <td>170.0</td>\n",
       "      <td>160.0</td>\n",
       "      <td>91.0</td>\n",
       "      <td>54.0</td>\n",
       "      <td>17.0</td>\n",
       "      <td>160.0</td>\n",
       "      <td>-90.0</td>\n",
       "      <td>2.564753</td>\n",
       "    </tr>\n",
       "    <tr>\n",
       "      <th>1</th>\n",
       "      <td>Brook Lopez</td>\n",
       "      <td>2015</td>\n",
       "      <td>2017</td>\n",
       "      <td>21165675.0</td>\n",
       "      <td>27.0</td>\n",
       "      <td>72.0</td>\n",
       "      <td>34.0</td>\n",
       "      <td>38.0</td>\n",
       "      <td>2100.0</td>\n",
       "      <td>1236.0</td>\n",
       "      <td>...</td>\n",
       "      <td>214.0</td>\n",
       "      <td>321.0</td>\n",
       "      <td>535.0</td>\n",
       "      <td>50.0</td>\n",
       "      <td>104.0</td>\n",
       "      <td>43.0</td>\n",
       "      <td>126.0</td>\n",
       "      <td>206.0</td>\n",
       "      <td>-104.0</td>\n",
       "      <td>21.165675</td>\n",
       "    </tr>\n",
       "    <tr>\n",
       "      <th>2</th>\n",
       "      <td>DeAndre Jordan</td>\n",
       "      <td>2011</td>\n",
       "      <td>2014</td>\n",
       "      <td>10759763.5</td>\n",
       "      <td>22.0</td>\n",
       "      <td>80.0</td>\n",
       "      <td>31.0</td>\n",
       "      <td>49.0</td>\n",
       "      <td>2047.0</td>\n",
       "      <td>566.0</td>\n",
       "      <td>...</td>\n",
       "      <td>207.0</td>\n",
       "      <td>368.0</td>\n",
       "      <td>575.0</td>\n",
       "      <td>42.0</td>\n",
       "      <td>101.0</td>\n",
       "      <td>41.0</td>\n",
       "      <td>142.0</td>\n",
       "      <td>255.0</td>\n",
       "      <td>-100.0</td>\n",
       "      <td>10.759764</td>\n",
       "    </tr>\n",
       "    <tr>\n",
       "      <th>3</th>\n",
       "      <td>Markieff Morris</td>\n",
       "      <td>2015</td>\n",
       "      <td>2018</td>\n",
       "      <td>8143323.5</td>\n",
       "      <td>25.0</td>\n",
       "      <td>82.0</td>\n",
       "      <td>39.0</td>\n",
       "      <td>43.0</td>\n",
       "      <td>2581.0</td>\n",
       "      <td>1258.0</td>\n",
       "      <td>...</td>\n",
       "      <td>110.0</td>\n",
       "      <td>396.0</td>\n",
       "      <td>506.0</td>\n",
       "      <td>192.0</td>\n",
       "      <td>170.0</td>\n",
       "      <td>101.0</td>\n",
       "      <td>39.0</td>\n",
       "      <td>245.0</td>\n",
       "      <td>105.0</td>\n",
       "      <td>8.143323</td>\n",
       "    </tr>\n",
       "    <tr>\n",
       "      <th>4</th>\n",
       "      <td>Dwight Howard</td>\n",
       "      <td>2018</td>\n",
       "      <td>2019</td>\n",
       "      <td>13410739.0</td>\n",
       "      <td>32.0</td>\n",
       "      <td>81.0</td>\n",
       "      <td>35.0</td>\n",
       "      <td>46.0</td>\n",
       "      <td>2463.0</td>\n",
       "      <td>1347.0</td>\n",
       "      <td>...</td>\n",
       "      <td>255.0</td>\n",
       "      <td>757.0</td>\n",
       "      <td>1012.0</td>\n",
       "      <td>105.0</td>\n",
       "      <td>208.0</td>\n",
       "      <td>48.0</td>\n",
       "      <td>131.0</td>\n",
       "      <td>249.0</td>\n",
       "      <td>89.0</td>\n",
       "      <td>13.410739</td>\n",
       "    </tr>\n",
       "  </tbody>\n",
       "</table>\n",
       "<p>5 rows × 29 columns</p>\n",
       "</div>"
      ],
      "text/plain": [
       "              NAME  CONTRACT_START  CONTRACT_END  AVG_SALARY   AGE    GP  \\\n",
       "0  Wesley Matthews            2019          2020   2564753.0  32.0  69.0   \n",
       "1      Brook Lopez            2015          2017  21165675.0  27.0  72.0   \n",
       "2   DeAndre Jordan            2011          2014  10759763.5  22.0  80.0   \n",
       "3  Markieff Morris            2015          2018   8143323.5  25.0  82.0   \n",
       "4    Dwight Howard            2018          2019  13410739.0  32.0  81.0   \n",
       "\n",
       "      W     L     MIN     PTS  ...   OREB   DREB     REB    AST    TOV    STL  \\\n",
       "0  27.0  42.0  2091.0   840.0  ...   32.0  138.0   170.0  160.0   91.0   54.0   \n",
       "1  34.0  38.0  2100.0  1236.0  ...  214.0  321.0   535.0   50.0  104.0   43.0   \n",
       "2  31.0  49.0  2047.0   566.0  ...  207.0  368.0   575.0   42.0  101.0   41.0   \n",
       "3  39.0  43.0  2581.0  1258.0  ...  110.0  396.0   506.0  192.0  170.0  101.0   \n",
       "4  35.0  46.0  2463.0  1347.0  ...  255.0  757.0  1012.0  105.0  208.0   48.0   \n",
       "\n",
       "     BLK     PF    +/-  AVG_SALARY_MILLIONS  \n",
       "0   17.0  160.0  -90.0             2.564753  \n",
       "1  126.0  206.0 -104.0            21.165675  \n",
       "2  142.0  255.0 -100.0            10.759764  \n",
       "3   39.0  245.0  105.0             8.143323  \n",
       "4  131.0  249.0   89.0            13.410739  \n",
       "\n",
       "[5 rows x 29 columns]"
      ]
     },
     "execution_count": 183,
     "metadata": {},
     "output_type": "execute_result"
    }
   ],
   "source": [
    "# adding a new salary-column containing the salary in millions for easier interpretation\n",
    "df_contracts[\"AVG_SALARY_MILLIONS\"] = df_contracts[\"AVG_SALARY\"]/1000000\n",
    "df_contracts.head()"
   ]
  },
  {
   "cell_type": "code",
   "execution_count": 184,
   "metadata": {},
   "outputs": [
    {
     "data": {
      "text/html": [
       "<div>\n",
       "<style scoped>\n",
       "    .dataframe tbody tr th:only-of-type {\n",
       "        vertical-align: middle;\n",
       "    }\n",
       "\n",
       "    .dataframe tbody tr th {\n",
       "        vertical-align: top;\n",
       "    }\n",
       "\n",
       "    .dataframe thead th {\n",
       "        text-align: right;\n",
       "    }\n",
       "</style>\n",
       "<table border=\"1\" class=\"dataframe\">\n",
       "  <thead>\n",
       "    <tr style=\"text-align: right;\">\n",
       "      <th></th>\n",
       "      <th>CONTRACT_START</th>\n",
       "      <th>AVG_SALARY_MILLIONS</th>\n",
       "    </tr>\n",
       "  </thead>\n",
       "  <tbody>\n",
       "    <tr>\n",
       "      <th>0</th>\n",
       "      <td>2011</td>\n",
       "      <td>10.857031</td>\n",
       "    </tr>\n",
       "    <tr>\n",
       "      <th>1</th>\n",
       "      <td>2012</td>\n",
       "      <td>10.627476</td>\n",
       "    </tr>\n",
       "    <tr>\n",
       "      <th>2</th>\n",
       "      <td>2013</td>\n",
       "      <td>11.434461</td>\n",
       "    </tr>\n",
       "    <tr>\n",
       "      <th>3</th>\n",
       "      <td>2014</td>\n",
       "      <td>8.769931</td>\n",
       "    </tr>\n",
       "    <tr>\n",
       "      <th>4</th>\n",
       "      <td>2015</td>\n",
       "      <td>12.609998</td>\n",
       "    </tr>\n",
       "    <tr>\n",
       "      <th>5</th>\n",
       "      <td>2016</td>\n",
       "      <td>13.829159</td>\n",
       "    </tr>\n",
       "    <tr>\n",
       "      <th>6</th>\n",
       "      <td>2017</td>\n",
       "      <td>12.323803</td>\n",
       "    </tr>\n",
       "    <tr>\n",
       "      <th>7</th>\n",
       "      <td>2018</td>\n",
       "      <td>7.369396</td>\n",
       "    </tr>\n",
       "    <tr>\n",
       "      <th>8</th>\n",
       "      <td>2019</td>\n",
       "      <td>4.421780</td>\n",
       "    </tr>\n",
       "  </tbody>\n",
       "</table>\n",
       "</div>"
      ],
      "text/plain": [
       "   CONTRACT_START  AVG_SALARY_MILLIONS\n",
       "0            2011            10.857031\n",
       "1            2012            10.627476\n",
       "2            2013            11.434461\n",
       "3            2014             8.769931\n",
       "4            2015            12.609998\n",
       "5            2016            13.829159\n",
       "6            2017            12.323803\n",
       "7            2018             7.369396\n",
       "8            2019             4.421780"
      ]
     },
     "metadata": {},
     "output_type": "display_data"
    }
   ],
   "source": [
    "# creating a new dataframe, grouped by the year the contract started, that includes the average salary of contracts given out in that year\n",
    "avg = df_contracts.groupby(\"CONTRACT_START\")[\"AVG_SALARY_MILLIONS\"].mean().reset_index()\n",
    "display(avg)"
   ]
  },
  {
   "cell_type": "code",
   "execution_count": 185,
   "metadata": {},
   "outputs": [
    {
     "data": {
      "image/png": "[encoded data removed]",
      "text/plain": [
       "<Figure size 640x480 with 1 Axes>"
      ]
     },
     "metadata": {},
     "output_type": "display_data"
    }
   ],
   "source": [
    "# creating a line plot that plots the evolution of players' salary\n",
    "import matplotlib.pyplot as plt\n",
    "\n",
    "# plotting the year the contract started on the x-axis and the average salary of all players' who signed contracts in that year on the y-axis\n",
    "plt.plot(avg[\"CONTRACT_START\"], avg[\"AVG_SALARY_MILLIONS\"])\n",
    "\n",
    "# adding a grid\n",
    "plt.grid()\n",
    "\n",
    "# adding a title and labels for the axes\n",
    "plt.title(\"Average salary of contracts that started in each year\")\n",
    "plt.xlabel(\"Year of contract start\")\n",
    "plt.ylabel(\"Average salary in million USDs\")\n",
    "\n",
    "plt.show()"
   ]
  },
  {
   "cell_type": "markdown",
   "metadata": {},
   "source": [
    "### Distribution Chart"
   ]
  },
  {
   "cell_type": "code",
   "execution_count": 186,
   "metadata": {},
   "outputs": [
    {
     "data": {
      "image/png": "[encoded data removed]",
      "text/plain": [
       "<Figure size 640x480 with 1 Axes>"
      ]
     },
     "metadata": {},
     "output_type": "display_data"
    }
   ],
   "source": [
    "# boxplot to visualize the distribution of earnings\n",
    "plt.boxplot(df_contracts[\"AVG_SALARY_MILLIONS\"])\n",
    "\n",
    "# adding title and a label for y-axis, removing the ticks on the x-axis\n",
    "plt.title(\"Boxplot of average salary\")\n",
    "plt.xticks([])\n",
    "plt.ylabel(\"Salary in million USD\")\n",
    "\n",
    "plt.show()"
   ]
  },
  {
   "cell_type": "markdown",
   "metadata": {},
   "source": [
    "### Correlation chart"
   ]
  },
  {
   "cell_type": "code",
   "execution_count": 187,
   "metadata": {},
   "outputs": [
    {
     "data": {
      "text/html": [
       "<div>\n",
       "<style scoped>\n",
       "    .dataframe tbody tr th:only-of-type {\n",
       "        vertical-align: middle;\n",
       "    }\n",
       "\n",
       "    .dataframe tbody tr th {\n",
       "        vertical-align: top;\n",
       "    }\n",
       "\n",
       "    .dataframe thead th {\n",
       "        text-align: right;\n",
       "    }\n",
       "</style>\n",
       "<table border=\"1\" class=\"dataframe\">\n",
       "  <thead>\n",
       "    <tr style=\"text-align: right;\">\n",
       "      <th></th>\n",
       "      <th>NAME</th>\n",
       "      <th>CONTRACT_START</th>\n",
       "      <th>CONTRACT_END</th>\n",
       "      <th>AVG_SALARY</th>\n",
       "      <th>AGE</th>\n",
       "      <th>GP</th>\n",
       "      <th>W</th>\n",
       "      <th>L</th>\n",
       "      <th>MIN</th>\n",
       "      <th>PTS</th>\n",
       "      <th>...</th>\n",
       "      <th>DREB</th>\n",
       "      <th>REB</th>\n",
       "      <th>AST</th>\n",
       "      <th>TOV</th>\n",
       "      <th>STL</th>\n",
       "      <th>BLK</th>\n",
       "      <th>PF</th>\n",
       "      <th>+/-</th>\n",
       "      <th>AVG_SALARY_MILLIONS</th>\n",
       "      <th>PPG</th>\n",
       "    </tr>\n",
       "  </thead>\n",
       "  <tbody>\n",
       "    <tr>\n",
       "      <th>0</th>\n",
       "      <td>Wesley Matthews</td>\n",
       "      <td>2019</td>\n",
       "      <td>2020</td>\n",
       "      <td>2564753.0</td>\n",
       "      <td>32.0</td>\n",
       "      <td>69.0</td>\n",
       "      <td>27.0</td>\n",
       "      <td>42.0</td>\n",
       "      <td>2091.0</td>\n",
       "      <td>840.0</td>\n",
       "      <td>...</td>\n",
       "      <td>138.0</td>\n",
       "      <td>170.0</td>\n",
       "      <td>160.0</td>\n",
       "      <td>91.0</td>\n",
       "      <td>54.0</td>\n",
       "      <td>17.0</td>\n",
       "      <td>160.0</td>\n",
       "      <td>-90.0</td>\n",
       "      <td>2.564753</td>\n",
       "      <td>10.243902</td>\n",
       "    </tr>\n",
       "    <tr>\n",
       "      <th>1</th>\n",
       "      <td>Brook Lopez</td>\n",
       "      <td>2015</td>\n",
       "      <td>2017</td>\n",
       "      <td>21165675.0</td>\n",
       "      <td>27.0</td>\n",
       "      <td>72.0</td>\n",
       "      <td>34.0</td>\n",
       "      <td>38.0</td>\n",
       "      <td>2100.0</td>\n",
       "      <td>1236.0</td>\n",
       "      <td>...</td>\n",
       "      <td>321.0</td>\n",
       "      <td>535.0</td>\n",
       "      <td>50.0</td>\n",
       "      <td>104.0</td>\n",
       "      <td>43.0</td>\n",
       "      <td>126.0</td>\n",
       "      <td>206.0</td>\n",
       "      <td>-104.0</td>\n",
       "      <td>21.165675</td>\n",
       "      <td>15.073171</td>\n",
       "    </tr>\n",
       "    <tr>\n",
       "      <th>2</th>\n",
       "      <td>DeAndre Jordan</td>\n",
       "      <td>2011</td>\n",
       "      <td>2014</td>\n",
       "      <td>10759763.5</td>\n",
       "      <td>22.0</td>\n",
       "      <td>80.0</td>\n",
       "      <td>31.0</td>\n",
       "      <td>49.0</td>\n",
       "      <td>2047.0</td>\n",
       "      <td>566.0</td>\n",
       "      <td>...</td>\n",
       "      <td>368.0</td>\n",
       "      <td>575.0</td>\n",
       "      <td>42.0</td>\n",
       "      <td>101.0</td>\n",
       "      <td>41.0</td>\n",
       "      <td>142.0</td>\n",
       "      <td>255.0</td>\n",
       "      <td>-100.0</td>\n",
       "      <td>10.759764</td>\n",
       "      <td>6.902439</td>\n",
       "    </tr>\n",
       "    <tr>\n",
       "      <th>3</th>\n",
       "      <td>Markieff Morris</td>\n",
       "      <td>2015</td>\n",
       "      <td>2018</td>\n",
       "      <td>8143323.5</td>\n",
       "      <td>25.0</td>\n",
       "      <td>82.0</td>\n",
       "      <td>39.0</td>\n",
       "      <td>43.0</td>\n",
       "      <td>2581.0</td>\n",
       "      <td>1258.0</td>\n",
       "      <td>...</td>\n",
       "      <td>396.0</td>\n",
       "      <td>506.0</td>\n",
       "      <td>192.0</td>\n",
       "      <td>170.0</td>\n",
       "      <td>101.0</td>\n",
       "      <td>39.0</td>\n",
       "      <td>245.0</td>\n",
       "      <td>105.0</td>\n",
       "      <td>8.143323</td>\n",
       "      <td>15.341463</td>\n",
       "    </tr>\n",
       "    <tr>\n",
       "      <th>4</th>\n",
       "      <td>Dwight Howard</td>\n",
       "      <td>2018</td>\n",
       "      <td>2019</td>\n",
       "      <td>13410739.0</td>\n",
       "      <td>32.0</td>\n",
       "      <td>81.0</td>\n",
       "      <td>35.0</td>\n",
       "      <td>46.0</td>\n",
       "      <td>2463.0</td>\n",
       "      <td>1347.0</td>\n",
       "      <td>...</td>\n",
       "      <td>757.0</td>\n",
       "      <td>1012.0</td>\n",
       "      <td>105.0</td>\n",
       "      <td>208.0</td>\n",
       "      <td>48.0</td>\n",
       "      <td>131.0</td>\n",
       "      <td>249.0</td>\n",
       "      <td>89.0</td>\n",
       "      <td>13.410739</td>\n",
       "      <td>16.426829</td>\n",
       "    </tr>\n",
       "  </tbody>\n",
       "</table>\n",
       "<p>5 rows × 30 columns</p>\n",
       "</div>"
      ],
      "text/plain": [
       "              NAME  CONTRACT_START  CONTRACT_END  AVG_SALARY   AGE    GP  \\\n",
       "0  Wesley Matthews            2019          2020   2564753.0  32.0  69.0   \n",
       "1      Brook Lopez            2015          2017  21165675.0  27.0  72.0   \n",
       "2   DeAndre Jordan            2011          2014  10759763.5  22.0  80.0   \n",
       "3  Markieff Morris            2015          2018   8143323.5  25.0  82.0   \n",
       "4    Dwight Howard            2018          2019  13410739.0  32.0  81.0   \n",
       "\n",
       "      W     L     MIN     PTS  ...   DREB     REB    AST    TOV    STL    BLK  \\\n",
       "0  27.0  42.0  2091.0   840.0  ...  138.0   170.0  160.0   91.0   54.0   17.0   \n",
       "1  34.0  38.0  2100.0  1236.0  ...  321.0   535.0   50.0  104.0   43.0  126.0   \n",
       "2  31.0  49.0  2047.0   566.0  ...  368.0   575.0   42.0  101.0   41.0  142.0   \n",
       "3  39.0  43.0  2581.0  1258.0  ...  396.0   506.0  192.0  170.0  101.0   39.0   \n",
       "4  35.0  46.0  2463.0  1347.0  ...  757.0  1012.0  105.0  208.0   48.0  131.0   \n",
       "\n",
       "      PF    +/-  AVG_SALARY_MILLIONS        PPG  \n",
       "0  160.0  -90.0             2.564753  10.243902  \n",
       "1  206.0 -104.0            21.165675  15.073171  \n",
       "2  255.0 -100.0            10.759764   6.902439  \n",
       "3  245.0  105.0             8.143323  15.341463  \n",
       "4  249.0   89.0            13.410739  16.426829  \n",
       "\n",
       "[5 rows x 30 columns]"
      ]
     },
     "execution_count": 187,
     "metadata": {},
     "output_type": "execute_result"
    }
   ],
   "source": [
    "# adding a points-per-game-column, since it is a more common measure for evaluating players' scoring\n",
    "df_contracts[\"PPG\"] = df_contracts[\"PTS\"] / 82\n",
    "df_contracts.head()"
   ]
  },
  {
   "cell_type": "code",
   "execution_count": 188,
   "metadata": {},
   "outputs": [
    {
     "data": {
      "image/png": "[encoded data removed]",
      "text/plain": [
       "<Figure size 640x480 with 1 Axes>"
      ]
     },
     "metadata": {},
     "output_type": "display_data"
    }
   ],
   "source": [
    "# creating a scatterplot to visualize the correlation between players' scoring and the contract they signed in the season following\n",
    "plt.scatter(df_contracts[\"PPG\"], df_contracts[\"AVG_SALARY_MILLIONS\"])\n",
    "\n",
    "# adding title and labels for the axes\n",
    "plt.title(\"Players' PPG and their new contract earnings the following season\")\n",
    "plt.xlabel(\"Points per game in season prior to signing contract\")\n",
    "plt.ylabel(\"Average salary of contract in following season (million USD)\")\n",
    "\n",
    "plt.show()"
   ]
  },
  {
   "cell_type": "markdown",
   "metadata": {},
   "source": [
    "## Part two"
   ]
  },
  {
   "cell_type": "code",
   "execution_count": 189,
   "metadata": {},
   "outputs": [
    {
     "data": {
      "text/html": [
       "<div>\n",
       "<style scoped>\n",
       "    .dataframe tbody tr th:only-of-type {\n",
       "        vertical-align: middle;\n",
       "    }\n",
       "\n",
       "    .dataframe tbody tr th {\n",
       "        vertical-align: top;\n",
       "    }\n",
       "\n",
       "    .dataframe thead th {\n",
       "        text-align: right;\n",
       "    }\n",
       "</style>\n",
       "<table border=\"1\" class=\"dataframe\">\n",
       "  <thead>\n",
       "    <tr style=\"text-align: right;\">\n",
       "      <th></th>\n",
       "      <th>show_id</th>\n",
       "      <th>type</th>\n",
       "      <th>title</th>\n",
       "      <th>director</th>\n",
       "      <th>cast</th>\n",
       "      <th>country</th>\n",
       "      <th>date_added</th>\n",
       "      <th>release_year</th>\n",
       "      <th>rating</th>\n",
       "      <th>duration</th>\n",
       "      <th>listed_in</th>\n",
       "      <th>description</th>\n",
       "    </tr>\n",
       "  </thead>\n",
       "  <tbody>\n",
       "    <tr>\n",
       "      <th>0</th>\n",
       "      <td>s1</td>\n",
       "      <td>Movie</td>\n",
       "      <td>Dick Johnson Is Dead</td>\n",
       "      <td>Kirsten Johnson</td>\n",
       "      <td>NaN</td>\n",
       "      <td>United States</td>\n",
       "      <td>September 25, 2021</td>\n",
       "      <td>2020</td>\n",
       "      <td>PG-13</td>\n",
       "      <td>90 min</td>\n",
       "      <td>Documentaries</td>\n",
       "      <td>As her father nears the end of his life, filmm...</td>\n",
       "    </tr>\n",
       "    <tr>\n",
       "      <th>1</th>\n",
       "      <td>s2</td>\n",
       "      <td>TV Show</td>\n",
       "      <td>Blood &amp; Water</td>\n",
       "      <td>NaN</td>\n",
       "      <td>Ama Qamata, Khosi Ngema, Gail Mabalane, Thaban...</td>\n",
       "      <td>South Africa</td>\n",
       "      <td>September 24, 2021</td>\n",
       "      <td>2021</td>\n",
       "      <td>TV-MA</td>\n",
       "      <td>2 Seasons</td>\n",
       "      <td>International TV Shows, TV Dramas, TV Mysteries</td>\n",
       "      <td>After crossing paths at a party, a Cape Town t...</td>\n",
       "    </tr>\n",
       "    <tr>\n",
       "      <th>2</th>\n",
       "      <td>s3</td>\n",
       "      <td>TV Show</td>\n",
       "      <td>Ganglands</td>\n",
       "      <td>Julien Leclercq</td>\n",
       "      <td>Sami Bouajila, Tracy Gotoas, Samuel Jouy, Nabi...</td>\n",
       "      <td>NaN</td>\n",
       "      <td>September 24, 2021</td>\n",
       "      <td>2021</td>\n",
       "      <td>TV-MA</td>\n",
       "      <td>1 Season</td>\n",
       "      <td>Crime TV Shows, International TV Shows, TV Act...</td>\n",
       "      <td>To protect his family from a powerful drug lor...</td>\n",
       "    </tr>\n",
       "    <tr>\n",
       "      <th>3</th>\n",
       "      <td>s4</td>\n",
       "      <td>TV Show</td>\n",
       "      <td>Jailbirds New Orleans</td>\n",
       "      <td>NaN</td>\n",
       "      <td>NaN</td>\n",
       "      <td>NaN</td>\n",
       "      <td>September 24, 2021</td>\n",
       "      <td>2021</td>\n",
       "      <td>TV-MA</td>\n",
       "      <td>1 Season</td>\n",
       "      <td>Docuseries, Reality TV</td>\n",
       "      <td>Feuds, flirtations and toilet talk go down amo...</td>\n",
       "    </tr>\n",
       "    <tr>\n",
       "      <th>4</th>\n",
       "      <td>s5</td>\n",
       "      <td>TV Show</td>\n",
       "      <td>Kota Factory</td>\n",
       "      <td>NaN</td>\n",
       "      <td>Mayur More, Jitendra Kumar, Ranjan Raj, Alam K...</td>\n",
       "      <td>India</td>\n",
       "      <td>September 24, 2021</td>\n",
       "      <td>2021</td>\n",
       "      <td>TV-MA</td>\n",
       "      <td>2 Seasons</td>\n",
       "      <td>International TV Shows, Romantic TV Shows, TV ...</td>\n",
       "      <td>In a city of coaching centers known to train I...</td>\n",
       "    </tr>\n",
       "  </tbody>\n",
       "</table>\n",
       "</div>"
      ],
      "text/plain": [
       "  show_id     type                  title         director  \\\n",
       "0      s1    Movie   Dick Johnson Is Dead  Kirsten Johnson   \n",
       "1      s2  TV Show          Blood & Water              NaN   \n",
       "2      s3  TV Show              Ganglands  Julien Leclercq   \n",
       "3      s4  TV Show  Jailbirds New Orleans              NaN   \n",
       "4      s5  TV Show           Kota Factory              NaN   \n",
       "\n",
       "                                                cast        country  \\\n",
       "0                                                NaN  United States   \n",
       "1  Ama Qamata, Khosi Ngema, Gail Mabalane, Thaban...   South Africa   \n",
       "2  Sami Bouajila, Tracy Gotoas, Samuel Jouy, Nabi...            NaN   \n",
       "3                                                NaN            NaN   \n",
       "4  Mayur More, Jitendra Kumar, Ranjan Raj, Alam K...          India   \n",
       "\n",
       "           date_added  release_year rating   duration  \\\n",
       "0  September 25, 2021          2020  PG-13     90 min   \n",
       "1  September 24, 2021          2021  TV-MA  2 Seasons   \n",
       "2  September 24, 2021          2021  TV-MA   1 Season   \n",
       "3  September 24, 2021          2021  TV-MA   1 Season   \n",
       "4  September 24, 2021          2021  TV-MA  2 Seasons   \n",
       "\n",
       "                                           listed_in  \\\n",
       "0                                      Documentaries   \n",
       "1    International TV Shows, TV Dramas, TV Mysteries   \n",
       "2  Crime TV Shows, International TV Shows, TV Act...   \n",
       "3                             Docuseries, Reality TV   \n",
       "4  International TV Shows, Romantic TV Shows, TV ...   \n",
       "\n",
       "                                         description  \n",
       "0  As her father nears the end of his life, filmm...  \n",
       "1  After crossing paths at a party, a Cape Town t...  \n",
       "2  To protect his family from a powerful drug lor...  \n",
       "3  Feuds, flirtations and toilet talk go down amo...  \n",
       "4  In a city of coaching centers known to train I...  "
      ]
     },
     "execution_count": 189,
     "metadata": {},
     "output_type": "execute_result"
    }
   ],
   "source": [
    "# reading in the data\n",
    "df_netflix = pd.read_csv(\"./netflix.csv\")\n",
    "df_netflix.head()"
   ]
  },
  {
   "cell_type": "markdown",
   "metadata": {},
   "source": [
    "### Part of a whole chart"
   ]
  },
  {
   "cell_type": "code",
   "execution_count": 190,
   "metadata": {},
   "outputs": [
    {
     "data": {
      "text/html": [
       "<div>\n",
       "<style scoped>\n",
       "    .dataframe tbody tr th:only-of-type {\n",
       "        vertical-align: middle;\n",
       "    }\n",
       "\n",
       "    .dataframe tbody tr th {\n",
       "        vertical-align: top;\n",
       "    }\n",
       "\n",
       "    .dataframe thead th {\n",
       "        text-align: right;\n",
       "    }\n",
       "</style>\n",
       "<table border=\"1\" class=\"dataframe\">\n",
       "  <thead>\n",
       "    <tr style=\"text-align: right;\">\n",
       "      <th></th>\n",
       "      <th>percentage</th>\n",
       "    </tr>\n",
       "    <tr>\n",
       "      <th>release_year</th>\n",
       "      <th></th>\n",
       "    </tr>\n",
       "  </thead>\n",
       "  <tbody>\n",
       "    <tr>\n",
       "      <th>1925</th>\n",
       "      <td>0.011355</td>\n",
       "    </tr>\n",
       "    <tr>\n",
       "      <th>1942</th>\n",
       "      <td>0.022709</td>\n",
       "    </tr>\n",
       "    <tr>\n",
       "      <th>1943</th>\n",
       "      <td>0.034064</td>\n",
       "    </tr>\n",
       "    <tr>\n",
       "      <th>1944</th>\n",
       "      <td>0.034064</td>\n",
       "    </tr>\n",
       "    <tr>\n",
       "      <th>1945</th>\n",
       "      <td>0.045418</td>\n",
       "    </tr>\n",
       "  </tbody>\n",
       "</table>\n",
       "</div>"
      ],
      "text/plain": [
       "              percentage\n",
       "release_year            \n",
       "1925            0.011355\n",
       "1942            0.022709\n",
       "1943            0.034064\n",
       "1944            0.034064\n",
       "1945            0.045418"
      ]
     },
     "execution_count": 190,
     "metadata": {},
     "output_type": "execute_result"
    }
   ],
   "source": [
    "# counting the values of every release year and getting the number of rows\n",
    "year_counts = df_netflix['release_year'].value_counts()\n",
    "total_movies = df_netflix.shape[0]\n",
    "\n",
    "# calculating percentage for each year\n",
    "year_percentages = (year_counts / total_movies) * 100\n",
    "\n",
    "# creating a new dataframe\n",
    "percentage_df = pd.DataFrame(year_percentages).reset_index()\n",
    "# only selecting the wanted columns\n",
    "percentage_df.columns = [\"release_year\", \"percentage\"]\n",
    "# sorting the dataframe by release year\n",
    "percentage_df = percentage_df.sort_values(by=\"release_year\")\n",
    "\n",
    "# setting release year as the index for plot creation\n",
    "percentage_df.set_index(\"release_year\", inplace=True)\n",
    "\n",
    "percentage_df.head()"
   ]
  },
  {
   "cell_type": "code",
   "execution_count": 196,
   "metadata": {},
   "outputs": [
    {
     "data": {
      "image/png": "[encoded data removed]",
      "text/plain": [
       "<Figure size 640x480 with 1 Axes>"
      ]
     },
     "metadata": {},
     "output_type": "display_data"
    }
   ],
   "source": [
    "# creating the pie chart\n",
    "plt.pie(percentage_df[\"percentage\"], labels=percentage_df.index,\n",
    "        autopct='%1.1f%%', pctdistance=0.85)\n",
    " \n",
    "# drawing the circle\n",
    "centre_circle = plt.Circle((0, 0), 0.70, fc='white')\n",
    "fig = plt.gcf()\n",
    " \n",
    "# adding a circle to the pie chart to make it a doughnut chart\n",
    "fig.gca().add_artist(centre_circle)\n",
    " \n",
    "# adding a title\n",
    "plt.title(\"Percentage of Movies Released By Year\")\n",
    " \n",
    "# showing chart\n",
    "plt.show()"
   ]
  },
  {
   "cell_type": "markdown",
   "metadata": {},
   "source": [
    "### Map chart"
   ]
  },
  {
   "cell_type": "code",
   "execution_count": null,
   "metadata": {},
   "outputs": [
    {
     "data": {
      "text/html": [
       "<div>\n",
       "<style scoped>\n",
       "    .dataframe tbody tr th:only-of-type {\n",
       "        vertical-align: middle;\n",
       "    }\n",
       "\n",
       "    .dataframe tbody tr th {\n",
       "        vertical-align: top;\n",
       "    }\n",
       "\n",
       "    .dataframe thead th {\n",
       "        text-align: right;\n",
       "    }\n",
       "</style>\n",
       "<table border=\"1\" class=\"dataframe\">\n",
       "  <thead>\n",
       "    <tr style=\"text-align: right;\">\n",
       "      <th></th>\n",
       "      <th>country</th>\n",
       "      <th>count</th>\n",
       "    </tr>\n",
       "  </thead>\n",
       "  <tbody>\n",
       "    <tr>\n",
       "      <th>0</th>\n",
       "      <td>United States of America</td>\n",
       "      <td>2818</td>\n",
       "    </tr>\n",
       "    <tr>\n",
       "      <th>1</th>\n",
       "      <td>India</td>\n",
       "      <td>972</td>\n",
       "    </tr>\n",
       "    <tr>\n",
       "      <th>2</th>\n",
       "      <td>United Kingdom</td>\n",
       "      <td>419</td>\n",
       "    </tr>\n",
       "    <tr>\n",
       "      <th>3</th>\n",
       "      <td>Japan</td>\n",
       "      <td>245</td>\n",
       "    </tr>\n",
       "    <tr>\n",
       "      <th>4</th>\n",
       "      <td>South Korea</td>\n",
       "      <td>199</td>\n",
       "    </tr>\n",
       "    <tr>\n",
       "      <th>5</th>\n",
       "      <td>Canada</td>\n",
       "      <td>181</td>\n",
       "    </tr>\n",
       "    <tr>\n",
       "      <th>6</th>\n",
       "      <td>Spain</td>\n",
       "      <td>145</td>\n",
       "    </tr>\n",
       "    <tr>\n",
       "      <th>7</th>\n",
       "      <td>France</td>\n",
       "      <td>124</td>\n",
       "    </tr>\n",
       "    <tr>\n",
       "      <th>8</th>\n",
       "      <td>Mexico</td>\n",
       "      <td>110</td>\n",
       "    </tr>\n",
       "    <tr>\n",
       "      <th>9</th>\n",
       "      <td>Egypt</td>\n",
       "      <td>106</td>\n",
       "    </tr>\n",
       "    <tr>\n",
       "      <th>10</th>\n",
       "      <td>Turkey</td>\n",
       "      <td>105</td>\n",
       "    </tr>\n",
       "    <tr>\n",
       "      <th>11</th>\n",
       "      <td>Nigeria</td>\n",
       "      <td>95</td>\n",
       "    </tr>\n",
       "    <tr>\n",
       "      <th>12</th>\n",
       "      <td>Australia</td>\n",
       "      <td>87</td>\n",
       "    </tr>\n",
       "    <tr>\n",
       "      <th>13</th>\n",
       "      <td>Taiwan</td>\n",
       "      <td>81</td>\n",
       "    </tr>\n",
       "    <tr>\n",
       "      <th>14</th>\n",
       "      <td>Indonesia</td>\n",
       "      <td>79</td>\n",
       "    </tr>\n",
       "  </tbody>\n",
       "</table>\n",
       "</div>"
      ],
      "text/plain": [
       "                     country  count\n",
       "0   United States of America   2818\n",
       "1                      India    972\n",
       "2             United Kingdom    419\n",
       "3                      Japan    245\n",
       "4                South Korea    199\n",
       "5                     Canada    181\n",
       "6                      Spain    145\n",
       "7                     France    124\n",
       "8                     Mexico    110\n",
       "9                      Egypt    106\n",
       "10                    Turkey    105\n",
       "11                   Nigeria     95\n",
       "12                 Australia     87\n",
       "13                    Taiwan     81\n",
       "14                 Indonesia     79"
      ]
     },
     "metadata": {},
     "output_type": "display_data"
    }
   ],
   "source": [
    "# counting all the rows for each value in the country-column and only taking the top-15\n",
    "country_counts = df_netflix[\"country\"].value_counts()\n",
    "country_counts = country_counts[:15]\n",
    "\n",
    "# putting the counts in a dataframe and resetting the index\n",
    "country_counts_df = pd.DataFrame(country_counts).reset_index()\n",
    "\n",
    "# changing the value of \"USA\" to \"United States of America\" for automatic recognition by the map\n",
    "country_counts_df.iloc[0,0] = \"United States of America\"\n",
    "\n",
    "display(country_counts_df)"
   ]
  },
  {
   "cell_type": "code",
   "execution_count": null,
   "metadata": {},
   "outputs": [
    {
     "name": "stderr",
     "output_type": "stream",
     "text": [
      "C:\\Users\\hausb\\AppData\\Local\\Temp\\ipykernel_29204\\1591676285.py:6: FutureWarning:\n",
      "\n",
      "The geopandas.dataset module is deprecated and will be removed in GeoPandas 1.0. You can get the original 'naturalearth_lowres' data from https://www.naturalearthdata.com/downloads/110m-cultural-vectors/.\n",
      "\n"
     ]
    },
    {
     "data": {
      "image/png": "[encoded data removed]",
      "text/plain": [
       "<Figure size 1500x1000 with 1 Axes>"
      ]
     },
     "metadata": {},
     "output_type": "display_data"
    }
   ],
   "source": [
    "import pandas as pd\n",
    "import geopandas as gpd\n",
    "import matplotlib.pyplot as plt\n",
    "\n",
    "# loading the world map\n",
    "world = gpd.read_file(gpd.datasets.get_path(\"naturalearth_lowres\"))\n",
    "\n",
    "# merging dataframe with the world map\n",
    "world = world.merge(country_counts_df, how=\"left\", left_on=\"name\", right_on=\"country\")\n",
    "\n",
    "# plotting the map\n",
    "fig, ax = plt.subplots(1, 1, figsize=(15, 10))\n",
    "world.boundary.plot(ax=ax, linewidth=1)\n",
    "\n",
    "# adding text for each country showing the number of movies/shows for each country on the map\n",
    "for idx, row in world.iterrows():\n",
    "    if pd.notna(row[\"count\"]):\n",
    "        plt.annotate(text=int(row[\"count\"]), xy=(row[\"geometry\"].centroid.x, row[\"geometry\"].centroid.y),\n",
    "                     horizontalalignment=\"center\", fontsize=8, color=\"blue\")\n",
    "\n",
    "# adding a title\n",
    "plt.title(\"The 15 countries that produce the most movies/ tv shows (in Netflix sample)\")\n",
    "\n",
    "# removing the ticks on the axes\n",
    "plt.xticks([])\n",
    "plt.yticks([])\n",
    "\n",
    "plt.show()"
   ]
  },
  {
   "cell_type": "markdown",
   "metadata": {},
   "source": [
    "### Flow chart"
   ]
  },
  {
   "cell_type": "code",
   "execution_count": null,
   "metadata": {},
   "outputs": [
    {
     "data": {
      "text/html": [
       "<div>\n",
       "<style scoped>\n",
       "    .dataframe tbody tr th:only-of-type {\n",
       "        vertical-align: middle;\n",
       "    }\n",
       "\n",
       "    .dataframe tbody tr th {\n",
       "        vertical-align: top;\n",
       "    }\n",
       "\n",
       "    .dataframe thead th {\n",
       "        text-align: right;\n",
       "    }\n",
       "</style>\n",
       "<table border=\"1\" class=\"dataframe\">\n",
       "  <thead>\n",
       "    <tr style=\"text-align: right;\">\n",
       "      <th></th>\n",
       "      <th>show_id</th>\n",
       "      <th>type</th>\n",
       "      <th>title</th>\n",
       "      <th>director</th>\n",
       "      <th>cast</th>\n",
       "      <th>country</th>\n",
       "      <th>date_added</th>\n",
       "      <th>release_year</th>\n",
       "      <th>rating</th>\n",
       "      <th>duration</th>\n",
       "      <th>listed_in</th>\n",
       "      <th>description</th>\n",
       "    </tr>\n",
       "  </thead>\n",
       "  <tbody>\n",
       "    <tr>\n",
       "      <th>0</th>\n",
       "      <td>s1</td>\n",
       "      <td>Movie</td>\n",
       "      <td>Dick Johnson Is Dead</td>\n",
       "      <td>Kirsten Johnson</td>\n",
       "      <td>NaN</td>\n",
       "      <td>United States</td>\n",
       "      <td>September 25, 2021</td>\n",
       "      <td>2020</td>\n",
       "      <td>PG-13</td>\n",
       "      <td>90 min</td>\n",
       "      <td>Documentaries</td>\n",
       "      <td>As her father nears the end of his life, filmm...</td>\n",
       "    </tr>\n",
       "    <tr>\n",
       "      <th>1</th>\n",
       "      <td>s2</td>\n",
       "      <td>TV Show</td>\n",
       "      <td>Blood &amp; Water</td>\n",
       "      <td>NaN</td>\n",
       "      <td>Ama Qamata, Khosi Ngema, Gail Mabalane, Thaban...</td>\n",
       "      <td>South Africa</td>\n",
       "      <td>September 24, 2021</td>\n",
       "      <td>2021</td>\n",
       "      <td>TV-MA</td>\n",
       "      <td>2 Seasons</td>\n",
       "      <td>International TV Shows, TV Dramas, TV Mysteries</td>\n",
       "      <td>After crossing paths at a party, a Cape Town t...</td>\n",
       "    </tr>\n",
       "    <tr>\n",
       "      <th>2</th>\n",
       "      <td>s3</td>\n",
       "      <td>TV Show</td>\n",
       "      <td>Ganglands</td>\n",
       "      <td>Julien Leclercq</td>\n",
       "      <td>Sami Bouajila, Tracy Gotoas, Samuel Jouy, Nabi...</td>\n",
       "      <td>NaN</td>\n",
       "      <td>September 24, 2021</td>\n",
       "      <td>2021</td>\n",
       "      <td>TV-MA</td>\n",
       "      <td>1 Season</td>\n",
       "      <td>Crime TV Shows, International TV Shows, TV Act...</td>\n",
       "      <td>To protect his family from a powerful drug lor...</td>\n",
       "    </tr>\n",
       "    <tr>\n",
       "      <th>3</th>\n",
       "      <td>s4</td>\n",
       "      <td>TV Show</td>\n",
       "      <td>Jailbirds New Orleans</td>\n",
       "      <td>NaN</td>\n",
       "      <td>NaN</td>\n",
       "      <td>NaN</td>\n",
       "      <td>September 24, 2021</td>\n",
       "      <td>2021</td>\n",
       "      <td>TV-MA</td>\n",
       "      <td>1 Season</td>\n",
       "      <td>Docuseries, Reality TV</td>\n",
       "      <td>Feuds, flirtations and toilet talk go down amo...</td>\n",
       "    </tr>\n",
       "    <tr>\n",
       "      <th>4</th>\n",
       "      <td>s5</td>\n",
       "      <td>TV Show</td>\n",
       "      <td>Kota Factory</td>\n",
       "      <td>NaN</td>\n",
       "      <td>Mayur More, Jitendra Kumar, Ranjan Raj, Alam K...</td>\n",
       "      <td>India</td>\n",
       "      <td>September 24, 2021</td>\n",
       "      <td>2021</td>\n",
       "      <td>TV-MA</td>\n",
       "      <td>2 Seasons</td>\n",
       "      <td>International TV Shows, Romantic TV Shows, TV ...</td>\n",
       "      <td>In a city of coaching centers known to train I...</td>\n",
       "    </tr>\n",
       "  </tbody>\n",
       "</table>\n",
       "</div>"
      ],
      "text/plain": [
       "  show_id     type                  title         director  \\\n",
       "0      s1    Movie   Dick Johnson Is Dead  Kirsten Johnson   \n",
       "1      s2  TV Show          Blood & Water              NaN   \n",
       "2      s3  TV Show              Ganglands  Julien Leclercq   \n",
       "3      s4  TV Show  Jailbirds New Orleans              NaN   \n",
       "4      s5  TV Show           Kota Factory              NaN   \n",
       "\n",
       "                                                cast        country  \\\n",
       "0                                                NaN  United States   \n",
       "1  Ama Qamata, Khosi Ngema, Gail Mabalane, Thaban...   South Africa   \n",
       "2  Sami Bouajila, Tracy Gotoas, Samuel Jouy, Nabi...            NaN   \n",
       "3                                                NaN            NaN   \n",
       "4  Mayur More, Jitendra Kumar, Ranjan Raj, Alam K...          India   \n",
       "\n",
       "           date_added  release_year rating   duration  \\\n",
       "0  September 25, 2021          2020  PG-13     90 min   \n",
       "1  September 24, 2021          2021  TV-MA  2 Seasons   \n",
       "2  September 24, 2021          2021  TV-MA   1 Season   \n",
       "3  September 24, 2021          2021  TV-MA   1 Season   \n",
       "4  September 24, 2021          2021  TV-MA  2 Seasons   \n",
       "\n",
       "                                           listed_in  \\\n",
       "0                                      Documentaries   \n",
       "1    International TV Shows, TV Dramas, TV Mysteries   \n",
       "2  Crime TV Shows, International TV Shows, TV Act...   \n",
       "3                             Docuseries, Reality TV   \n",
       "4  International TV Shows, Romantic TV Shows, TV ...   \n",
       "\n",
       "                                         description  \n",
       "0  As her father nears the end of his life, filmm...  \n",
       "1  After crossing paths at a party, a Cape Town t...  \n",
       "2  To protect his family from a powerful drug lor...  \n",
       "3  Feuds, flirtations and toilet talk go down amo...  \n",
       "4  In a city of coaching centers known to train I...  "
      ]
     },
     "execution_count": 147,
     "metadata": {},
     "output_type": "execute_result"
    }
   ],
   "source": [
    "# filtering out rows that do not contain a director or a title and shortening the df to 50 rows\n",
    "df_netflix2 = df_netflix[df_netflix[\"director\"].notna()]\n",
    "df_netflix2 = df_netflix[df_netflix[\"title\"].notna()]\n",
    "df_netflix2 = df_netflix[:50]\n",
    "df_netflix2.head()"
   ]
  },
  {
   "cell_type": "code",
   "execution_count": null,
   "metadata": {},
   "outputs": [
    {
     "data": {
      "image/png": "[encoded data removed]",
      "text/plain": [
       "<Figure size 800x600 with 1 Axes>"
      ]
     },
     "metadata": {},
     "output_type": "display_data"
    }
   ],
   "source": [
    "import pandas as pd\n",
    "import networkx as nx\n",
    "import matplotlib.pyplot as plt\n",
    "\n",
    "# creating the graph\n",
    "G = nx.Graph()\n",
    "\n",
    "# adding edges to the graph\n",
    "for i, row in df_netflix2.iterrows():\n",
    "    G.add_edge(row['director'], row['title'])\n",
    "\n",
    "# ensuring all nodes are added, including isolated nodes\n",
    "all_nodes = set(df_netflix2['director']).union(set(df_netflix2['title']))\n",
    "G.add_nodes_from(all_nodes)\n",
    "\n",
    "# generating positions for all nodes\n",
    "pos = nx.spring_layout(G)\n",
    "\n",
    "# drawing the network diagram\n",
    "plt.figure(figsize=(8, 6))\n",
    "nx.draw(G, pos, with_labels=True, node_color='lightblue', node_size=3000, edge_color='gray', font_size=10, font_weight='bold')\n",
    "\n",
    "# highlighting directors with a different color\n",
    "director_nodes = df_netflix2['director'].unique()\n",
    "nx.draw_networkx_nodes(G, pos, nodelist=director_nodes, node_color='orange', node_size=3000)\n",
    "\n",
    "plt.title('Network Diagram of Directors and Titles on Netflix')\n",
    "plt.show()"
   ]
  },
  {
   "cell_type": "markdown",
   "metadata": {},
   "source": [
    "## Bonus part"
   ]
  },
  {
   "cell_type": "code",
   "execution_count": null,
   "metadata": {},
   "outputs": [
    {
     "data": {
      "text/html": [
       "<div>\n",
       "<style scoped>\n",
       "    .dataframe tbody tr th:only-of-type {\n",
       "        vertical-align: middle;\n",
       "    }\n",
       "\n",
       "    .dataframe tbody tr th {\n",
       "        vertical-align: top;\n",
       "    }\n",
       "\n",
       "    .dataframe thead th {\n",
       "        text-align: right;\n",
       "    }\n",
       "</style>\n",
       "<table border=\"1\" class=\"dataframe\">\n",
       "  <thead>\n",
       "    <tr style=\"text-align: right;\">\n",
       "      <th></th>\n",
       "      <th>Data Source</th>\n",
       "      <th>World Development Indicators</th>\n",
       "      <th>Unnamed: 2</th>\n",
       "      <th>Unnamed: 3</th>\n",
       "      <th>Unnamed: 4</th>\n",
       "      <th>Unnamed: 5</th>\n",
       "      <th>Unnamed: 6</th>\n",
       "      <th>Unnamed: 7</th>\n",
       "      <th>Unnamed: 8</th>\n",
       "      <th>Unnamed: 9</th>\n",
       "      <th>...</th>\n",
       "      <th>Unnamed: 58</th>\n",
       "      <th>Unnamed: 59</th>\n",
       "      <th>Unnamed: 60</th>\n",
       "      <th>Unnamed: 61</th>\n",
       "      <th>Unnamed: 62</th>\n",
       "      <th>Unnamed: 63</th>\n",
       "      <th>Unnamed: 64</th>\n",
       "      <th>Unnamed: 65</th>\n",
       "      <th>Unnamed: 66</th>\n",
       "      <th>Unnamed: 67</th>\n",
       "    </tr>\n",
       "  </thead>\n",
       "  <tbody>\n",
       "    <tr>\n",
       "      <th>0</th>\n",
       "      <td>Last Updated Date</td>\n",
       "      <td>2024-05-30 00:00:00</td>\n",
       "      <td>NaN</td>\n",
       "      <td>NaN</td>\n",
       "      <td>NaN</td>\n",
       "      <td>NaN</td>\n",
       "      <td>NaN</td>\n",
       "      <td>NaN</td>\n",
       "      <td>NaN</td>\n",
       "      <td>NaN</td>\n",
       "      <td>...</td>\n",
       "      <td>NaN</td>\n",
       "      <td>NaN</td>\n",
       "      <td>NaN</td>\n",
       "      <td>NaN</td>\n",
       "      <td>NaN</td>\n",
       "      <td>NaN</td>\n",
       "      <td>NaN</td>\n",
       "      <td>NaN</td>\n",
       "      <td>NaN</td>\n",
       "      <td>NaN</td>\n",
       "    </tr>\n",
       "    <tr>\n",
       "      <th>1</th>\n",
       "      <td>NaN</td>\n",
       "      <td>NaN</td>\n",
       "      <td>NaN</td>\n",
       "      <td>NaN</td>\n",
       "      <td>NaN</td>\n",
       "      <td>NaN</td>\n",
       "      <td>NaN</td>\n",
       "      <td>NaN</td>\n",
       "      <td>NaN</td>\n",
       "      <td>NaN</td>\n",
       "      <td>...</td>\n",
       "      <td>NaN</td>\n",
       "      <td>NaN</td>\n",
       "      <td>NaN</td>\n",
       "      <td>NaN</td>\n",
       "      <td>NaN</td>\n",
       "      <td>NaN</td>\n",
       "      <td>NaN</td>\n",
       "      <td>NaN</td>\n",
       "      <td>NaN</td>\n",
       "      <td>NaN</td>\n",
       "    </tr>\n",
       "    <tr>\n",
       "      <th>2</th>\n",
       "      <td>Country Name</td>\n",
       "      <td>Country Code</td>\n",
       "      <td>Indicator Name</td>\n",
       "      <td>Indicator Code</td>\n",
       "      <td>1960.0</td>\n",
       "      <td>1961.0</td>\n",
       "      <td>1962.0</td>\n",
       "      <td>1963.0</td>\n",
       "      <td>1964.0</td>\n",
       "      <td>1965.0</td>\n",
       "      <td>...</td>\n",
       "      <td>2.014000e+03</td>\n",
       "      <td>2.015000e+03</td>\n",
       "      <td>2.016000e+03</td>\n",
       "      <td>2.017000e+03</td>\n",
       "      <td>2.018000e+03</td>\n",
       "      <td>2.019000e+03</td>\n",
       "      <td>2.020000e+03</td>\n",
       "      <td>2.021000e+03</td>\n",
       "      <td>2.022000e+03</td>\n",
       "      <td>2023.0</td>\n",
       "    </tr>\n",
       "    <tr>\n",
       "      <th>3</th>\n",
       "      <td>Aruba</td>\n",
       "      <td>ABW</td>\n",
       "      <td>GDP (current US$)</td>\n",
       "      <td>NY.GDP.MKTP.CD</td>\n",
       "      <td>NaN</td>\n",
       "      <td>NaN</td>\n",
       "      <td>NaN</td>\n",
       "      <td>NaN</td>\n",
       "      <td>NaN</td>\n",
       "      <td>NaN</td>\n",
       "      <td>...</td>\n",
       "      <td>2.790850e+09</td>\n",
       "      <td>2.962907e+09</td>\n",
       "      <td>2.983635e+09</td>\n",
       "      <td>3.092429e+09</td>\n",
       "      <td>3.276184e+09</td>\n",
       "      <td>3.395799e+09</td>\n",
       "      <td>2.558906e+09</td>\n",
       "      <td>3.103184e+09</td>\n",
       "      <td>3.544708e+09</td>\n",
       "      <td>NaN</td>\n",
       "    </tr>\n",
       "    <tr>\n",
       "      <th>4</th>\n",
       "      <td>Africa Eastern and Southern</td>\n",
       "      <td>AFE</td>\n",
       "      <td>GDP (current US$)</td>\n",
       "      <td>NY.GDP.MKTP.CD</td>\n",
       "      <td>NaN</td>\n",
       "      <td>NaN</td>\n",
       "      <td>NaN</td>\n",
       "      <td>NaN</td>\n",
       "      <td>NaN</td>\n",
       "      <td>NaN</td>\n",
       "      <td>...</td>\n",
       "      <td>9.796905e+11</td>\n",
       "      <td>8.992556e+11</td>\n",
       "      <td>8.297383e+11</td>\n",
       "      <td>9.399593e+11</td>\n",
       "      <td>1.012521e+12</td>\n",
       "      <td>1.006191e+12</td>\n",
       "      <td>9.288802e+11</td>\n",
       "      <td>1.086531e+12</td>\n",
       "      <td>1.185138e+12</td>\n",
       "      <td>NaN</td>\n",
       "    </tr>\n",
       "  </tbody>\n",
       "</table>\n",
       "<p>5 rows × 68 columns</p>\n",
       "</div>"
      ],
      "text/plain": [
       "                   Data Source World Development Indicators  \\\n",
       "0            Last Updated Date          2024-05-30 00:00:00   \n",
       "1                          NaN                          NaN   \n",
       "2                 Country Name                 Country Code   \n",
       "3                        Aruba                          ABW   \n",
       "4  Africa Eastern and Southern                          AFE   \n",
       "\n",
       "          Unnamed: 2      Unnamed: 3  Unnamed: 4  Unnamed: 5  Unnamed: 6  \\\n",
       "0                NaN             NaN         NaN         NaN         NaN   \n",
       "1                NaN             NaN         NaN         NaN         NaN   \n",
       "2     Indicator Name  Indicator Code      1960.0      1961.0      1962.0   \n",
       "3  GDP (current US$)  NY.GDP.MKTP.CD         NaN         NaN         NaN   \n",
       "4  GDP (current US$)  NY.GDP.MKTP.CD         NaN         NaN         NaN   \n",
       "\n",
       "   Unnamed: 7  Unnamed: 8  Unnamed: 9  ...   Unnamed: 58   Unnamed: 59  \\\n",
       "0         NaN         NaN         NaN  ...           NaN           NaN   \n",
       "1         NaN         NaN         NaN  ...           NaN           NaN   \n",
       "2      1963.0      1964.0      1965.0  ...  2.014000e+03  2.015000e+03   \n",
       "3         NaN         NaN         NaN  ...  2.790850e+09  2.962907e+09   \n",
       "4         NaN         NaN         NaN  ...  9.796905e+11  8.992556e+11   \n",
       "\n",
       "    Unnamed: 60   Unnamed: 61   Unnamed: 62   Unnamed: 63   Unnamed: 64  \\\n",
       "0           NaN           NaN           NaN           NaN           NaN   \n",
       "1           NaN           NaN           NaN           NaN           NaN   \n",
       "2  2.016000e+03  2.017000e+03  2.018000e+03  2.019000e+03  2.020000e+03   \n",
       "3  2.983635e+09  3.092429e+09  3.276184e+09  3.395799e+09  2.558906e+09   \n",
       "4  8.297383e+11  9.399593e+11  1.012521e+12  1.006191e+12  9.288802e+11   \n",
       "\n",
       "    Unnamed: 65   Unnamed: 66  Unnamed: 67  \n",
       "0           NaN           NaN          NaN  \n",
       "1           NaN           NaN          NaN  \n",
       "2  2.021000e+03  2.022000e+03       2023.0  \n",
       "3  3.103184e+09  3.544708e+09          NaN  \n",
       "4  1.086531e+12  1.185138e+12          NaN  \n",
       "\n",
       "[5 rows x 68 columns]"
      ]
     },
     "execution_count": 171,
     "metadata": {},
     "output_type": "execute_result"
    }
   ],
   "source": [
    "# reading in the dataset\n",
    "import pandas as pd\n",
    "df_gdp = pd.read_excel(\"./GDP_Data.xls\", index_col=False)\n",
    "df_gdp.head()"
   ]
  },
  {
   "cell_type": "code",
   "execution_count": null,
   "metadata": {},
   "outputs": [
    {
     "data": {
      "text/html": [
       "<div>\n",
       "<style scoped>\n",
       "    .dataframe tbody tr th:only-of-type {\n",
       "        vertical-align: middle;\n",
       "    }\n",
       "\n",
       "    .dataframe tbody tr th {\n",
       "        vertical-align: top;\n",
       "    }\n",
       "\n",
       "    .dataframe thead th {\n",
       "        text-align: right;\n",
       "    }\n",
       "</style>\n",
       "<table border=\"1\" class=\"dataframe\">\n",
       "  <thead>\n",
       "    <tr style=\"text-align: right;\">\n",
       "      <th>2</th>\n",
       "      <th>Country Name</th>\n",
       "      <th>Country Code</th>\n",
       "      <th>Indicator Name</th>\n",
       "      <th>Indicator Code</th>\n",
       "      <th>1960.0</th>\n",
       "      <th>1961.0</th>\n",
       "      <th>1962.0</th>\n",
       "      <th>1963.0</th>\n",
       "      <th>1964.0</th>\n",
       "      <th>1965.0</th>\n",
       "      <th>...</th>\n",
       "      <th>2014.0</th>\n",
       "      <th>2015.0</th>\n",
       "      <th>2016.0</th>\n",
       "      <th>2017.0</th>\n",
       "      <th>2018.0</th>\n",
       "      <th>2019.0</th>\n",
       "      <th>2020.0</th>\n",
       "      <th>2021.0</th>\n",
       "      <th>2022.0</th>\n",
       "      <th>2023.0</th>\n",
       "    </tr>\n",
       "  </thead>\n",
       "  <tbody>\n",
       "    <tr>\n",
       "      <th>3</th>\n",
       "      <td>Aruba</td>\n",
       "      <td>ABW</td>\n",
       "      <td>GDP (current US$)</td>\n",
       "      <td>NY.GDP.MKTP.CD</td>\n",
       "      <td>NaN</td>\n",
       "      <td>NaN</td>\n",
       "      <td>NaN</td>\n",
       "      <td>NaN</td>\n",
       "      <td>NaN</td>\n",
       "      <td>NaN</td>\n",
       "      <td>...</td>\n",
       "      <td>2.790850e+09</td>\n",
       "      <td>2.962907e+09</td>\n",
       "      <td>2.983635e+09</td>\n",
       "      <td>3.092429e+09</td>\n",
       "      <td>3.276184e+09</td>\n",
       "      <td>3.395799e+09</td>\n",
       "      <td>2.558906e+09</td>\n",
       "      <td>3.103184e+09</td>\n",
       "      <td>3.544708e+09</td>\n",
       "      <td>NaN</td>\n",
       "    </tr>\n",
       "    <tr>\n",
       "      <th>4</th>\n",
       "      <td>Africa Eastern and Southern</td>\n",
       "      <td>AFE</td>\n",
       "      <td>GDP (current US$)</td>\n",
       "      <td>NY.GDP.MKTP.CD</td>\n",
       "      <td>NaN</td>\n",
       "      <td>NaN</td>\n",
       "      <td>NaN</td>\n",
       "      <td>NaN</td>\n",
       "      <td>NaN</td>\n",
       "      <td>NaN</td>\n",
       "      <td>...</td>\n",
       "      <td>9.796905e+11</td>\n",
       "      <td>8.992556e+11</td>\n",
       "      <td>8.297383e+11</td>\n",
       "      <td>9.399593e+11</td>\n",
       "      <td>1.012521e+12</td>\n",
       "      <td>1.006191e+12</td>\n",
       "      <td>9.288802e+11</td>\n",
       "      <td>1.086531e+12</td>\n",
       "      <td>1.185138e+12</td>\n",
       "      <td>NaN</td>\n",
       "    </tr>\n",
       "    <tr>\n",
       "      <th>5</th>\n",
       "      <td>Afghanistan</td>\n",
       "      <td>AFG</td>\n",
       "      <td>GDP (current US$)</td>\n",
       "      <td>NY.GDP.MKTP.CD</td>\n",
       "      <td>5.377778e+08</td>\n",
       "      <td>5.488889e+08</td>\n",
       "      <td>5.466667e+08</td>\n",
       "      <td>7.511112e+08</td>\n",
       "      <td>8.000000e+08</td>\n",
       "      <td>1.006667e+09</td>\n",
       "      <td>...</td>\n",
       "      <td>2.049713e+10</td>\n",
       "      <td>1.913422e+10</td>\n",
       "      <td>1.811657e+10</td>\n",
       "      <td>1.875346e+10</td>\n",
       "      <td>1.805322e+10</td>\n",
       "      <td>1.879944e+10</td>\n",
       "      <td>1.995593e+10</td>\n",
       "      <td>1.426650e+10</td>\n",
       "      <td>NaN</td>\n",
       "      <td>NaN</td>\n",
       "    </tr>\n",
       "    <tr>\n",
       "      <th>6</th>\n",
       "      <td>Africa Western and Central</td>\n",
       "      <td>AFW</td>\n",
       "      <td>GDP (current US$)</td>\n",
       "      <td>NY.GDP.MKTP.CD</td>\n",
       "      <td>1.041165e+10</td>\n",
       "      <td>1.113592e+10</td>\n",
       "      <td>1.195171e+10</td>\n",
       "      <td>1.268581e+10</td>\n",
       "      <td>1.384900e+10</td>\n",
       "      <td>1.487476e+10</td>\n",
       "      <td>...</td>\n",
       "      <td>8.945050e+11</td>\n",
       "      <td>7.692632e+11</td>\n",
       "      <td>6.921149e+11</td>\n",
       "      <td>6.856303e+11</td>\n",
       "      <td>7.681582e+11</td>\n",
       "      <td>8.234056e+11</td>\n",
       "      <td>7.869624e+11</td>\n",
       "      <td>8.449275e+11</td>\n",
       "      <td>8.753937e+11</td>\n",
       "      <td>NaN</td>\n",
       "    </tr>\n",
       "    <tr>\n",
       "      <th>7</th>\n",
       "      <td>Angola</td>\n",
       "      <td>AGO</td>\n",
       "      <td>GDP (current US$)</td>\n",
       "      <td>NY.GDP.MKTP.CD</td>\n",
       "      <td>NaN</td>\n",
       "      <td>NaN</td>\n",
       "      <td>NaN</td>\n",
       "      <td>NaN</td>\n",
       "      <td>NaN</td>\n",
       "      <td>NaN</td>\n",
       "      <td>...</td>\n",
       "      <td>1.359668e+11</td>\n",
       "      <td>9.049642e+10</td>\n",
       "      <td>5.276162e+10</td>\n",
       "      <td>7.369016e+10</td>\n",
       "      <td>7.945069e+10</td>\n",
       "      <td>7.089796e+10</td>\n",
       "      <td>4.850156e+10</td>\n",
       "      <td>6.650513e+10</td>\n",
       "      <td>1.067828e+11</td>\n",
       "      <td>NaN</td>\n",
       "    </tr>\n",
       "  </tbody>\n",
       "</table>\n",
       "<p>5 rows × 68 columns</p>\n",
       "</div>"
      ],
      "text/plain": [
       "2                 Country Name Country Code     Indicator Name  \\\n",
       "3                        Aruba          ABW  GDP (current US$)   \n",
       "4  Africa Eastern and Southern          AFE  GDP (current US$)   \n",
       "5                  Afghanistan          AFG  GDP (current US$)   \n",
       "6   Africa Western and Central          AFW  GDP (current US$)   \n",
       "7                       Angola          AGO  GDP (current US$)   \n",
       "\n",
       "2  Indicator Code        1960.0        1961.0        1962.0        1963.0  \\\n",
       "3  NY.GDP.MKTP.CD           NaN           NaN           NaN           NaN   \n",
       "4  NY.GDP.MKTP.CD           NaN           NaN           NaN           NaN   \n",
       "5  NY.GDP.MKTP.CD  5.377778e+08  5.488889e+08  5.466667e+08  7.511112e+08   \n",
       "6  NY.GDP.MKTP.CD  1.041165e+10  1.113592e+10  1.195171e+10  1.268581e+10   \n",
       "7  NY.GDP.MKTP.CD           NaN           NaN           NaN           NaN   \n",
       "\n",
       "2        1964.0        1965.0  ...        2014.0        2015.0        2016.0  \\\n",
       "3           NaN           NaN  ...  2.790850e+09  2.962907e+09  2.983635e+09   \n",
       "4           NaN           NaN  ...  9.796905e+11  8.992556e+11  8.297383e+11   \n",
       "5  8.000000e+08  1.006667e+09  ...  2.049713e+10  1.913422e+10  1.811657e+10   \n",
       "6  1.384900e+10  1.487476e+10  ...  8.945050e+11  7.692632e+11  6.921149e+11   \n",
       "7           NaN           NaN  ...  1.359668e+11  9.049642e+10  5.276162e+10   \n",
       "\n",
       "2        2017.0        2018.0        2019.0        2020.0        2021.0  \\\n",
       "3  3.092429e+09  3.276184e+09  3.395799e+09  2.558906e+09  3.103184e+09   \n",
       "4  9.399593e+11  1.012521e+12  1.006191e+12  9.288802e+11  1.086531e+12   \n",
       "5  1.875346e+10  1.805322e+10  1.879944e+10  1.995593e+10  1.426650e+10   \n",
       "6  6.856303e+11  7.681582e+11  8.234056e+11  7.869624e+11  8.449275e+11   \n",
       "7  7.369016e+10  7.945069e+10  7.089796e+10  4.850156e+10  6.650513e+10   \n",
       "\n",
       "2        2022.0  2023.0  \n",
       "3  3.544708e+09     NaN  \n",
       "4  1.185138e+12     NaN  \n",
       "5           NaN     NaN  \n",
       "6  8.753937e+11     NaN  \n",
       "7  1.067828e+11     NaN  \n",
       "\n",
       "[5 rows x 68 columns]"
      ]
     },
     "execution_count": 172,
     "metadata": {},
     "output_type": "execute_result"
    }
   ],
   "source": [
    "# setting new column names\n",
    "df_gdp.columns = df_gdp.iloc[2]\n",
    "\n",
    "# resetting the index while deleting the old one\n",
    "df_gdp = df_gdp.reset_index(drop=True)\n",
    "\n",
    "# dropping unnecessary rows\n",
    "df_gdp = df_gdp.drop([0,1,2])\n",
    "\n",
    "df_gdp.head()"
   ]
  },
  {
   "cell_type": "code",
   "execution_count": null,
   "metadata": {},
   "outputs": [
    {
     "data": {
      "text/html": [
       "<div>\n",
       "<style scoped>\n",
       "    .dataframe tbody tr th:only-of-type {\n",
       "        vertical-align: middle;\n",
       "    }\n",
       "\n",
       "    .dataframe tbody tr th {\n",
       "        vertical-align: top;\n",
       "    }\n",
       "\n",
       "    .dataframe thead th {\n",
       "        text-align: right;\n",
       "    }\n",
       "</style>\n",
       "<table border=\"1\" class=\"dataframe\">\n",
       "  <thead>\n",
       "    <tr style=\"text-align: right;\">\n",
       "      <th>2</th>\n",
       "      <th>Country Name</th>\n",
       "      <th>1960.0</th>\n",
       "      <th>1961.0</th>\n",
       "      <th>1962.0</th>\n",
       "      <th>1963.0</th>\n",
       "      <th>1964.0</th>\n",
       "      <th>1965.0</th>\n",
       "      <th>1966.0</th>\n",
       "      <th>1967.0</th>\n",
       "      <th>1968.0</th>\n",
       "      <th>...</th>\n",
       "      <th>2014.0</th>\n",
       "      <th>2015.0</th>\n",
       "      <th>2016.0</th>\n",
       "      <th>2017.0</th>\n",
       "      <th>2018.0</th>\n",
       "      <th>2019.0</th>\n",
       "      <th>2020.0</th>\n",
       "      <th>2021.0</th>\n",
       "      <th>2022.0</th>\n",
       "      <th>2023.0</th>\n",
       "    </tr>\n",
       "  </thead>\n",
       "  <tbody>\n",
       "    <tr>\n",
       "      <th>3</th>\n",
       "      <td>Aruba</td>\n",
       "      <td>NaN</td>\n",
       "      <td>NaN</td>\n",
       "      <td>NaN</td>\n",
       "      <td>NaN</td>\n",
       "      <td>NaN</td>\n",
       "      <td>NaN</td>\n",
       "      <td>NaN</td>\n",
       "      <td>NaN</td>\n",
       "      <td>NaN</td>\n",
       "      <td>...</td>\n",
       "      <td>2.790850e+09</td>\n",
       "      <td>2.962907e+09</td>\n",
       "      <td>2.983635e+09</td>\n",
       "      <td>3.092429e+09</td>\n",
       "      <td>3.276184e+09</td>\n",
       "      <td>3.395799e+09</td>\n",
       "      <td>2.558906e+09</td>\n",
       "      <td>3.103184e+09</td>\n",
       "      <td>3.544708e+09</td>\n",
       "      <td>NaN</td>\n",
       "    </tr>\n",
       "    <tr>\n",
       "      <th>4</th>\n",
       "      <td>Africa Eastern and Southern</td>\n",
       "      <td>NaN</td>\n",
       "      <td>NaN</td>\n",
       "      <td>NaN</td>\n",
       "      <td>NaN</td>\n",
       "      <td>NaN</td>\n",
       "      <td>NaN</td>\n",
       "      <td>NaN</td>\n",
       "      <td>NaN</td>\n",
       "      <td>NaN</td>\n",
       "      <td>...</td>\n",
       "      <td>9.796905e+11</td>\n",
       "      <td>8.992556e+11</td>\n",
       "      <td>8.297383e+11</td>\n",
       "      <td>9.399593e+11</td>\n",
       "      <td>1.012521e+12</td>\n",
       "      <td>1.006191e+12</td>\n",
       "      <td>9.288802e+11</td>\n",
       "      <td>1.086531e+12</td>\n",
       "      <td>1.185138e+12</td>\n",
       "      <td>NaN</td>\n",
       "    </tr>\n",
       "    <tr>\n",
       "      <th>5</th>\n",
       "      <td>Afghanistan</td>\n",
       "      <td>5.377778e+08</td>\n",
       "      <td>5.488889e+08</td>\n",
       "      <td>5.466667e+08</td>\n",
       "      <td>7.511112e+08</td>\n",
       "      <td>8.000000e+08</td>\n",
       "      <td>1.006667e+09</td>\n",
       "      <td>1.400000e+09</td>\n",
       "      <td>1.673333e+09</td>\n",
       "      <td>1.373333e+09</td>\n",
       "      <td>...</td>\n",
       "      <td>2.049713e+10</td>\n",
       "      <td>1.913422e+10</td>\n",
       "      <td>1.811657e+10</td>\n",
       "      <td>1.875346e+10</td>\n",
       "      <td>1.805322e+10</td>\n",
       "      <td>1.879944e+10</td>\n",
       "      <td>1.995593e+10</td>\n",
       "      <td>1.426650e+10</td>\n",
       "      <td>NaN</td>\n",
       "      <td>NaN</td>\n",
       "    </tr>\n",
       "    <tr>\n",
       "      <th>6</th>\n",
       "      <td>Africa Western and Central</td>\n",
       "      <td>1.041165e+10</td>\n",
       "      <td>1.113592e+10</td>\n",
       "      <td>1.195171e+10</td>\n",
       "      <td>1.268581e+10</td>\n",
       "      <td>1.384900e+10</td>\n",
       "      <td>1.487476e+10</td>\n",
       "      <td>1.584558e+10</td>\n",
       "      <td>1.442849e+10</td>\n",
       "      <td>1.488050e+10</td>\n",
       "      <td>...</td>\n",
       "      <td>8.945050e+11</td>\n",
       "      <td>7.692632e+11</td>\n",
       "      <td>6.921149e+11</td>\n",
       "      <td>6.856303e+11</td>\n",
       "      <td>7.681582e+11</td>\n",
       "      <td>8.234056e+11</td>\n",
       "      <td>7.869624e+11</td>\n",
       "      <td>8.449275e+11</td>\n",
       "      <td>8.753937e+11</td>\n",
       "      <td>NaN</td>\n",
       "    </tr>\n",
       "    <tr>\n",
       "      <th>7</th>\n",
       "      <td>Angola</td>\n",
       "      <td>NaN</td>\n",
       "      <td>NaN</td>\n",
       "      <td>NaN</td>\n",
       "      <td>NaN</td>\n",
       "      <td>NaN</td>\n",
       "      <td>NaN</td>\n",
       "      <td>NaN</td>\n",
       "      <td>NaN</td>\n",
       "      <td>NaN</td>\n",
       "      <td>...</td>\n",
       "      <td>1.359668e+11</td>\n",
       "      <td>9.049642e+10</td>\n",
       "      <td>5.276162e+10</td>\n",
       "      <td>7.369016e+10</td>\n",
       "      <td>7.945069e+10</td>\n",
       "      <td>7.089796e+10</td>\n",
       "      <td>4.850156e+10</td>\n",
       "      <td>6.650513e+10</td>\n",
       "      <td>1.067828e+11</td>\n",
       "      <td>NaN</td>\n",
       "    </tr>\n",
       "  </tbody>\n",
       "</table>\n",
       "<p>5 rows × 65 columns</p>\n",
       "</div>"
      ],
      "text/plain": [
       "2                 Country Name        1960.0        1961.0        1962.0  \\\n",
       "3                        Aruba           NaN           NaN           NaN   \n",
       "4  Africa Eastern and Southern           NaN           NaN           NaN   \n",
       "5                  Afghanistan  5.377778e+08  5.488889e+08  5.466667e+08   \n",
       "6   Africa Western and Central  1.041165e+10  1.113592e+10  1.195171e+10   \n",
       "7                       Angola           NaN           NaN           NaN   \n",
       "\n",
       "2        1963.0        1964.0        1965.0        1966.0        1967.0  \\\n",
       "3           NaN           NaN           NaN           NaN           NaN   \n",
       "4           NaN           NaN           NaN           NaN           NaN   \n",
       "5  7.511112e+08  8.000000e+08  1.006667e+09  1.400000e+09  1.673333e+09   \n",
       "6  1.268581e+10  1.384900e+10  1.487476e+10  1.584558e+10  1.442849e+10   \n",
       "7           NaN           NaN           NaN           NaN           NaN   \n",
       "\n",
       "2        1968.0  ...        2014.0        2015.0        2016.0        2017.0  \\\n",
       "3           NaN  ...  2.790850e+09  2.962907e+09  2.983635e+09  3.092429e+09   \n",
       "4           NaN  ...  9.796905e+11  8.992556e+11  8.297383e+11  9.399593e+11   \n",
       "5  1.373333e+09  ...  2.049713e+10  1.913422e+10  1.811657e+10  1.875346e+10   \n",
       "6  1.488050e+10  ...  8.945050e+11  7.692632e+11  6.921149e+11  6.856303e+11   \n",
       "7           NaN  ...  1.359668e+11  9.049642e+10  5.276162e+10  7.369016e+10   \n",
       "\n",
       "2        2018.0        2019.0        2020.0        2021.0        2022.0  \\\n",
       "3  3.276184e+09  3.395799e+09  2.558906e+09  3.103184e+09  3.544708e+09   \n",
       "4  1.012521e+12  1.006191e+12  9.288802e+11  1.086531e+12  1.185138e+12   \n",
       "5  1.805322e+10  1.879944e+10  1.995593e+10  1.426650e+10           NaN   \n",
       "6  7.681582e+11  8.234056e+11  7.869624e+11  8.449275e+11  8.753937e+11   \n",
       "7  7.945069e+10  7.089796e+10  4.850156e+10  6.650513e+10  1.067828e+11   \n",
       "\n",
       "2  2023.0  \n",
       "3     NaN  \n",
       "4     NaN  \n",
       "5     NaN  \n",
       "6     NaN  \n",
       "7     NaN  \n",
       "\n",
       "[5 rows x 65 columns]"
      ]
     },
     "execution_count": 173,
     "metadata": {},
     "output_type": "execute_result"
    }
   ],
   "source": [
    "# dropping unnecessary columns\n",
    "df_gdp = df_gdp.drop(df_gdp.columns[[1,2,3]], axis=1)\n",
    "df_gdp.head()"
   ]
  },
  {
   "cell_type": "code",
   "execution_count": null,
   "metadata": {},
   "outputs": [],
   "source": [
    "# importing all countries as a string to compare with dataset\n",
    "countries = \"\"\"\n",
    "Afghanistan\n",
    "Albania\n",
    "Algeria\n",
    "Andorra\n",
    "Angola\n",
    "Antigua & Deps\n",
    "Argentina\n",
    "Armenia\n",
    "Aruba\n",
    "Australia\n",
    "Austria\n",
    "Azerbaijan\n",
    "Bahamas\n",
    "Bahrain\n",
    "Bangladesh\n",
    "Barbados\n",
    "Belarus\n",
    "Belgium\n",
    "Belize\n",
    "Benin\n",
    "Bhutan\n",
    "Bolivia\n",
    "Bosnia Herzegovina\n",
    "Botswana\n",
    "Brazil\n",
    "Brunei\n",
    "Bulgaria\n",
    "Burkina\n",
    "Burundi\n",
    "Cambodia\n",
    "Cameroon\n",
    "Canada\n",
    "Cape Verde\n",
    "Central African Rep\n",
    "Chad\n",
    "Chile\n",
    "China\n",
    "Colombia\n",
    "Comoros\n",
    "Congo\n",
    "Congo {Democratic Rep}\n",
    "Costa Rica\n",
    "Croatia\n",
    "Cuba\n",
    "Curaçao\n",
    "Cyprus\n",
    "Czech Republic\n",
    "Denmark\n",
    "Djibouti\n",
    "Dominica\n",
    "Dominican Republic\n",
    "East Timor\n",
    "Ecuador\n",
    "Egypt\n",
    "El Salvador\n",
    "Equatorial Guinea\n",
    "Eritrea\n",
    "Estonia\n",
    "Eswatini\n",
    "Ethiopia\n",
    "Fiji\n",
    "Finland\n",
    "France\n",
    "Gabon\n",
    "Gambia\n",
    "Georgia\n",
    "Germany\n",
    "Ghana\n",
    "Greece\n",
    "Grenada\n",
    "Guatemala\n",
    "Guinea\n",
    "Guinea-Bissau\n",
    "Guyana\n",
    "Haiti\n",
    "Honduras\n",
    "Hungary\n",
    "Iceland\n",
    "India\n",
    "Indonesia\n",
    "Iran\n",
    "Iraq\n",
    "Ireland {Republic}\n",
    "Israel\n",
    "Italy\n",
    "Ivory Coast\n",
    "Jamaica\n",
    "Japan\n",
    "Jordan\n",
    "Kazakhstan\n",
    "Kenya\n",
    "Kiribati\n",
    "Korea North\n",
    "Korea South\n",
    "Kosovo\n",
    "Kuwait\n",
    "Kyrgyzstan\n",
    "Laos\n",
    "Latvia\n",
    "Lebanon\n",
    "Lesotho\n",
    "Liberia\n",
    "Libya\n",
    "Liechtenstein\n",
    "Lithuania\n",
    "Luxembourg\n",
    "Macedonia\n",
    "Madagascar\n",
    "Malawi\n",
    "Malaysia\n",
    "Maldives\n",
    "Mali\n",
    "Malta\n",
    "Marshall Islands\n",
    "Mauritania\n",
    "Mauritius\n",
    "Mexico\n",
    "Micronesia\n",
    "Moldova\n",
    "Monaco\n",
    "Mongolia\n",
    "Montenegro\n",
    "Morocco\n",
    "Mozambique\n",
    "Myanmar\n",
    "Namibia\n",
    "Nauru\n",
    "Nepal\n",
    "Netherlands\n",
    "New Zealand\n",
    "Nicaragua\n",
    "Niger\n",
    "Nigeria\n",
    "Norway\n",
    "Oman\n",
    "Pakistan\n",
    "Palau\n",
    "Palestine\n",
    "Panama\n",
    "Papua New Guinea\n",
    "Paraguay\n",
    "Peru\n",
    "Philippines\n",
    "Poland\n",
    "Portugal\n",
    "Qatar\n",
    "Romania\n",
    "Russian Federation\n",
    "Rwanda\n",
    "St Kitts & Nevis\n",
    "St Lucia\n",
    "Saint Vincent & the Grenadines\n",
    "Samoa\n",
    "San Marino\n",
    "Sao Tome & Principe\n",
    "Saudi Arabia\n",
    "Senegal\n",
    "Serbia\n",
    "Seychelles\n",
    "Sierra Leone\n",
    "Singapore\n",
    "Slovakia\n",
    "Slovenia\n",
    "Solomon Islands\n",
    "Somalia\n",
    "South Africa\n",
    "South Sudan\n",
    "Spain\n",
    "Sri Lanka\n",
    "Sudan\n",
    "Suriname\n",
    "Sweden\n",
    "Switzerland\n",
    "Syria\n",
    "Taiwan\n",
    "Tajikistan\n",
    "Tanzania\n",
    "Thailand\n",
    "Togo\n",
    "Tonga\n",
    "Trinidad & Tobago\n",
    "Tunisia\n",
    "Turkey\n",
    "Turkmenistan\n",
    "Tuvalu\n",
    "Uganda\n",
    "Ukraine\n",
    "United Arab Emirates\n",
    "United Kingdom\n",
    "United States\n",
    "Uruguay\n",
    "Uzbekistan\n",
    "Vanuatu\n",
    "Vatican City\n",
    "Venezuela\n",
    "Vietnam\n",
    "Yemen\n",
    "Zambia\n",
    "Zimbabwe\n",
    "\"\"\"\n",
    "\n",
    "# converting this string to a list\n",
    "countries = countries.splitlines()"
   ]
  },
  {
   "cell_type": "code",
   "execution_count": null,
   "metadata": {},
   "outputs": [
    {
     "data": {
      "text/html": [
       "<div>\n",
       "<style scoped>\n",
       "    .dataframe tbody tr th:only-of-type {\n",
       "        vertical-align: middle;\n",
       "    }\n",
       "\n",
       "    .dataframe tbody tr th {\n",
       "        vertical-align: top;\n",
       "    }\n",
       "\n",
       "    .dataframe thead th {\n",
       "        text-align: right;\n",
       "    }\n",
       "</style>\n",
       "<table border=\"1\" class=\"dataframe\">\n",
       "  <thead>\n",
       "    <tr style=\"text-align: right;\">\n",
       "      <th>2</th>\n",
       "      <th>Country Name</th>\n",
       "      <th>1960.0</th>\n",
       "      <th>1961.0</th>\n",
       "      <th>1962.0</th>\n",
       "      <th>1963.0</th>\n",
       "      <th>1964.0</th>\n",
       "      <th>1965.0</th>\n",
       "      <th>1966.0</th>\n",
       "      <th>1967.0</th>\n",
       "      <th>1968.0</th>\n",
       "      <th>...</th>\n",
       "      <th>2014.0</th>\n",
       "      <th>2015.0</th>\n",
       "      <th>2016.0</th>\n",
       "      <th>2017.0</th>\n",
       "      <th>2018.0</th>\n",
       "      <th>2019.0</th>\n",
       "      <th>2020.0</th>\n",
       "      <th>2021.0</th>\n",
       "      <th>2022.0</th>\n",
       "      <th>2023.0</th>\n",
       "    </tr>\n",
       "  </thead>\n",
       "  <tbody>\n",
       "    <tr>\n",
       "      <th>3</th>\n",
       "      <td>Aruba</td>\n",
       "      <td>NaN</td>\n",
       "      <td>NaN</td>\n",
       "      <td>NaN</td>\n",
       "      <td>NaN</td>\n",
       "      <td>NaN</td>\n",
       "      <td>NaN</td>\n",
       "      <td>NaN</td>\n",
       "      <td>NaN</td>\n",
       "      <td>NaN</td>\n",
       "      <td>...</td>\n",
       "      <td>2.790850e+09</td>\n",
       "      <td>2.962907e+09</td>\n",
       "      <td>2.983635e+09</td>\n",
       "      <td>3.092429e+09</td>\n",
       "      <td>3.276184e+09</td>\n",
       "      <td>3.395799e+09</td>\n",
       "      <td>2.558906e+09</td>\n",
       "      <td>3.103184e+09</td>\n",
       "      <td>3.544708e+09</td>\n",
       "      <td>NaN</td>\n",
       "    </tr>\n",
       "    <tr>\n",
       "      <th>5</th>\n",
       "      <td>Afghanistan</td>\n",
       "      <td>5.377778e+08</td>\n",
       "      <td>5.488889e+08</td>\n",
       "      <td>5.466667e+08</td>\n",
       "      <td>7.511112e+08</td>\n",
       "      <td>8.000000e+08</td>\n",
       "      <td>1.006667e+09</td>\n",
       "      <td>1.400000e+09</td>\n",
       "      <td>1.673333e+09</td>\n",
       "      <td>1.373333e+09</td>\n",
       "      <td>...</td>\n",
       "      <td>2.049713e+10</td>\n",
       "      <td>1.913422e+10</td>\n",
       "      <td>1.811657e+10</td>\n",
       "      <td>1.875346e+10</td>\n",
       "      <td>1.805322e+10</td>\n",
       "      <td>1.879944e+10</td>\n",
       "      <td>1.995593e+10</td>\n",
       "      <td>1.426650e+10</td>\n",
       "      <td>NaN</td>\n",
       "      <td>NaN</td>\n",
       "    </tr>\n",
       "    <tr>\n",
       "      <th>7</th>\n",
       "      <td>Angola</td>\n",
       "      <td>NaN</td>\n",
       "      <td>NaN</td>\n",
       "      <td>NaN</td>\n",
       "      <td>NaN</td>\n",
       "      <td>NaN</td>\n",
       "      <td>NaN</td>\n",
       "      <td>NaN</td>\n",
       "      <td>NaN</td>\n",
       "      <td>NaN</td>\n",
       "      <td>...</td>\n",
       "      <td>1.359668e+11</td>\n",
       "      <td>9.049642e+10</td>\n",
       "      <td>5.276162e+10</td>\n",
       "      <td>7.369016e+10</td>\n",
       "      <td>7.945069e+10</td>\n",
       "      <td>7.089796e+10</td>\n",
       "      <td>4.850156e+10</td>\n",
       "      <td>6.650513e+10</td>\n",
       "      <td>1.067828e+11</td>\n",
       "      <td>NaN</td>\n",
       "    </tr>\n",
       "    <tr>\n",
       "      <th>8</th>\n",
       "      <td>Albania</td>\n",
       "      <td>NaN</td>\n",
       "      <td>NaN</td>\n",
       "      <td>NaN</td>\n",
       "      <td>NaN</td>\n",
       "      <td>NaN</td>\n",
       "      <td>NaN</td>\n",
       "      <td>NaN</td>\n",
       "      <td>NaN</td>\n",
       "      <td>NaN</td>\n",
       "      <td>...</td>\n",
       "      <td>1.322815e+10</td>\n",
       "      <td>1.138685e+10</td>\n",
       "      <td>1.186120e+10</td>\n",
       "      <td>1.301973e+10</td>\n",
       "      <td>1.515642e+10</td>\n",
       "      <td>1.540183e+10</td>\n",
       "      <td>1.516273e+10</td>\n",
       "      <td>1.793057e+10</td>\n",
       "      <td>1.891638e+10</td>\n",
       "      <td>NaN</td>\n",
       "    </tr>\n",
       "    <tr>\n",
       "      <th>9</th>\n",
       "      <td>Andorra</td>\n",
       "      <td>NaN</td>\n",
       "      <td>NaN</td>\n",
       "      <td>NaN</td>\n",
       "      <td>NaN</td>\n",
       "      <td>NaN</td>\n",
       "      <td>NaN</td>\n",
       "      <td>NaN</td>\n",
       "      <td>NaN</td>\n",
       "      <td>NaN</td>\n",
       "      <td>...</td>\n",
       "      <td>3.271686e+09</td>\n",
       "      <td>2.789883e+09</td>\n",
       "      <td>2.896612e+09</td>\n",
       "      <td>3.000160e+09</td>\n",
       "      <td>3.218419e+09</td>\n",
       "      <td>3.155150e+09</td>\n",
       "      <td>2.891002e+09</td>\n",
       "      <td>3.325144e+09</td>\n",
       "      <td>3.352031e+09</td>\n",
       "      <td>NaN</td>\n",
       "    </tr>\n",
       "  </tbody>\n",
       "</table>\n",
       "<p>5 rows × 65 columns</p>\n",
       "</div>"
      ],
      "text/plain": [
       "2 Country Name        1960.0        1961.0        1962.0        1963.0  \\\n",
       "3        Aruba           NaN           NaN           NaN           NaN   \n",
       "5  Afghanistan  5.377778e+08  5.488889e+08  5.466667e+08  7.511112e+08   \n",
       "7       Angola           NaN           NaN           NaN           NaN   \n",
       "8      Albania           NaN           NaN           NaN           NaN   \n",
       "9      Andorra           NaN           NaN           NaN           NaN   \n",
       "\n",
       "2        1964.0        1965.0        1966.0        1967.0        1968.0  ...  \\\n",
       "3           NaN           NaN           NaN           NaN           NaN  ...   \n",
       "5  8.000000e+08  1.006667e+09  1.400000e+09  1.673333e+09  1.373333e+09  ...   \n",
       "7           NaN           NaN           NaN           NaN           NaN  ...   \n",
       "8           NaN           NaN           NaN           NaN           NaN  ...   \n",
       "9           NaN           NaN           NaN           NaN           NaN  ...   \n",
       "\n",
       "2        2014.0        2015.0        2016.0        2017.0        2018.0  \\\n",
       "3  2.790850e+09  2.962907e+09  2.983635e+09  3.092429e+09  3.276184e+09   \n",
       "5  2.049713e+10  1.913422e+10  1.811657e+10  1.875346e+10  1.805322e+10   \n",
       "7  1.359668e+11  9.049642e+10  5.276162e+10  7.369016e+10  7.945069e+10   \n",
       "8  1.322815e+10  1.138685e+10  1.186120e+10  1.301973e+10  1.515642e+10   \n",
       "9  3.271686e+09  2.789883e+09  2.896612e+09  3.000160e+09  3.218419e+09   \n",
       "\n",
       "2        2019.0        2020.0        2021.0        2022.0  2023.0  \n",
       "3  3.395799e+09  2.558906e+09  3.103184e+09  3.544708e+09     NaN  \n",
       "5  1.879944e+10  1.995593e+10  1.426650e+10           NaN     NaN  \n",
       "7  7.089796e+10  4.850156e+10  6.650513e+10  1.067828e+11     NaN  \n",
       "8  1.540183e+10  1.516273e+10  1.793057e+10  1.891638e+10     NaN  \n",
       "9  3.155150e+09  2.891002e+09  3.325144e+09  3.352031e+09     NaN  \n",
       "\n",
       "[5 rows x 65 columns]"
      ]
     },
     "execution_count": 175,
     "metadata": {},
     "output_type": "execute_result"
    }
   ],
   "source": [
    "# getting the indices of all rows of which the country name is in the list of valid countries\n",
    "indices_to_keep = df_gdp.index[df_gdp[\"Country Name\"].isin(countries)].tolist()\n",
    "\n",
    "# only keeping the rows with these indices\n",
    "df_filtered = df_gdp.loc[indices_to_keep]\n",
    "\n",
    "df_filtered.head()"
   ]
  },
  {
   "cell_type": "code",
   "execution_count": null,
   "metadata": {},
   "outputs": [
    {
     "data": {
      "text/html": [
       "<div>\n",
       "<style scoped>\n",
       "    .dataframe tbody tr th:only-of-type {\n",
       "        vertical-align: middle;\n",
       "    }\n",
       "\n",
       "    .dataframe tbody tr th {\n",
       "        vertical-align: top;\n",
       "    }\n",
       "\n",
       "    .dataframe thead th {\n",
       "        text-align: right;\n",
       "    }\n",
       "</style>\n",
       "<table border=\"1\" class=\"dataframe\">\n",
       "  <thead>\n",
       "    <tr style=\"text-align: right;\">\n",
       "      <th></th>\n",
       "      <th>Country Name</th>\n",
       "      <th>Year</th>\n",
       "      <th>GDP</th>\n",
       "    </tr>\n",
       "  </thead>\n",
       "  <tbody>\n",
       "    <tr>\n",
       "      <th>154</th>\n",
       "      <td>United States</td>\n",
       "      <td>1960</td>\n",
       "      <td>5.433000e+11</td>\n",
       "    </tr>\n",
       "    <tr>\n",
       "      <th>49</th>\n",
       "      <td>United Kingdom</td>\n",
       "      <td>1960</td>\n",
       "      <td>7.323397e+10</td>\n",
       "    </tr>\n",
       "    <tr>\n",
       "      <th>47</th>\n",
       "      <td>France</td>\n",
       "      <td>1960</td>\n",
       "      <td>6.222548e+10</td>\n",
       "    </tr>\n",
       "    <tr>\n",
       "      <th>27</th>\n",
       "      <td>China</td>\n",
       "      <td>1960</td>\n",
       "      <td>5.971625e+10</td>\n",
       "    </tr>\n",
       "    <tr>\n",
       "      <th>71</th>\n",
       "      <td>Japan</td>\n",
       "      <td>1960</td>\n",
       "      <td>4.430734e+10</td>\n",
       "    </tr>\n",
       "  </tbody>\n",
       "</table>\n",
       "</div>"
      ],
      "text/plain": [
       "       Country Name  Year           GDP\n",
       "154   United States  1960  5.433000e+11\n",
       "49   United Kingdom  1960  7.323397e+10\n",
       "47           France  1960  6.222548e+10\n",
       "27            China  1960  5.971625e+10\n",
       "71            Japan  1960  4.430734e+10"
      ]
     },
     "execution_count": 176,
     "metadata": {},
     "output_type": "execute_result"
    }
   ],
   "source": [
    "# converting DataFrame from wide to long format for plot creation\n",
    "df_long = df_filtered.melt(id_vars=\"Country Name\", var_name=\"Year\", value_name=\"GDP\")\n",
    "\n",
    "# converting \"Year\" to integer type for sorting purposes\n",
    "df_long[\"Year\"] = df_long[\"Year\"].astype(int)\n",
    "\n",
    "# sorting by Year ascendingly and GDP descendingly\n",
    "df_long = df_long.sort_values([\"Year\", \"GDP\"], ascending=[True, False])\n",
    "\n",
    "df_long.head()"
   ]
  },
  {
   "cell_type": "code",
   "execution_count": null,
   "metadata": {},
   "outputs": [
    {
     "name": "stderr",
     "output_type": "stream",
     "text": [
      "C:\\Users\\hausb\\AppData\\Local\\Temp\\ipykernel_9672\\1222195313.py:2: DeprecationWarning:\n",
      "\n",
      "DataFrameGroupBy.apply operated on the grouping columns. This behavior is deprecated, and in a future version of pandas the grouping columns will be excluded from the operation. Either pass `include_groups=False` to exclude the groupings or explicitly select the grouping columns after groupby to silence this warning.\n",
      "\n"
     ]
    },
    {
     "data": {
      "text/html": [
       "<div>\n",
       "<style scoped>\n",
       "    .dataframe tbody tr th:only-of-type {\n",
       "        vertical-align: middle;\n",
       "    }\n",
       "\n",
       "    .dataframe tbody tr th {\n",
       "        vertical-align: top;\n",
       "    }\n",
       "\n",
       "    .dataframe thead th {\n",
       "        text-align: right;\n",
       "    }\n",
       "</style>\n",
       "<table border=\"1\" class=\"dataframe\">\n",
       "  <thead>\n",
       "    <tr style=\"text-align: right;\">\n",
       "      <th></th>\n",
       "      <th>Country Name</th>\n",
       "      <th>Year</th>\n",
       "      <th>GDP</th>\n",
       "    </tr>\n",
       "  </thead>\n",
       "  <tbody>\n",
       "    <tr>\n",
       "      <th>0</th>\n",
       "      <td>United States</td>\n",
       "      <td>1960</td>\n",
       "      <td>5.433000e+11</td>\n",
       "    </tr>\n",
       "    <tr>\n",
       "      <th>1</th>\n",
       "      <td>United Kingdom</td>\n",
       "      <td>1960</td>\n",
       "      <td>7.323397e+10</td>\n",
       "    </tr>\n",
       "    <tr>\n",
       "      <th>2</th>\n",
       "      <td>France</td>\n",
       "      <td>1960</td>\n",
       "      <td>6.222548e+10</td>\n",
       "    </tr>\n",
       "    <tr>\n",
       "      <th>3</th>\n",
       "      <td>China</td>\n",
       "      <td>1960</td>\n",
       "      <td>5.971625e+10</td>\n",
       "    </tr>\n",
       "    <tr>\n",
       "      <th>4</th>\n",
       "      <td>Japan</td>\n",
       "      <td>1960</td>\n",
       "      <td>4.430734e+10</td>\n",
       "    </tr>\n",
       "  </tbody>\n",
       "</table>\n",
       "</div>"
      ],
      "text/plain": [
       "     Country Name  Year           GDP\n",
       "0   United States  1960  5.433000e+11\n",
       "1  United Kingdom  1960  7.323397e+10\n",
       "2          France  1960  6.222548e+10\n",
       "3           China  1960  5.971625e+10\n",
       "4           Japan  1960  4.430734e+10"
      ]
     },
     "execution_count": 177,
     "metadata": {},
     "output_type": "execute_result"
    }
   ],
   "source": [
    "# only keeping the countries with top 10 GDP-values for every year\n",
    "df_long_top10 = df_long.groupby(\"Year\").apply(lambda x: x.nlargest(10, \"GDP\")).reset_index(drop=True)\n",
    "df_long_top10.head()"
   ]
  },
  {
   "cell_type": "code",
   "execution_count": null,
   "metadata": {},
   "outputs": [
    {
     "data": {
      "application/vnd.plotly.v1+json": {
       "config": {
        "plotlyServerURL": "https://plot.ly"
       },
       "data": [
        {
         "alignmentgroup": "True",
         "hovertemplate": "Year=1960<br>GDP (in Trillions USD)=%{x}<br>Country Name=%{y}<extra></extra>",
         "ids": [
          "United States",
          "United Kingdom",
          "France",
          "China",
          "Japan",
          "Canada",
          "Italy",
          "India",
          "Australia",
          "Sweden"
         ],
         "legendgroup": "",
         "marker": {
          "color": "#636efa",
          "pattern": {
           "shape": ""
          }
         },
         "name": "",
         "offsetgroup": "",
         "orientation": "h",
         "showlegend": false,
         "textposition": "auto",
         "type": "bar",
         "x": [
          543300000000,
          73233967692.10281,
          62225478000.88224,
          59716249310.97416,
          44307342950.4,
          40461721692.64677,
          40385288344.19115,
          37029883876.183876,
          18606562977.050076,
          15822585033.576399
         ],
         "xaxis": "x",
         "y": [
          "United States",
          "United Kingdom",
          "France",
          "China",
          "Japan",
          "Canada",
          "Italy",
          "India",
          "Australia",
          "Sweden"
         ],
         "yaxis": "y"
        }
       ],
       "frames": [
        {
         "data": [
          {
           "alignmentgroup": "True",
           "hovertemplate": "Year=1960<br>GDP (in Trillions USD)=%{x}<br>Country Name=%{y}<extra></extra>",
           "ids": [
            "United States",
            "United Kingdom",
            "France",
            "China",
            "Japan",
            "Canada",
            "Italy",
            "India",
            "Australia",
            "Sweden"
           ],
           "legendgroup": "",
           "marker": {
            "color": "#636efa",
            "pattern": {
             "shape": ""
            }
           },
           "name": "",
           "offsetgroup": "",
           "orientation": "h",
           "showlegend": false,
           "textposition": "auto",
           "type": "bar",
           "x": [
            543300000000,
            73233967692.10281,
            62225478000.88224,
            59716249310.97416,
            44307342950.4,
            40461721692.64677,
            40385288344.19115,
            37029883876.183876,
            18606562977.050076,
            15822585033.576399
           ],
           "xaxis": "x",
           "y": [
            "United States",
            "United Kingdom",
            "France",
            "China",
            "Japan",
            "Canada",
            "Italy",
            "India",
            "Australia",
            "Sweden"
           ],
           "yaxis": "y"
          }
         ],
         "name": "1960"
        },
        {
         "data": [
          {
           "alignmentgroup": "True",
           "hovertemplate": "Year=1961<br>GDP (in Trillions USD)=%{x}<br>Country Name=%{y}<extra></extra>",
           "ids": [
            "United States",
            "United Kingdom",
            "France",
            "Japan",
            "China",
            "Italy",
            "Canada",
            "India",
            "Australia",
            "Sweden"
           ],
           "legendgroup": "",
           "marker": {
            "color": "#636efa",
            "pattern": {
             "shape": ""
            }
           },
           "name": "",
           "offsetgroup": "",
           "orientation": "h",
           "showlegend": false,
           "textposition": "auto",
           "type": "bar",
           "x": [
            563300000000,
            77741965703.35442,
            67461644222.03518,
            53508617739.37778,
            50056685957.35899,
            44842760293.19238,
            40934952063.94684,
            39232435784.03579,
            19682883149.261303,
            17212686614.5726
           ],
           "xaxis": "x",
           "y": [
            "United States",
            "United Kingdom",
            "France",
            "Japan",
            "China",
            "Italy",
            "Canada",
            "India",
            "Australia",
            "Sweden"
           ],
           "yaxis": "y"
          }
         ],
         "name": "1961"
        },
        {
         "data": [
          {
           "alignmentgroup": "True",
           "hovertemplate": "Year=1962<br>GDP (in Trillions USD)=%{x}<br>Country Name=%{y}<extra></extra>",
           "ids": [
            "United States",
            "United Kingdom",
            "France",
            "Japan",
            "Italy",
            "China",
            "Canada",
            "India",
            "Australia",
            "Sweden"
           ],
           "legendgroup": "",
           "marker": {
            "color": "#636efa",
            "pattern": {
             "shape": ""
            }
           },
           "name": "",
           "offsetgroup": "",
           "orientation": "h",
           "showlegend": false,
           "textposition": "auto",
           "type": "bar",
           "x": [
            605100000000,
            81247564156.8246,
            75607529809.92879,
            60723018683.73333,
            50383891898.99112,
            47209186415.35554,
            42227447631.9159,
            42161481858.08186,
            19922563187.61011,
            18667251380.074615
           ],
           "xaxis": "x",
           "y": [
            "United States",
            "United Kingdom",
            "France",
            "Japan",
            "Italy",
            "China",
            "Canada",
            "India",
            "Australia",
            "Sweden"
           ],
           "yaxis": "y"
          }
         ],
         "name": "1962"
        },
        {
         "data": [
          {
           "alignmentgroup": "True",
           "hovertemplate": "Year=1963<br>GDP (in Trillions USD)=%{x}<br>Country Name=%{y}<extra></extra>",
           "ids": [
            "United States",
            "United Kingdom",
            "France",
            "Japan",
            "Italy",
            "China",
            "India",
            "Canada",
            "Australia",
            "Sweden"
           ],
           "legendgroup": "",
           "marker": {
            "color": "#636efa",
            "pattern": {
             "shape": ""
            }
           },
           "name": "",
           "offsetgroup": "",
           "orientation": "h",
           "showlegend": false,
           "textposition": "auto",
           "type": "bar",
           "x": [
            638600000000,
            86561961812.32494,
            84759195105.86928,
            69498131797.33333,
            57710743059.834145,
            50706614526.14723,
            48421923459.12346,
            45029988561.21245,
            21539843446.37495,
            20204870629.744133
           ],
           "xaxis": "x",
           "y": [
            "United States",
            "United Kingdom",
            "France",
            "Japan",
            "Italy",
            "China",
            "India",
            "Canada",
            "Australia",
            "Sweden"
           ],
           "yaxis": "y"
          }
         ],
         "name": "1963"
        },
        {
         "data": [
          {
           "alignmentgroup": "True",
           "hovertemplate": "Year=1964<br>GDP (in Trillions USD)=%{x}<br>Country Name=%{y}<extra></extra>",
           "ids": [
            "United States",
            "United Kingdom",
            "France",
            "Japan",
            "Italy",
            "China",
            "India",
            "Canada",
            "Australia",
            "Sweden"
           ],
           "legendgroup": "",
           "marker": {
            "color": "#636efa",
            "pattern": {
             "shape": ""
            }
           },
           "name": "",
           "offsetgroup": "",
           "orientation": "h",
           "showlegend": false,
           "textposition": "auto",
           "type": "bar",
           "x": [
            685800000000,
            94407558351.16156,
            94007851047.36778,
            81749006381.51111,
            63175417019.00941,
            59708125203.86431,
            56480289940.989944,
            49377522896.70303,
            23801123808.17981,
            22532416750.012466
           ],
           "xaxis": "x",
           "y": [
            "United States",
            "United Kingdom",
            "France",
            "Japan",
            "Italy",
            "China",
            "India",
            "Canada",
            "Australia",
            "Sweden"
           ],
           "yaxis": "y"
          }
         ],
         "name": "1964"
        },
        {
         "data": [
          {
           "alignmentgroup": "True",
           "hovertemplate": "Year=1965<br>GDP (in Trillions USD)=%{x}<br>Country Name=%{y}<extra></extra>",
           "ids": [
            "United States",
            "United Kingdom",
            "France",
            "Japan",
            "China",
            "Italy",
            "India",
            "Canada",
            "Australia",
            "Sweden"
           ],
           "legendgroup": "",
           "marker": {
            "color": "#636efa",
            "pattern": {
             "shape": ""
            }
           },
           "name": "",
           "offsetgroup": "",
           "orientation": "h",
           "showlegend": false,
           "textposition": "auto",
           "type": "bar",
           "x": [
            743700000000,
            101824755078.99106,
            101537248148.42683,
            90950278257.77777,
            70436008642.42514,
            67978153850.51908,
            59554854575.80849,
            54515179580.71483,
            25976164156.186264,
            24795499685.774994
           ],
           "xaxis": "x",
           "y": [
            "United States",
            "United Kingdom",
            "France",
            "Japan",
            "China",
            "Italy",
            "India",
            "Canada",
            "Australia",
            "Sweden"
           ],
           "yaxis": "y"
          }
         ],
         "name": "1965"
        },
        {
         "data": [
          {
           "alignmentgroup": "True",
           "hovertemplate": "Year=1966<br>GDP (in Trillions USD)=%{x}<br>Country Name=%{y}<extra></extra>",
           "ids": [
            "United States",
            "France",
            "United Kingdom",
            "Japan",
            "China",
            "Italy",
            "Canada",
            "India",
            "Spain",
            "Australia"
           ],
           "legendgroup": "",
           "marker": {
            "color": "#636efa",
            "pattern": {
             "shape": ""
            }
           },
           "name": "",
           "offsetgroup": "",
           "orientation": "h",
           "showlegend": false,
           "textposition": "auto",
           "type": "bar",
           "x": [
            815000000000,
            110045852177.92784,
            108572752102.0447,
            105628070343.11111,
            76720005491.89641,
            73654870011.27574,
            61088384036.65145,
            45865462034.28571,
            28721062242.163357,
            27307844369.2551
           ],
           "xaxis": "x",
           "y": [
            "United States",
            "France",
            "United Kingdom",
            "Japan",
            "China",
            "Italy",
            "Canada",
            "India",
            "Spain",
            "Australia"
           ],
           "yaxis": "y"
          }
         ],
         "name": "1966"
        },
        {
         "data": [
          {
           "alignmentgroup": "True",
           "hovertemplate": "Year=1967<br>GDP (in Trillions USD)=%{x}<br>Country Name=%{y}<extra></extra>",
           "ids": [
            "United States",
            "Japan",
            "France",
            "United Kingdom",
            "Italy",
            "China",
            "Canada",
            "India",
            "Spain",
            "Australia"
           ],
           "legendgroup": "",
           "marker": {
            "color": "#636efa",
            "pattern": {
             "shape": ""
            }
           },
           "name": "",
           "offsetgroup": "",
           "orientation": "h",
           "showlegend": false,
           "textposition": "auto",
           "type": "bar",
           "x": [
            861700000000,
            123781880217.6,
            118972977486.2066,
            113116888210.78702,
            81133120065.42024,
            72881364882.49088,
            65668655501.12544,
            50134942204,
            31647119228.19819,
            30442724870.83598
           ],
           "xaxis": "x",
           "y": [
            "United States",
            "Japan",
            "France",
            "United Kingdom",
            "Italy",
            "China",
            "Canada",
            "India",
            "Spain",
            "Australia"
           ],
           "yaxis": "y"
          }
         ],
         "name": "1967"
        },
        {
         "data": [
          {
           "alignmentgroup": "True",
           "hovertemplate": "Year=1968<br>GDP (in Trillions USD)=%{x}<br>Country Name=%{y}<extra></extra>",
           "ids": [
            "United States",
            "Japan",
            "France",
            "United Kingdom",
            "Italy",
            "Canada",
            "China",
            "India",
            "Australia",
            "Spain"
           ],
           "legendgroup": "",
           "marker": {
            "color": "#636efa",
            "pattern": {
             "shape": ""
            }
           },
           "name": "",
           "offsetgroup": "",
           "orientation": "h",
           "showlegend": false,
           "textposition": "auto",
           "type": "bar",
           "x": [
            942500000000,
            146601072685.5111,
            129785441507.45569,
            107759910067.88947,
            87942231678.35052,
            71829810519.89554,
            70846276051.47272,
            53085455870.666664,
            32714085234.253635,
            31475548481.409546
           ],
           "xaxis": "x",
           "y": [
            "United States",
            "Japan",
            "France",
            "United Kingdom",
            "Italy",
            "Canada",
            "China",
            "India",
            "Australia",
            "Spain"
           ],
           "yaxis": "y"
          }
         ],
         "name": "1968"
        },
        {
         "data": [
          {
           "alignmentgroup": "True",
           "hovertemplate": "Year=1969<br>GDP (in Trillions USD)=%{x}<br>Country Name=%{y}<extra></extra>",
           "ids": [
            "United States",
            "Japan",
            "France",
            "United Kingdom",
            "Italy",
            "China",
            "Canada",
            "India",
            "Australia",
            "Spain"
           ],
           "legendgroup": "",
           "marker": {
            "color": "#636efa",
            "pattern": {
             "shape": ""
            }
           },
           "name": "",
           "offsetgroup": "",
           "orientation": "h",
           "showlegend": false,
           "textposition": "auto",
           "type": "bar",
           "x": [
            1019900000000,
            172204199480.8889,
            141903068680.3094,
            116464702803.21764,
            97085082807.37509,
            79705614854.76736,
            79148411661.69023,
            58447995017.333336,
            36683365869.33854,
            36038711599.540985
           ],
           "xaxis": "x",
           "y": [
            "United States",
            "Japan",
            "France",
            "United Kingdom",
            "Italy",
            "China",
            "Canada",
            "India",
            "Australia",
            "Spain"
           ],
           "yaxis": "y"
          }
         ],
         "name": "1969"
        },
        {
         "data": [
          {
           "alignmentgroup": "True",
           "hovertemplate": "Year=1970<br>GDP (in Trillions USD)=%{x}<br>Country Name=%{y}<extra></extra>",
           "ids": [
            "United States",
            "Japan",
            "Germany",
            "France",
            "United Kingdom",
            "Italy",
            "China",
            "Canada",
            "India",
            "Australia"
           ],
           "legendgroup": "",
           "marker": {
            "color": "#636efa",
            "pattern": {
             "shape": ""
            }
           },
           "name": "",
           "offsetgroup": "",
           "orientation": "h",
           "showlegend": false,
           "textposition": "auto",
           "type": "bar",
           "x": [
            1073303000000,
            217223652719.44446,
            215838448137.65833,
            148456359985.82733,
            130671946244.30045,
            113395315985.13013,
            92602634891.65894,
            88192257632.30931,
            62422483054.666664,
            41333606613.37706
           ],
           "xaxis": "x",
           "y": [
            "United States",
            "Japan",
            "Germany",
            "France",
            "United Kingdom",
            "Italy",
            "China",
            "Canada",
            "India",
            "Australia"
           ],
           "yaxis": "y"
          }
         ],
         "name": "1970"
        },
        {
         "data": [
          {
           "alignmentgroup": "True",
           "hovertemplate": "Year=1971<br>GDP (in Trillions USD)=%{x}<br>Country Name=%{y}<extra></extra>",
           "ids": [
            "United States",
            "Germany",
            "Japan",
            "France",
            "United Kingdom",
            "Italy",
            "China",
            "Canada",
            "India",
            "Spain"
           ],
           "legendgroup": "",
           "marker": {
            "color": "#636efa",
            "pattern": {
             "shape": ""
            }
           },
           "name": "",
           "offsetgroup": "",
           "orientation": "h",
           "showlegend": false,
           "textposition": "auto",
           "type": "bar",
           "x": [
            1164850000000,
            249985055484.3027,
            245364056622.3629,
            165966615366.40228,
            148113896325.13995,
            124672365792.75905,
            99800593790.98865,
            99606454743.51357,
            67351404351.83296,
            46619420359.28144
           ],
           "xaxis": "x",
           "y": [
            "United States",
            "Germany",
            "Japan",
            "France",
            "United Kingdom",
            "Italy",
            "China",
            "Canada",
            "India",
            "Spain"
           ],
           "yaxis": "y"
          }
         ],
         "name": "1971"
        },
        {
         "data": [
          {
           "alignmentgroup": "True",
           "hovertemplate": "Year=1972<br>GDP (in Trillions USD)=%{x}<br>Country Name=%{y}<extra></extra>",
           "ids": [
            "United States",
            "Japan",
            "Germany",
            "France",
            "United Kingdom",
            "Italy",
            "China",
            "Canada",
            "India",
            "Spain"
           ],
           "legendgroup": "",
           "marker": {
            "color": "#636efa",
            "pattern": {
             "shape": ""
            }
           },
           "name": "",
           "offsetgroup": "",
           "orientation": "h",
           "showlegend": false,
           "textposition": "auto",
           "type": "bar",
           "x": [
            1279110000000,
            324933841268.5847,
            299801542047.4759,
            203494148244.47333,
            169965034965.03497,
            145260039840.63745,
            113689308020.34328,
            113463848873.6236,
            71463193831.00923,
            59132415221.330574
           ],
           "xaxis": "x",
           "y": [
            "United States",
            "Japan",
            "Germany",
            "France",
            "United Kingdom",
            "Italy",
            "China",
            "Canada",
            "India",
            "Spain"
           ],
           "yaxis": "y"
          }
         ],
         "name": "1972"
        },
        {
         "data": [
          {
           "alignmentgroup": "True",
           "hovertemplate": "Year=1973<br>GDP (in Trillions USD)=%{x}<br>Country Name=%{y}<extra></extra>",
           "ids": [
            "United States",
            "Japan",
            "Germany",
            "France",
            "United Kingdom",
            "Italy",
            "China",
            "Canada",
            "India",
            "Spain"
           ],
           "legendgroup": "",
           "marker": {
            "color": "#636efa",
            "pattern": {
             "shape": ""
            }
           },
           "name": "",
           "offsetgroup": "",
           "orientation": "h",
           "showlegend": false,
           "textposition": "auto",
           "type": "bar",
           "x": [
            1425376000000,
            441460582535.9208,
            398374021953.8968,
            264429876252.2098,
            192537971582.55756,
            175492055795.4168,
            138543170458.06406,
            131764343565.64342,
            85515269585.39996,
            78639525985.15134
           ],
           "xaxis": "x",
           "y": [
            "United States",
            "Japan",
            "Germany",
            "France",
            "United Kingdom",
            "Italy",
            "China",
            "Canada",
            "India",
            "Spain"
           ],
           "yaxis": "y"
          }
         ],
         "name": "1973"
        },
        {
         "data": [
          {
           "alignmentgroup": "True",
           "hovertemplate": "Year=1974<br>GDP (in Trillions USD)=%{x}<br>Country Name=%{y}<extra></extra>",
           "ids": [
            "United States",
            "Japan",
            "Germany",
            "France",
            "United Kingdom",
            "Italy",
            "Canada",
            "China",
            "India",
            "Spain"
           ],
           "legendgroup": "",
           "marker": {
            "color": "#636efa",
            "pattern": {
             "shape": ""
            }
           },
           "name": "",
           "offsetgroup": "",
           "orientation": "h",
           "showlegend": false,
           "textposition": "auto",
           "type": "bar",
           "x": [
            1545243000000,
            490035789970.2995,
            445303484241.55396,
            285553737043.09875,
            206131369798.97147,
            199564489431.3784,
            160949188139.0593,
            144188970821.072,
            99525899116.05397,
            97274006345.5437
           ],
           "xaxis": "x",
           "y": [
            "United States",
            "Japan",
            "Germany",
            "France",
            "United Kingdom",
            "Italy",
            "Canada",
            "China",
            "India",
            "Spain"
           ],
           "yaxis": "y"
          }
         ],
         "name": "1974"
        },
        {
         "data": [
          {
           "alignmentgroup": "True",
           "hovertemplate": "Year=1975<br>GDP (in Trillions USD)=%{x}<br>Country Name=%{y}<extra></extra>",
           "ids": [
            "United States",
            "Japan",
            "Germany",
            "France",
            "United Kingdom",
            "Italy",
            "Canada",
            "China",
            "Spain",
            "Netherlands"
           ],
           "legendgroup": "",
           "marker": {
            "color": "#636efa",
            "pattern": {
             "shape": ""
            }
           },
           "name": "",
           "offsetgroup": "",
           "orientation": "h",
           "showlegend": false,
           "textposition": "auto",
           "type": "bar",
           "x": [
            1684904000000,
            532861438884.7239,
            490636517211.22504,
            360832186018.05115,
            241756637168.14157,
            227695851126.92764,
            174419757176.5631,
            163429530659.63803,
            114777046376.8116,
            100249523353.0847
           ],
           "xaxis": "x",
           "y": [
            "United States",
            "Japan",
            "Germany",
            "France",
            "United Kingdom",
            "Italy",
            "Canada",
            "China",
            "Spain",
            "Netherlands"
           ],
           "yaxis": "y"
          }
         ],
         "name": "1975"
        },
        {
         "data": [
          {
           "alignmentgroup": "True",
           "hovertemplate": "Year=1976<br>GDP (in Trillions USD)=%{x}<br>Country Name=%{y}<extra></extra>",
           "ids": [
            "United States",
            "Japan",
            "Germany",
            "France",
            "United Kingdom",
            "Italy",
            "Canada",
            "China",
            "Spain",
            "Netherlands"
           ],
           "legendgroup": "",
           "marker": {
            "color": "#636efa",
            "pattern": {
             "shape": ""
            }
           },
           "name": "",
           "offsetgroup": "",
           "orientation": "h",
           "showlegend": false,
           "textposition": "auto",
           "type": "bar",
           "x": [
            1873412000000,
            598883902155.6049,
            519754453161.4106,
            372319038514.0672,
            232614555256.0647,
            224717278436.84576,
            207271612576.0649,
            153939265947.7752,
            118507184779.90549,
            109168720620.10335
           ],
           "xaxis": "x",
           "y": [
            "United States",
            "Japan",
            "Germany",
            "France",
            "United Kingdom",
            "Italy",
            "Canada",
            "China",
            "Spain",
            "Netherlands"
           ],
           "yaxis": "y"
          }
         ],
         "name": "1976"
        },
        {
         "data": [
          {
           "alignmentgroup": "True",
           "hovertemplate": "Year=1977<br>GDP (in Trillions USD)=%{x}<br>Country Name=%{y}<extra></extra>",
           "ids": [
            "United States",
            "Japan",
            "Germany",
            "France",
            "United Kingdom",
            "Italy",
            "Canada",
            "China",
            "Spain",
            "Netherlands"
           ],
           "legendgroup": "",
           "marker": {
            "color": "#636efa",
            "pattern": {
             "shape": ""
            }
           },
           "name": "",
           "offsetgroup": "",
           "orientation": "h",
           "showlegend": false,
           "textposition": "auto",
           "type": "bar",
           "x": [
            2081826000000,
            737069290927.7122,
            600498238019.0348,
            410279486493.7149,
            263066457352.17163,
            257596313364.0553,
            212325176304.65448,
            174935933078.6625,
            132449277108.43373,
            127016990212.80417
           ],
           "xaxis": "x",
           "y": [
            "United States",
            "Japan",
            "Germany",
            "France",
            "United Kingdom",
            "Italy",
            "Canada",
            "China",
            "Spain",
            "Netherlands"
           ],
           "yaxis": "y"
          }
         ],
         "name": "1977"
        },
        {
         "data": [
          {
           "alignmentgroup": "True",
           "hovertemplate": "Year=1978<br>GDP (in Trillions USD)=%{x}<br>Country Name=%{y}<extra></extra>",
           "ids": [
            "United States",
            "Japan",
            "Germany",
            "France",
            "United Kingdom",
            "Italy",
            "Canada",
            "China",
            "Spain",
            "Netherlands"
           ],
           "legendgroup": "",
           "marker": {
            "color": "#636efa",
            "pattern": {
             "shape": ""
            }
           },
           "name": "",
           "offsetgroup": "",
           "orientation": "h",
           "showlegend": false,
           "textposition": "auto",
           "type": "bar",
           "x": [
            2351599000000,
            1035611588216.594,
            740469983446.9329,
            506709302325.5814,
            335883029721.95593,
            315058323066.3929,
            219369542386.25406,
            218502169137.56238,
            160599687500,
            155859695457.32327
           ],
           "xaxis": "x",
           "y": [
            "United States",
            "Japan",
            "Germany",
            "France",
            "United Kingdom",
            "Italy",
            "Canada",
            "China",
            "Spain",
            "Netherlands"
           ],
           "yaxis": "y"
          }
         ],
         "name": "1978"
        },
        {
         "data": [
          {
           "alignmentgroup": "True",
           "hovertemplate": "Year=1979<br>GDP (in Trillions USD)=%{x}<br>Country Name=%{y}<extra></extra>",
           "ids": [
            "United States",
            "Japan",
            "Germany",
            "France",
            "United Kingdom",
            "Italy",
            "China",
            "Canada",
            "Spain",
            "Netherlands"
           ],
           "legendgroup": "",
           "marker": {
            "color": "#636efa",
            "pattern": {
             "shape": ""
            }
           },
           "name": "",
           "offsetgroup": "",
           "orientation": "h",
           "showlegend": false,
           "textposition": "auto",
           "type": "bar",
           "x": [
            2627333000000,
            1077910077676.3713,
            881345176608.6863,
            613953129818.0697,
            438994070309.19104,
            393677161500.8157,
            263711728825.00482,
            243891124295.71454,
            214601955875.06198,
            179669405690.43173
           ],
           "xaxis": "x",
           "y": [
            "United States",
            "Japan",
            "Germany",
            "France",
            "United Kingdom",
            "Italy",
            "China",
            "Canada",
            "Spain",
            "Netherlands"
           ],
           "yaxis": "y"
          }
         ],
         "name": "1979"
        },
        {
         "data": [
          {
           "alignmentgroup": "True",
           "hovertemplate": "Year=1980<br>GDP (in Trillions USD)=%{x}<br>Country Name=%{y}<extra></extra>",
           "ids": [
            "United States",
            "Japan",
            "Germany",
            "France",
            "United Kingdom",
            "Italy",
            "China",
            "Canada",
            "Spain",
            "Mexico"
           ],
           "legendgroup": "",
           "marker": {
            "color": "#636efa",
            "pattern": {
             "shape": ""
            }
           },
           "name": "",
           "offsetgroup": "",
           "orientation": "h",
           "showlegend": false,
           "textposition": "auto",
           "type": "bar",
           "x": [
            2857307000000,
            1129377244854.036,
            950290856466.5376,
            701288419745.4207,
            564947710899.3726,
            477256775943.92944,
            306165314855.84625,
            274776566028.05338,
            232766822928.75375,
            205577055465.99277
           ],
           "xaxis": "x",
           "y": [
            "United States",
            "Japan",
            "Germany",
            "France",
            "United Kingdom",
            "Italy",
            "China",
            "Canada",
            "Spain",
            "Mexico"
           ],
           "yaxis": "y"
          }
         ],
         "name": "1980"
        },
        {
         "data": [
          {
           "alignmentgroup": "True",
           "hovertemplate": "Year=1981<br>GDP (in Trillions USD)=%{x}<br>Country Name=%{y}<extra></extra>",
           "ids": [
            "United States",
            "Japan",
            "Germany",
            "France",
            "United Kingdom",
            "Italy",
            "Canada",
            "China",
            "Mexico",
            "Spain"
           ],
           "legendgroup": "",
           "marker": {
            "color": "#636efa",
            "pattern": {
             "shape": ""
            }
           },
           "name": "",
           "offsetgroup": "",
           "orientation": "h",
           "showlegend": false,
           "textposition": "auto",
           "type": "bar",
           "x": [
            3207041000000,
            1245221410764.1482,
            800472055387.2782,
            615552202776.1013,
            540765675241.1576,
            430702851303.01483,
            307246642755.8595,
            289576581830.44885,
            263797827860.4936,
            202807891511.98416
           ],
           "xaxis": "x",
           "y": [
            "United States",
            "Japan",
            "Germany",
            "France",
            "United Kingdom",
            "Italy",
            "Canada",
            "China",
            "Mexico",
            "Spain"
           ],
           "yaxis": "y"
          }
         ],
         "name": "1981"
        },
        {
         "data": [
          {
           "alignmentgroup": "True",
           "hovertemplate": "Year=1982<br>GDP (in Trillions USD)=%{x}<br>Country Name=%{y}<extra></extra>",
           "ids": [
            "United States",
            "Japan",
            "Germany",
            "France",
            "United Kingdom",
            "Italy",
            "Canada",
            "China",
            "India",
            "Spain"
           ],
           "legendgroup": "",
           "marker": {
            "color": "#636efa",
            "pattern": {
             "shape": ""
            }
           },
           "name": "",
           "offsetgroup": "",
           "orientation": "h",
           "showlegend": false,
           "textposition": "auto",
           "type": "bar",
           "x": [
            3343789000000,
            1158731426905.8486,
            776576439106.9558,
            584877732308.6136,
            515048916841.3696,
            427272645669.2913,
            314647807408.6083,
            283928672988.1109,
            200715624830.9017,
            195996754505.5278
           ],
           "xaxis": "x",
           "y": [
            "United States",
            "Japan",
            "Germany",
            "France",
            "United Kingdom",
            "Italy",
            "Canada",
            "China",
            "India",
            "Spain"
           ],
           "yaxis": "y"
          }
         ],
         "name": "1982"
        },
        {
         "data": [
          {
           "alignmentgroup": "True",
           "hovertemplate": "Year=1983<br>GDP (in Trillions USD)=%{x}<br>Country Name=%{y}<extra></extra>",
           "ids": [
            "United States",
            "Japan",
            "Germany",
            "France",
            "United Kingdom",
            "Italy",
            "Canada",
            "China",
            "India",
            "Australia"
           ],
           "legendgroup": "",
           "marker": {
            "color": "#636efa",
            "pattern": {
             "shape": ""
            }
           },
           "name": "",
           "offsetgroup": "",
           "orientation": "h",
           "showlegend": false,
           "textposition": "auto",
           "type": "bar",
           "x": [
            3634038000000,
            1270859919742.9011,
            770684323247.7977,
            559869179791.7205,
            489618008185.53894,
            443042373788.88324,
            341866277182.7329,
            304748904221.28864,
            218262146413.1575,
            177265418961.89316
           ],
           "xaxis": "x",
           "y": [
            "United States",
            "Japan",
            "Germany",
            "France",
            "United Kingdom",
            "Italy",
            "Canada",
            "China",
            "India",
            "Australia"
           ],
           "yaxis": "y"
          }
         ],
         "name": "1983"
        },
        {
         "data": [
          {
           "alignmentgroup": "True",
           "hovertemplate": "Year=1984<br>GDP (in Trillions USD)=%{x}<br>Country Name=%{y}<extra></extra>",
           "ids": [
            "United States",
            "Japan",
            "Germany",
            "France",
            "United Kingdom",
            "Italy",
            "Canada",
            "China",
            "India",
            "Australia"
           ],
           "legendgroup": "",
           "marker": {
            "color": "#636efa",
            "pattern": {
             "shape": ""
            }
           },
           "name": "",
           "offsetgroup": "",
           "orientation": "h",
           "showlegend": false,
           "textposition": "auto",
           "type": "bar",
           "x": [
            4037613000000,
            1345824500836.7627,
            725111123634.1145,
            530683779929.4453,
            461487097632.349,
            437887689001.5429,
            356718400123.5426,
            313728547706.89655,
            212157645177.6516,
            193518998163.39618
           ],
           "xaxis": "x",
           "y": [
            "United States",
            "Japan",
            "Germany",
            "France",
            "United Kingdom",
            "Italy",
            "Canada",
            "China",
            "India",
            "Australia"
           ],
           "yaxis": "y"
          }
         ],
         "name": "1984"
        },
        {
         "data": [
          {
           "alignmentgroup": "True",
           "hovertemplate": "Year=1985<br>GDP (in Trillions USD)=%{x}<br>Country Name=%{y}<extra></extra>",
           "ids": [
            "United States",
            "Japan",
            "Germany",
            "France",
            "United Kingdom",
            "Italy",
            "Canada",
            "China",
            "India",
            "Mexico"
           ],
           "legendgroup": "",
           "marker": {
            "color": "#636efa",
            "pattern": {
             "shape": ""
            }
           },
           "name": "",
           "offsetgroup": "",
           "orientation": "h",
           "showlegend": false,
           "textposition": "auto",
           "type": "bar",
           "x": [
            4338979000000,
            1427019759717.4094,
            732534887058.1982,
            553138414367.0609,
            489285164271.04724,
            452217492140.75653,
            366186012449.65216,
            309835803013.5867,
            232511554840.37195,
            195241069482.0767
           ],
           "xaxis": "x",
           "y": [
            "United States",
            "Japan",
            "Germany",
            "France",
            "United Kingdom",
            "Italy",
            "Canada",
            "China",
            "India",
            "Mexico"
           ],
           "yaxis": "y"
          }
         ],
         "name": "1985"
        },
        {
         "data": [
          {
           "alignmentgroup": "True",
           "hovertemplate": "Year=1986<br>GDP (in Trillions USD)=%{x}<br>Country Name=%{y}<extra></extra>",
           "ids": [
            "United States",
            "Japan",
            "Germany",
            "France",
            "Italy",
            "United Kingdom",
            "Canada",
            "China",
            "Spain",
            "India"
           ],
           "legendgroup": "",
           "marker": {
            "color": "#636efa",
            "pattern": {
             "shape": ""
            }
           },
           "name": "",
           "offsetgroup": "",
           "orientation": "h",
           "showlegend": false,
           "textposition": "auto",
           "type": "bar",
           "x": [
            4579631000000,
            2120083812109.9124,
            1046259374943.7089,
            771470783218.1078,
            640386352773.0874,
            601452653180.8854,
            379006836991.72363,
            300514204520.9685,
            251321075204.94238,
            248985994040.5897
           ],
           "xaxis": "x",
           "y": [
            "United States",
            "Japan",
            "Germany",
            "France",
            "Italy",
            "United Kingdom",
            "Canada",
            "China",
            "Spain",
            "India"
           ],
           "yaxis": "y"
          }
         ],
         "name": "1986"
        },
        {
         "data": [
          {
           "alignmentgroup": "True",
           "hovertemplate": "Year=1987<br>GDP (in Trillions USD)=%{x}<br>Country Name=%{y}<extra></extra>",
           "ids": [
            "United States",
            "Japan",
            "Germany",
            "France",
            "Italy",
            "United Kingdom",
            "Canada",
            "China",
            "Spain",
            "India"
           ],
           "legendgroup": "",
           "marker": {
            "color": "#636efa",
            "pattern": {
             "shape": ""
            }
           },
           "name": "",
           "offsetgroup": "",
           "orientation": "h",
           "showlegend": false,
           "textposition": "auto",
           "type": "bar",
           "x": [
            4855215000000,
            2580748422781.091,
            1298176105549.5103,
            934173305685.9108,
            805713128174.4846,
            745162608269.3251,
            433134238310.70886,
            327089403146.0734,
            318747935588.1957,
            279033584092.22345
           ],
           "xaxis": "x",
           "y": [
            "United States",
            "Japan",
            "Germany",
            "France",
            "Italy",
            "United Kingdom",
            "Canada",
            "China",
            "Spain",
            "India"
           ],
           "yaxis": "y"
          }
         ],
         "name": "1987"
        },
        {
         "data": [
          {
           "alignmentgroup": "True",
           "hovertemplate": "Year=1988<br>GDP (in Trillions USD)=%{x}<br>Country Name=%{y}<extra></extra>",
           "ids": [
            "United States",
            "Japan",
            "Germany",
            "France",
            "United Kingdom",
            "Italy",
            "Russian Federation",
            "Canada",
            "China",
            "Spain"
           ],
           "legendgroup": "",
           "marker": {
            "color": "#636efa",
            "pattern": {
             "shape": ""
            }
           },
           "name": "",
           "offsetgroup": "",
           "orientation": "h",
           "showlegend": false,
           "textposition": "auto",
           "type": "bar",
           "x": [
            5236438000000,
            3125724434400.792,
            1401233225303.4858,
            1018847043277.1721,
            910122732123.7993,
            891608957155.6084,
            554828660436.137,
            509380027626.554,
            407844670393.0577,
            376160409941.43695
           ],
           "xaxis": "x",
           "y": [
            "United States",
            "Japan",
            "Germany",
            "France",
            "United Kingdom",
            "Italy",
            "Russian Federation",
            "Canada",
            "China",
            "Spain"
           ],
           "yaxis": "y"
          }
         ],
         "name": "1988"
        },
        {
         "data": [
          {
           "alignmentgroup": "True",
           "hovertemplate": "Year=1989<br>GDP (in Trillions USD)=%{x}<br>Country Name=%{y}<extra></extra>",
           "ids": [
            "United States",
            "Japan",
            "Germany",
            "France",
            "Italy",
            "United Kingdom",
            "Canada",
            "Russian Federation",
            "China",
            "Brazil"
           ],
           "legendgroup": "",
           "marker": {
            "color": "#636efa",
            "pattern": {
             "shape": ""
            }
           },
           "name": "",
           "offsetgroup": "",
           "orientation": "h",
           "showlegend": false,
           "textposition": "auto",
           "type": "bar",
           "x": [
            5641580000000,
            3109455047823.931,
            1398967436804.3274,
            1025211803413.5308,
            928661332204.3466,
            926884816753.9268,
            567211993243.2433,
            506631299734.748,
            456289122063.159,
            425595310393.455
           ],
           "xaxis": "x",
           "y": [
            "United States",
            "Japan",
            "Germany",
            "France",
            "Italy",
            "United Kingdom",
            "Canada",
            "Russian Federation",
            "China",
            "Brazil"
           ],
           "yaxis": "y"
          }
         ],
         "name": "1989"
        },
        {
         "data": [
          {
           "alignmentgroup": "True",
           "hovertemplate": "Year=1990<br>GDP (in Trillions USD)=%{x}<br>Country Name=%{y}<extra></extra>",
           "ids": [
            "United States",
            "Japan",
            "Germany",
            "France",
            "Italy",
            "United Kingdom",
            "Canada",
            "Spain",
            "Russian Federation",
            "Brazil"
           ],
           "legendgroup": "",
           "marker": {
            "color": "#636efa",
            "pattern": {
             "shape": ""
            }
           },
           "name": "",
           "offsetgroup": "",
           "orientation": "h",
           "showlegend": false,
           "textposition": "auto",
           "type": "bar",
           "x": [
            5963144000000,
            3185904656663.8467,
            1771671206875.681,
            1269179616913.625,
            1181222653522.9475,
            1093169389204.5454,
            596075591360.9873,
            536558591250.4081,
            517014446227.9294,
            461951781818.18
           ],
           "xaxis": "x",
           "y": [
            "United States",
            "Japan",
            "Germany",
            "France",
            "Italy",
            "United Kingdom",
            "Canada",
            "Spain",
            "Russian Federation",
            "Brazil"
           ],
           "yaxis": "y"
          }
         ],
         "name": "1990"
        },
        {
         "data": [
          {
           "alignmentgroup": "True",
           "hovertemplate": "Year=1991<br>GDP (in Trillions USD)=%{x}<br>Country Name=%{y}<extra></extra>",
           "ids": [
            "United States",
            "Japan",
            "Germany",
            "France",
            "Italy",
            "United Kingdom",
            "Canada",
            "Spain",
            "Russian Federation",
            "China"
           ],
           "legendgroup": "",
           "marker": {
            "color": "#636efa",
            "pattern": {
             "shape": ""
            }
           },
           "name": "",
           "offsetgroup": "",
           "orientation": "h",
           "showlegend": false,
           "textposition": "auto",
           "type": "bar",
           "x": [
            6158129000000,
            3648065760648.876,
            1868945197407.189,
            1269276828275.782,
            1246220156079.288,
            1142797178130.5115,
            612527712315.615,
            577166174539.6317,
            517962962962.96295,
            413375445354.47266
           ],
           "xaxis": "x",
           "y": [
            "United States",
            "Japan",
            "Germany",
            "France",
            "Italy",
            "United Kingdom",
            "Canada",
            "Spain",
            "Russian Federation",
            "China"
           ],
           "yaxis": "y"
          }
         ],
         "name": "1991"
        },
        {
         "data": [
          {
           "alignmentgroup": "True",
           "hovertemplate": "Year=1992<br>GDP (in Trillions USD)=%{x}<br>Country Name=%{y}<extra></extra>",
           "ids": [
            "United States",
            "Japan",
            "Germany",
            "France",
            "Italy",
            "United Kingdom",
            "Spain",
            "Canada",
            "China",
            "Russian Federation"
           ],
           "legendgroup": "",
           "marker": {
            "color": "#636efa",
            "pattern": {
             "shape": ""
            }
           },
           "name": "",
           "offsetgroup": "",
           "orientation": "h",
           "showlegend": false,
           "textposition": "auto",
           "type": "bar",
           "x": [
            6520327000000,
            3980702922117.6567,
            2131571696931.747,
            1401465923172.2427,
            1320161644933.2288,
            1179659529659.5298,
            630916018202.5029,
            594387358318.8549,
            493136961883.0015,
            460290556900.7264
           ],
           "xaxis": "x",
           "y": [
            "United States",
            "Japan",
            "Germany",
            "France",
            "Italy",
            "United Kingdom",
            "Spain",
            "Canada",
            "China",
            "Russian Federation"
           ],
           "yaxis": "y"
          }
         ],
         "name": "1992"
        },
        {
         "data": [
          {
           "alignmentgroup": "True",
           "hovertemplate": "Year=1993<br>GDP (in Trillions USD)=%{x}<br>Country Name=%{y}<extra></extra>",
           "ids": [
            "United States",
            "Japan",
            "Germany",
            "France",
            "Italy",
            "United Kingdom",
            "China",
            "Canada",
            "Mexico",
            "Spain"
           ],
           "legendgroup": "",
           "marker": {
            "color": "#636efa",
            "pattern": {
             "shape": ""
            }
           },
           "name": "",
           "offsetgroup": "",
           "orientation": "h",
           "showlegend": false,
           "textposition": "auto",
           "type": "bar",
           "x": [
            6858559000000,
            4536940479038.254,
            2071323790370.2827,
            1322815612694.0005,
            1064958075550.6337,
            1061388722255.549,
            619111946511.6279,
            579053561739.4,
            530160763983.50635,
            525075636030.8537
           ],
           "xaxis": "x",
           "y": [
            "United States",
            "Japan",
            "Germany",
            "France",
            "Italy",
            "United Kingdom",
            "China",
            "Canada",
            "Mexico",
            "Spain"
           ],
           "yaxis": "y"
          }
         ],
         "name": "1993"
        },
        {
         "data": [
          {
           "alignmentgroup": "True",
           "hovertemplate": "Year=1994<br>GDP (in Trillions USD)=%{x}<br>Country Name=%{y}<extra></extra>",
           "ids": [
            "United States",
            "Japan",
            "Germany",
            "France",
            "United Kingdom",
            "Italy",
            "Canada",
            "China",
            "Mexico",
            "Brazil"
           ],
           "legendgroup": "",
           "marker": {
            "color": "#636efa",
            "pattern": {
             "shape": ""
            }
           },
           "name": "",
           "offsetgroup": "",
           "orientation": "h",
           "showlegend": false,
           "textposition": "auto",
           "type": "bar",
           "x": [
            7287236000000,
            4998797547740.975,
            2205074123177.052,
            1393982750472.5898,
            1140489745944.2915,
            1099216688280.4995,
            579944346807.2643,
            564321854521.0131,
            553618247900.7395,
            546229749726.2631
           ],
           "xaxis": "x",
           "y": [
            "United States",
            "Japan",
            "Germany",
            "France",
            "United Kingdom",
            "Italy",
            "Canada",
            "China",
            "Mexico",
            "Brazil"
           ],
           "yaxis": "y"
          }
         ],
         "name": "1994"
        },
        {
         "data": [
          {
           "alignmentgroup": "True",
           "hovertemplate": "Year=1995<br>GDP (in Trillions USD)=%{x}<br>Country Name=%{y}<extra></extra>",
           "ids": [
            "United States",
            "Japan",
            "Germany",
            "France",
            "United Kingdom",
            "Italy",
            "Brazil",
            "China",
            "Spain",
            "Canada"
           ],
           "legendgroup": "",
           "marker": {
            "color": "#636efa",
            "pattern": {
             "shape": ""
            }
           },
           "name": "",
           "offsetgroup": "",
           "orientation": "h",
           "showlegend": false,
           "textposition": "auto",
           "type": "bar",
           "x": [
            7639749000000,
            5545563663889.704,
            2585792275146.718,
            1601094756209.7515,
            1344240176739.7822,
            1174662070605.0159,
            769333050986.9048,
            734484834573.582,
            614609020549.7732,
            605961090061.2067
           ],
           "xaxis": "x",
           "y": [
            "United States",
            "Japan",
            "Germany",
            "France",
            "United Kingdom",
            "Italy",
            "Brazil",
            "China",
            "Spain",
            "Canada"
           ],
           "yaxis": "y"
          }
         ],
         "name": "1995"
        },
        {
         "data": [
          {
           "alignmentgroup": "True",
           "hovertemplate": "Year=1996<br>GDP (in Trillions USD)=%{x}<br>Country Name=%{y}<extra></extra>",
           "ids": [
            "United States",
            "Japan",
            "Germany",
            "France",
            "United Kingdom",
            "Italy",
            "China",
            "Brazil",
            "Spain",
            "Canada"
           ],
           "legendgroup": "",
           "marker": {
            "color": "#636efa",
            "pattern": {
             "shape": ""
            }
           },
           "name": "",
           "offsetgroup": "",
           "orientation": "h",
           "showlegend": false,
           "textposition": "auto",
           "type": "bar",
           "x": [
            8073122000000,
            4923391533851.632,
            2497244606186.639,
            1605675086549.5576,
            1419645865834.6333,
            1312426527795.2063,
            863749314718.5378,
            850426432991.7421,
            642588992512.807,
            630607994132.7466
           ],
           "xaxis": "x",
           "y": [
            "United States",
            "Japan",
            "Germany",
            "France",
            "United Kingdom",
            "Italy",
            "China",
            "Brazil",
            "Spain",
            "Canada"
           ],
           "yaxis": "y"
          }
         ],
         "name": "1996"
        },
        {
         "data": [
          {
           "alignmentgroup": "True",
           "hovertemplate": "Year=1997<br>GDP (in Trillions USD)=%{x}<br>Country Name=%{y}<extra></extra>",
           "ids": [
            "United States",
            "Japan",
            "Germany",
            "United Kingdom",
            "France",
            "Italy",
            "China",
            "Brazil",
            "Canada",
            "Spain"
           ],
           "legendgroup": "",
           "marker": {
            "color": "#636efa",
            "pattern": {
             "shape": ""
            }
           },
           "name": "",
           "offsetgroup": "",
           "orientation": "h",
           "showlegend": false,
           "textposition": "auto",
           "type": "bar",
           "x": [
            8577554457000,
            4492448605638.937,
            2211989623279.946,
            1560911918795.023,
            1452884917959.0918,
            1241879604365.6206,
            961601980984.6226,
            883206179730.4618,
            654986999855.554,
            590077272727.2727
           ],
           "xaxis": "x",
           "y": [
            "United States",
            "Japan",
            "Germany",
            "United Kingdom",
            "France",
            "Italy",
            "China",
            "Brazil",
            "Canada",
            "Spain"
           ],
           "yaxis": "y"
          }
         ],
         "name": "1997"
        },
        {
         "data": [
          {
           "alignmentgroup": "True",
           "hovertemplate": "Year=1998<br>GDP (in Trillions USD)=%{x}<br>Country Name=%{y}<extra></extra>",
           "ids": [
            "United States",
            "Japan",
            "Germany",
            "United Kingdom",
            "France",
            "Italy",
            "China",
            "Brazil",
            "Canada",
            "Spain"
           ],
           "legendgroup": "",
           "marker": {
            "color": "#636efa",
            "pattern": {
             "shape": ""
            }
           },
           "name": "",
           "offsetgroup": "",
           "orientation": "h",
           "showlegend": false,
           "textposition": "auto",
           "type": "bar",
           "x": [
            9062818202000,
            4098362709531.2407,
            2238990774702.6787,
            1653694932096.7207,
            1503108739159.4397,
            1270052525928.404,
            1029060747620.6549,
            863710759256.4348,
            634000000000,
            619214834614.0995
           ],
           "xaxis": "x",
           "y": [
            "United States",
            "Japan",
            "Germany",
            "United Kingdom",
            "France",
            "Italy",
            "China",
            "Brazil",
            "Canada",
            "Spain"
           ],
           "yaxis": "y"
          }
         ],
         "name": "1998"
        },
        {
         "data": [
          {
           "alignmentgroup": "True",
           "hovertemplate": "Year=1999<br>GDP (in Trillions USD)=%{x}<br>Country Name=%{y}<extra></extra>",
           "ids": [
            "United States",
            "Japan",
            "Germany",
            "United Kingdom",
            "France",
            "Italy",
            "China",
            "Canada",
            "Spain",
            "Mexico"
           ],
           "legendgroup": "",
           "marker": {
            "color": "#636efa",
            "pattern": {
             "shape": ""
            }
           },
           "name": "",
           "offsetgroup": "",
           "orientation": "h",
           "showlegend": false,
           "textposition": "auto",
           "type": "bar",
           "x": [
            9631174489000,
            4635982224063.884,
            2194945278872.5918,
            1687830448147.549,
            1493151737698.459,
            1252446659833.7866,
            1094010482677.3937,
            678412196271.118,
            634907542858.3025,
            631249359702.389
           ],
           "xaxis": "x",
           "y": [
            "United States",
            "Japan",
            "Germany",
            "United Kingdom",
            "France",
            "Italy",
            "China",
            "Canada",
            "Spain",
            "Mexico"
           ],
           "yaxis": "y"
          }
         ],
         "name": "1999"
        },
        {
         "data": [
          {
           "alignmentgroup": "True",
           "hovertemplate": "Year=2000<br>GDP (in Trillions USD)=%{x}<br>Country Name=%{y}<extra></extra>",
           "ids": [
            "United States",
            "Japan",
            "Germany",
            "United Kingdom",
            "France",
            "China",
            "Italy",
            "Canada",
            "Mexico",
            "Brazil"
           ],
           "legendgroup": "",
           "marker": {
            "color": "#636efa",
            "pattern": {
             "shape": ""
            }
           },
           "name": "",
           "offsetgroup": "",
           "orientation": "h",
           "showlegend": false,
           "textposition": "auto",
           "type": "bar",
           "x": [
            10250947997000,
            4968359075956.591,
            1947981991011.7688,
            1665534876683.3105,
            1365639660792.1597,
            1211331651829.8477,
            1146676894209.728,
            744773415931.587,
            742061329643.3695,
            655448231983.5271
           ],
           "xaxis": "x",
           "y": [
            "United States",
            "Japan",
            "Germany",
            "United Kingdom",
            "France",
            "China",
            "Italy",
            "Canada",
            "Mexico",
            "Brazil"
           ],
           "yaxis": "y"
          }
         ],
         "name": "2000"
        },
        {
         "data": [
          {
           "alignmentgroup": "True",
           "hovertemplate": "Year=2001<br>GDP (in Trillions USD)=%{x}<br>Country Name=%{y}<extra></extra>",
           "ids": [
            "United States",
            "Japan",
            "Germany",
            "United Kingdom",
            "France",
            "China",
            "Italy",
            "Mexico",
            "Canada",
            "Spain"
           ],
           "legendgroup": "",
           "marker": {
            "color": "#636efa",
            "pattern": {
             "shape": ""
            }
           },
           "name": "",
           "offsetgroup": "",
           "orientation": "h",
           "showlegend": false,
           "textposition": "auto",
           "type": "bar",
           "x": [
            10581929774000,
            4374711694090.8706,
            1945790973803.1519,
            1649827263567.0073,
            1377657339291.3403,
            1339400897153.4365,
            1168023426056.3794,
            796064590656.1759,
            738981792355.372,
            627830029412.2054
           ],
           "xaxis": "x",
           "y": [
            "United States",
            "Japan",
            "Germany",
            "United Kingdom",
            "France",
            "China",
            "Italy",
            "Mexico",
            "Canada",
            "Spain"
           ],
           "yaxis": "y"
          }
         ],
         "name": "2001"
        },
        {
         "data": [
          {
           "alignmentgroup": "True",
           "hovertemplate": "Year=2002<br>GDP (in Trillions USD)=%{x}<br>Country Name=%{y}<extra></extra>",
           "ids": [
            "United States",
            "Japan",
            "Germany",
            "United Kingdom",
            "France",
            "China",
            "Italy",
            "Mexico",
            "Canada",
            "Spain"
           ],
           "legendgroup": "",
           "marker": {
            "color": "#636efa",
            "pattern": {
             "shape": ""
            }
           },
           "name": "",
           "offsetgroup": "",
           "orientation": "h",
           "showlegend": false,
           "textposition": "auto",
           "type": "bar",
           "x": [
            10929112955000,
            4182846045873.608,
            2078484517474.5134,
            1785729916067.1462,
            1501409382971.3752,
            1470557654824.1099,
            1276769338449.2964,
            810666116505.4778,
            760649334098.0055,
            708756677088.6287
           ],
           "xaxis": "x",
           "y": [
            "United States",
            "Japan",
            "Germany",
            "United Kingdom",
            "France",
            "China",
            "Italy",
            "Mexico",
            "Canada",
            "Spain"
           ],
           "yaxis": "y"
          }
         ],
         "name": "2002"
        },
        {
         "data": [
          {
           "alignmentgroup": "True",
           "hovertemplate": "Year=2003<br>GDP (in Trillions USD)=%{x}<br>Country Name=%{y}<extra></extra>",
           "ids": [
            "United States",
            "Japan",
            "Germany",
            "United Kingdom",
            "France",
            "China",
            "Italy",
            "Spain",
            "Canada",
            "Mexico"
           ],
           "legendgroup": "",
           "marker": {
            "color": "#636efa",
            "pattern": {
             "shape": ""
            }
           },
           "name": "",
           "offsetgroup": "",
           "orientation": "h",
           "showlegend": false,
           "textposition": "auto",
           "type": "bar",
           "x": [
            11456442041000,
            4519561645253.529,
            2501640388482.3477,
            2054422857142.857,
            1844544792036.859,
            1660280543870.953,
            1577621707050.5066,
            907491523174.1157,
            895540646634.787,
            765549967888.6469
           ],
           "xaxis": "x",
           "y": [
            "United States",
            "Japan",
            "Germany",
            "United Kingdom",
            "France",
            "China",
            "Italy",
            "Spain",
            "Canada",
            "Mexico"
           ],
           "yaxis": "y"
          }
         ],
         "name": "2003"
        },
        {
         "data": [
          {
           "alignmentgroup": "True",
           "hovertemplate": "Year=2004<br>GDP (in Trillions USD)=%{x}<br>Country Name=%{y}<extra></extra>",
           "ids": [
            "United States",
            "Japan",
            "Germany",
            "United Kingdom",
            "France",
            "China",
            "Italy",
            "Spain",
            "Canada",
            "Mexico"
           ],
           "legendgroup": "",
           "marker": {
            "color": "#636efa",
            "pattern": {
             "shape": ""
            }
           },
           "name": "",
           "offsetgroup": "",
           "orientation": "h",
           "showlegend": false,
           "textposition": "auto",
           "type": "bar",
           "x": [
            12217193198000,
            4893116005656.559,
            2814353869359.0806,
            2421525082387.404,
            2119633181634.3684,
            1955346768757.6394,
            1806542968545.5645,
            1069055675273.7479,
            1026690238278.2476,
            819459227375.0225
           ],
           "xaxis": "x",
           "y": [
            "United States",
            "Japan",
            "Germany",
            "United Kingdom",
            "France",
            "China",
            "Italy",
            "Spain",
            "Canada",
            "Mexico"
           ],
           "yaxis": "y"
          }
         ],
         "name": "2004"
        },
        {
         "data": [
          {
           "alignmentgroup": "True",
           "hovertemplate": "Year=2005<br>GDP (in Trillions USD)=%{x}<br>Country Name=%{y}<extra></extra>",
           "ids": [
            "United States",
            "Japan",
            "Germany",
            "United Kingdom",
            "China",
            "France",
            "Italy",
            "Canada",
            "Spain",
            "Mexico"
           ],
           "legendgroup": "",
           "marker": {
            "color": "#636efa",
            "pattern": {
             "shape": ""
            }
           },
           "name": "",
           "offsetgroup": "",
           "orientation": "h",
           "showlegend": false,
           "textposition": "auto",
           "type": "bar",
           "x": [
            13039199193000,
            4831467035389.8,
            2846864211175.096,
            2543180000000,
            2285961149904.257,
            2196945232435.7966,
            1858217147203.7346,
            1173108598778.6763,
            1153715822717.5093,
            917571853345.5828
           ],
           "xaxis": "x",
           "y": [
            "United States",
            "Japan",
            "Germany",
            "United Kingdom",
            "China",
            "France",
            "Italy",
            "Canada",
            "Spain",
            "Mexico"
           ],
           "yaxis": "y"
          }
         ],
         "name": "2005"
        },
        {
         "data": [
          {
           "alignmentgroup": "True",
           "hovertemplate": "Year=2006<br>GDP (in Trillions USD)=%{x}<br>Country Name=%{y}<extra></extra>",
           "ids": [
            "United States",
            "Japan",
            "Germany",
            "China",
            "United Kingdom",
            "France",
            "Italy",
            "Canada",
            "Spain",
            "Brazil"
           ],
           "legendgroup": "",
           "marker": {
            "color": "#636efa",
            "pattern": {
             "shape": ""
            }
           },
           "name": "",
           "offsetgroup": "",
           "orientation": "h",
           "showlegend": false,
           "textposition": "auto",
           "type": "bar",
           "x": [
            13815586948000,
            4601663122649.921,
            2994703642023.5254,
            2752118657221.64,
            2708441582336.7065,
            2320536221304.7026,
            1949551719389.6443,
            1319264809590.9731,
            1260398977831.763,
            1107626541710.7407
           ],
           "xaxis": "x",
           "y": [
            "United States",
            "Japan",
            "Germany",
            "China",
            "United Kingdom",
            "France",
            "Italy",
            "Canada",
            "Spain",
            "Brazil"
           ],
           "yaxis": "y"
          }
         ],
         "name": "2006"
        },
        {
         "data": [
          {
           "alignmentgroup": "True",
           "hovertemplate": "Year=2007<br>GDP (in Trillions USD)=%{x}<br>Country Name=%{y}<extra></extra>",
           "ids": [
            "United States",
            "Japan",
            "China",
            "Germany",
            "United Kingdom",
            "France",
            "Italy",
            "Spain",
            "Canada",
            "Brazil"
           ],
           "legendgroup": "",
           "marker": {
            "color": "#636efa",
            "pattern": {
             "shape": ""
            }
           },
           "name": "",
           "offsetgroup": "",
           "orientation": "h",
           "showlegend": false,
           "textposition": "auto",
           "type": "bar",
           "x": [
            14474226905000,
            4579750920354.809,
            3550327803024.6865,
            3425578382921.5796,
            3090510204081.6323,
            2660591246211.7734,
            2213102482751.458,
            1474002579820.0046,
            1468820407783.2603,
            1397114486471.384
           ],
           "xaxis": "x",
           "y": [
            "United States",
            "Japan",
            "China",
            "Germany",
            "United Kingdom",
            "France",
            "Italy",
            "Spain",
            "Canada",
            "Brazil"
           ],
           "yaxis": "y"
          }
         ],
         "name": "2007"
        },
        {
         "data": [
          {
           "alignmentgroup": "True",
           "hovertemplate": "Year=2008<br>GDP (in Trillions USD)=%{x}<br>Country Name=%{y}<extra></extra>",
           "ids": [
            "United States",
            "Japan",
            "China",
            "Germany",
            "France",
            "United Kingdom",
            "Italy",
            "Brazil",
            "Russian Federation",
            "Spain"
           ],
           "legendgroup": "",
           "marker": {
            "color": "#636efa",
            "pattern": {
             "shape": ""
            }
           },
           "name": "",
           "offsetgroup": "",
           "orientation": "h",
           "showlegend": false,
           "textposition": "auto",
           "type": "bar",
           "x": [
            14769857911000,
            5106679115127.299,
            4594336785752.063,
            3745264093617.1865,
            2930303780828.1245,
            2929411764705.8823,
            2408655348718.5933,
            1695855083552.0544,
            1660848058303.1138,
            1631863493552.3433
           ],
           "xaxis": "x",
           "y": [
            "United States",
            "Japan",
            "China",
            "Germany",
            "France",
            "United Kingdom",
            "Italy",
            "Brazil",
            "Russian Federation",
            "Spain"
           ],
           "yaxis": "y"
          }
         ],
         "name": "2008"
        },
        {
         "data": [
          {
           "alignmentgroup": "True",
           "hovertemplate": "Year=2009<br>GDP (in Trillions USD)=%{x}<br>Country Name=%{y}<extra></extra>",
           "ids": [
            "United States",
            "Japan",
            "China",
            "Germany",
            "France",
            "United Kingdom",
            "Italy",
            "Brazil",
            "Spain",
            "Canada"
           ],
           "legendgroup": "",
           "marker": {
            "color": "#636efa",
            "pattern": {
             "shape": ""
            }
           },
           "name": "",
           "offsetgroup": "",
           "orientation": "h",
           "showlegend": false,
           "textposition": "auto",
           "type": "bar",
           "x": [
            14478064934000,
            5289493117993.89,
            5101691124358.405,
            3411261212652.3413,
            2700887366932.0293,
            2412840006231.5,
            2199928804118.6313,
            1666996438681.463,
            1491472923706.6396,
            1374625142157.2915
           ],
           "xaxis": "x",
           "y": [
            "United States",
            "Japan",
            "China",
            "Germany",
            "France",
            "United Kingdom",
            "Italy",
            "Brazil",
            "Spain",
            "Canada"
           ],
           "yaxis": "y"
          }
         ],
         "name": "2009"
        },
        {
         "data": [
          {
           "alignmentgroup": "True",
           "hovertemplate": "Year=2010<br>GDP (in Trillions USD)=%{x}<br>Country Name=%{y}<extra></extra>",
           "ids": [
            "United States",
            "China",
            "Japan",
            "Germany",
            "France",
            "United Kingdom",
            "Brazil",
            "Italy",
            "India",
            "Canada"
           ],
           "legendgroup": "",
           "marker": {
            "color": "#636efa",
            "pattern": {
             "shape": ""
            }
           },
           "name": "",
           "offsetgroup": "",
           "orientation": "h",
           "showlegend": false,
           "textposition": "auto",
           "type": "bar",
           "x": [
            15048964444000,
            6087191746738.571,
            5759071769013.113,
            3399667820000.0063,
            2645187882116.672,
            2485482596184.7095,
            2208837745214.2334,
            2136099955236.671,
            1675615519489.3484,
            1617343367486.2585
           ],
           "xaxis": "x",
           "y": [
            "United States",
            "China",
            "Japan",
            "Germany",
            "France",
            "United Kingdom",
            "Brazil",
            "Italy",
            "India",
            "Canada"
           ],
           "yaxis": "y"
          }
         ],
         "name": "2010"
        },
        {
         "data": [
          {
           "alignmentgroup": "True",
           "hovertemplate": "Year=2011<br>GDP (in Trillions USD)=%{x}<br>Country Name=%{y}<extra></extra>",
           "ids": [
            "United States",
            "China",
            "Japan",
            "Germany",
            "France",
            "United Kingdom",
            "Brazil",
            "Italy",
            "Russian Federation",
            "India"
           ],
           "legendgroup": "",
           "marker": {
            "color": "#636efa",
            "pattern": {
             "shape": ""
            }
           },
           "name": "",
           "offsetgroup": "",
           "orientation": "h",
           "showlegend": false,
           "textposition": "auto",
           "type": "bar",
           "x": [
            15599728123000,
            7551545703518.137,
            6233147172341.349,
            3749314991050.591,
            2865157541994.169,
            2663805834828.0723,
            2616156223977.466,
            2294994296589.4985,
            2045922753398.036,
            1823051829900.8064
           ],
           "xaxis": "x",
           "y": [
            "United States",
            "China",
            "Japan",
            "Germany",
            "France",
            "United Kingdom",
            "Brazil",
            "Italy",
            "Russian Federation",
            "India"
           ],
           "yaxis": "y"
          }
         ],
         "name": "2011"
        },
        {
         "data": [
          {
           "alignmentgroup": "True",
           "hovertemplate": "Year=2012<br>GDP (in Trillions USD)=%{x}<br>Country Name=%{y}<extra></extra>",
           "ids": [
            "United States",
            "China",
            "Japan",
            "Germany",
            "United Kingdom",
            "France",
            "Brazil",
            "Russian Federation",
            "Italy",
            "Canada"
           ],
           "legendgroup": "",
           "marker": {
            "color": "#636efa",
            "pattern": {
             "shape": ""
            }
           },
           "name": "",
           "offsetgroup": "",
           "orientation": "h",
           "showlegend": false,
           "textposition": "auto",
           "type": "bar",
           "x": [
            16253972230000,
            8532185381696.435,
            6272362996105.034,
            3527143188785.157,
            2707089726614.636,
            2683671716967.188,
            2465227803011.568,
            2208293553878.4243,
            2086957656821.602,
            1828366481521.5952
           ],
           "xaxis": "x",
           "y": [
            "United States",
            "China",
            "Japan",
            "Germany",
            "United Kingdom",
            "France",
            "Brazil",
            "Russian Federation",
            "Italy",
            "Canada"
           ],
           "yaxis": "y"
          }
         ],
         "name": "2012"
        },
        {
         "data": [
          {
           "alignmentgroup": "True",
           "hovertemplate": "Year=2013<br>GDP (in Trillions USD)=%{x}<br>Country Name=%{y}<extra></extra>",
           "ids": [
            "United States",
            "China",
            "Japan",
            "Germany",
            "France",
            "United Kingdom",
            "Brazil",
            "Russian Federation",
            "Italy",
            "India"
           ],
           "legendgroup": "",
           "marker": {
            "color": "#636efa",
            "pattern": {
             "shape": ""
            }
           },
           "name": "",
           "offsetgroup": "",
           "orientation": "h",
           "showlegend": false,
           "textposition": "auto",
           "type": "bar",
           "x": [
            16843190993000,
            9570471111847.816,
            5212328181166.185,
            3733804649549.0303,
            2811876903329.0273,
            2784853502534.292,
            2472819535742.7266,
            2292470078346.2236,
            2141924094298.5552,
            1856721507681.0786
           ],
           "xaxis": "x",
           "y": [
            "United States",
            "China",
            "Japan",
            "Germany",
            "France",
            "United Kingdom",
            "Brazil",
            "Russian Federation",
            "Italy",
            "India"
           ],
           "yaxis": "y"
          }
         ],
         "name": "2013"
        },
        {
         "data": [
          {
           "alignmentgroup": "True",
           "hovertemplate": "Year=2014<br>GDP (in Trillions USD)=%{x}<br>Country Name=%{y}<extra></extra>",
           "ids": [
            "United States",
            "China",
            "Japan",
            "Germany",
            "United Kingdom",
            "France",
            "Brazil",
            "Italy",
            "Russian Federation",
            "India"
           ],
           "legendgroup": "",
           "marker": {
            "color": "#636efa",
            "pattern": {
             "shape": ""
            }
           },
           "name": "",
           "offsetgroup": "",
           "orientation": "h",
           "showlegend": false,
           "textposition": "auto",
           "type": "bar",
           "x": [
            17550680173999.998,
            10475624944290.115,
            4896994405353.292,
            3889093051023.5156,
            3064708247921.4277,
            2855964488590.186,
            2456043727198.8545,
            2162009615996.5415,
            2059241589895.015,
            2039126479228.114
           ],
           "xaxis": "x",
           "y": [
            "United States",
            "China",
            "Japan",
            "Germany",
            "United Kingdom",
            "France",
            "Brazil",
            "Italy",
            "Russian Federation",
            "India"
           ],
           "yaxis": "y"
          }
         ],
         "name": "2014"
        },
        {
         "data": [
          {
           "alignmentgroup": "True",
           "hovertemplate": "Year=2015<br>GDP (in Trillions USD)=%{x}<br>Country Name=%{y}<extra></extra>",
           "ids": [
            "United States",
            "China",
            "Japan",
            "Germany",
            "United Kingdom",
            "France",
            "India",
            "Italy",
            "Brazil",
            "Canada"
           ],
           "legendgroup": "",
           "marker": {
            "color": "#636efa",
            "pattern": {
             "shape": ""
            }
           },
           "name": "",
           "offsetgroup": "",
           "orientation": "h",
           "showlegend": false,
           "textposition": "auto",
           "type": "bar",
           "x": [
            18206020741000,
            11061572618594.75,
            4444930651964.18,
            3357585719351.5605,
            2927911140916.7314,
            2439188643162.4985,
            2103588360066.3235,
            1836637711060.546,
            1802212206904.6777,
            1556508816217.1401
           ],
           "xaxis": "x",
           "y": [
            "United States",
            "China",
            "Japan",
            "Germany",
            "United Kingdom",
            "France",
            "India",
            "Italy",
            "Brazil",
            "Canada"
           ],
           "yaxis": "y"
          }
         ],
         "name": "2015"
        },
        {
         "data": [
          {
           "alignmentgroup": "True",
           "hovertemplate": "Year=2016<br>GDP (in Trillions USD)=%{x}<br>Country Name=%{y}<extra></extra>",
           "ids": [
            "United States",
            "China",
            "Japan",
            "Germany",
            "United Kingdom",
            "France",
            "India",
            "Italy",
            "Brazil",
            "Canada"
           ],
           "legendgroup": "",
           "marker": {
            "color": "#636efa",
            "pattern": {
             "shape": ""
            }
           },
           "name": "",
           "offsetgroup": "",
           "orientation": "h",
           "showlegend": false,
           "textposition": "auto",
           "type": "bar",
           "x": [
            18695110842000,
            11233313730288.52,
            5003677627544.24,
            3469853463945.5337,
            2689106566899.611,
            2472964344587.1655,
            2294796885682.5454,
            1877071687633.7788,
            1795693482652.5151,
            1527994741907.425
           ],
           "xaxis": "x",
           "y": [
            "United States",
            "China",
            "Japan",
            "Germany",
            "United Kingdom",
            "France",
            "India",
            "Italy",
            "Brazil",
            "Canada"
           ],
           "yaxis": "y"
          }
         ],
         "name": "2016"
        },
        {
         "data": [
          {
           "alignmentgroup": "True",
           "hovertemplate": "Year=2017<br>GDP (in Trillions USD)=%{x}<br>Country Name=%{y}<extra></extra>",
           "ids": [
            "United States",
            "China",
            "Japan",
            "Germany",
            "United Kingdom",
            "India",
            "France",
            "Brazil",
            "Italy",
            "Canada"
           ],
           "legendgroup": "",
           "marker": {
            "color": "#636efa",
            "pattern": {
             "shape": ""
            }
           },
           "name": "",
           "offsetgroup": "",
           "orientation": "h",
           "showlegend": false,
           "textposition": "auto",
           "type": "bar",
           "x": [
            19477336549000,
            12310491333980.889,
            4930837369151.422,
            3690849152517.6533,
            2680148052335.299,
            2651474262735.283,
            2595151045197.6514,
            2063514977334.3206,
            1961796197354.3564,
            1649265644244.095
           ],
           "xaxis": "x",
           "y": [
            "United States",
            "China",
            "Japan",
            "Germany",
            "United Kingdom",
            "India",
            "France",
            "Brazil",
            "Italy",
            "Canada"
           ],
           "yaxis": "y"
          }
         ],
         "name": "2017"
        },
        {
         "data": [
          {
           "alignmentgroup": "True",
           "hovertemplate": "Year=2018<br>GDP (in Trillions USD)=%{x}<br>Country Name=%{y}<extra></extra>",
           "ids": [
            "United States",
            "China",
            "Japan",
            "Germany",
            "United Kingdom",
            "France",
            "India",
            "Italy",
            "Brazil",
            "Canada"
           ],
           "legendgroup": "",
           "marker": {
            "color": "#636efa",
            "pattern": {
             "shape": ""
            }
           },
           "name": "",
           "offsetgroup": "",
           "orientation": "h",
           "showlegend": false,
           "textposition": "auto",
           "type": "bar",
           "x": [
            20533057312000,
            13894907857925.922,
            5040880939324.859,
            3974443355019.605,
            2871340347581.7856,
            2790956878746.6646,
            2702929641707.377,
            2091932426266.979,
            1916933898038.3572,
            1725329192783.024
           ],
           "xaxis": "x",
           "y": [
            "United States",
            "China",
            "Japan",
            "Germany",
            "United Kingdom",
            "France",
            "India",
            "Italy",
            "Brazil",
            "Canada"
           ],
           "yaxis": "y"
          }
         ],
         "name": "2018"
        },
        {
         "data": [
          {
           "alignmentgroup": "True",
           "hovertemplate": "Year=2019<br>GDP (in Trillions USD)=%{x}<br>Country Name=%{y}<extra></extra>",
           "ids": [
            "United States",
            "China",
            "Japan",
            "Germany",
            "United Kingdom",
            "India",
            "France",
            "Italy",
            "Brazil",
            "Canada"
           ],
           "legendgroup": "",
           "marker": {
            "color": "#636efa",
            "pattern": {
             "shape": ""
            }
           },
           "name": "",
           "offsetgroup": "",
           "orientation": "h",
           "showlegend": false,
           "textposition": "auto",
           "type": "bar",
           "x": [
            21380976119000,
            14279968506242.775,
            5117993853016.508,
            3889177589254.8955,
            2851407164907.808,
            2835606256616.0254,
            2728870246705.878,
            2011302198827.4478,
            1873288205186.4495,
            1743725183672.5212
           ],
           "xaxis": "x",
           "y": [
            "United States",
            "China",
            "Japan",
            "Germany",
            "United Kingdom",
            "India",
            "France",
            "Italy",
            "Brazil",
            "Canada"
           ],
           "yaxis": "y"
          }
         ],
         "name": "2019"
        },
        {
         "data": [
          {
           "alignmentgroup": "True",
           "hovertemplate": "Year=2020<br>GDP (in Trillions USD)=%{x}<br>Country Name=%{y}<extra></extra>",
           "ids": [
            "United States",
            "China",
            "Japan",
            "Germany",
            "United Kingdom",
            "India",
            "France",
            "Italy",
            "Canada",
            "Russian Federation"
           ],
           "legendgroup": "",
           "marker": {
            "color": "#636efa",
            "pattern": {
             "shape": ""
            }
           },
           "name": "",
           "offsetgroup": "",
           "orientation": "h",
           "showlegend": false,
           "textposition": "auto",
           "type": "bar",
           "x": [
            21060473613000,
            14687744162801.033,
            5055587093501.588,
            3887727161914.4077,
            2697806592293.8604,
            2671595405986.8584,
            2647418691598.4507,
            1897461635591.9119,
            1655684730000.1936,
            1493075894362.1426
           ],
           "xaxis": "x",
           "y": [
            "United States",
            "China",
            "Japan",
            "Germany",
            "United Kingdom",
            "India",
            "France",
            "Italy",
            "Canada",
            "Russian Federation"
           ],
           "yaxis": "y"
          }
         ],
         "name": "2020"
        },
        {
         "data": [
          {
           "alignmentgroup": "True",
           "hovertemplate": "Year=2021<br>GDP (in Trillions USD)=%{x}<br>Country Name=%{y}<extra></extra>",
           "ids": [
            "United States",
            "China",
            "Japan",
            "Germany",
            "India",
            "United Kingdom",
            "France",
            "Italy",
            "Canada",
            "Russian Federation"
           ],
           "legendgroup": "",
           "marker": {
            "color": "#636efa",
            "pattern": {
             "shape": ""
            }
           },
           "name": "",
           "offsetgroup": "",
           "orientation": "h",
           "showlegend": false,
           "textposition": "auto",
           "type": "bar",
           "x": [
            23315080560000,
            17820459508852.184,
            5034620784584.983,
            4278503934689.8535,
            3150306839142.133,
            3141506156618.7026,
            2959355819170.495,
            2155360298998.0273,
            2007472181464.1519,
            1836892075547.524
           ],
           "xaxis": "x",
           "y": [
            "United States",
            "China",
            "Japan",
            "Germany",
            "India",
            "United Kingdom",
            "France",
            "Italy",
            "Canada",
            "Russian Federation"
           ],
           "yaxis": "y"
          }
         ],
         "name": "2021"
        },
        {
         "data": [
          {
           "alignmentgroup": "True",
           "hovertemplate": "Year=2022<br>GDP (in Trillions USD)=%{x}<br>Country Name=%{y}<extra></extra>",
           "ids": [
            "United States",
            "China",
            "Japan",
            "Germany",
            "India",
            "United Kingdom",
            "France",
            "Russian Federation",
            "Canada",
            "Italy"
           ],
           "legendgroup": "",
           "marker": {
            "color": "#636efa",
            "pattern": {
             "shape": ""
            }
           },
           "name": "",
           "offsetgroup": "",
           "orientation": "h",
           "showlegend": false,
           "textposition": "auto",
           "type": "bar",
           "x": [
            25439700000000,
            17963171479205.33,
            4256410760723.75,
            4082469490797.681,
            3416645826052.874,
            3089072722400.1357,
            2779092236505.847,
            2240422427458.579,
            2161483369422.0146,
            2049737165407.9846
           ],
           "xaxis": "x",
           "y": [
            "United States",
            "China",
            "Japan",
            "Germany",
            "India",
            "United Kingdom",
            "France",
            "Russian Federation",
            "Canada",
            "Italy"
           ],
           "yaxis": "y"
          }
         ],
         "name": "2022"
        },
        {
         "data": [
          {
           "alignmentgroup": "True",
           "hovertemplate": "Year=2023<br>GDP (in Trillions USD)=%{x}<br>Country Name=%{y}<extra></extra>",
           "ids": [
            "Aruba",
            "Afghanistan",
            "Angola",
            "Albania",
            "Andorra",
            "United Arab Emirates",
            "Argentina",
            "Armenia",
            "Australia",
            "Austria"
           ],
           "legendgroup": "",
           "marker": {
            "color": "#636efa",
            "pattern": {
             "shape": ""
            }
           },
           "name": "",
           "offsetgroup": "",
           "orientation": "h",
           "showlegend": false,
           "textposition": "auto",
           "type": "bar",
           "x": [
            null,
            null,
            null,
            null,
            null,
            null,
            null,
            null,
            null,
            null
           ],
           "xaxis": "x",
           "y": [
            "Aruba",
            "Afghanistan",
            "Angola",
            "Albania",
            "Andorra",
            "United Arab Emirates",
            "Argentina",
            "Armenia",
            "Australia",
            "Austria"
           ],
           "yaxis": "y"
          }
         ],
         "name": "2023"
        }
       ],
       "layout": {
        "barmode": "relative",
        "legend": {
         "tracegroupgap": 0
        },
        "sliders": [
         {
          "active": 0,
          "currentvalue": {
           "prefix": "Year="
          },
          "len": 0.9,
          "pad": {
           "b": 10,
           "t": 60
          },
          "steps": [
           {
            "args": [
             [
              "1960"
             ],
             {
              "frame": {
               "duration": 0,
               "redraw": true
              },
              "fromcurrent": true,
              "mode": "immediate",
              "transition": {
               "duration": 0,
               "easing": "linear"
              }
             }
            ],
            "label": "1960",
            "method": "animate"
           },
           {
            "args": [
             [
              "1961"
             ],
             {
              "frame": {
               "duration": 0,
               "redraw": true
              },
              "fromcurrent": true,
              "mode": "immediate",
              "transition": {
               "duration": 0,
               "easing": "linear"
              }
             }
            ],
            "label": "1961",
            "method": "animate"
           },
           {
            "args": [
             [
              "1962"
             ],
             {
              "frame": {
               "duration": 0,
               "redraw": true
              },
              "fromcurrent": true,
              "mode": "immediate",
              "transition": {
               "duration": 0,
               "easing": "linear"
              }
             }
            ],
            "label": "1962",
            "method": "animate"
           },
           {
            "args": [
             [
              "1963"
             ],
             {
              "frame": {
               "duration": 0,
               "redraw": true
              },
              "fromcurrent": true,
              "mode": "immediate",
              "transition": {
               "duration": 0,
               "easing": "linear"
              }
             }
            ],
            "label": "1963",
            "method": "animate"
           },
           {
            "args": [
             [
              "1964"
             ],
             {
              "frame": {
               "duration": 0,
               "redraw": true
              },
              "fromcurrent": true,
              "mode": "immediate",
              "transition": {
               "duration": 0,
               "easing": "linear"
              }
             }
            ],
            "label": "1964",
            "method": "animate"
           },
           {
            "args": [
             [
              "1965"
             ],
             {
              "frame": {
               "duration": 0,
               "redraw": true
              },
              "fromcurrent": true,
              "mode": "immediate",
              "transition": {
               "duration": 0,
               "easing": "linear"
              }
             }
            ],
            "label": "1965",
            "method": "animate"
           },
           {
            "args": [
             [
              "1966"
             ],
             {
              "frame": {
               "duration": 0,
               "redraw": true
              },
              "fromcurrent": true,
              "mode": "immediate",
              "transition": {
               "duration": 0,
               "easing": "linear"
              }
             }
            ],
            "label": "1966",
            "method": "animate"
           },
           {
            "args": [
             [
              "1967"
             ],
             {
              "frame": {
               "duration": 0,
               "redraw": true
              },
              "fromcurrent": true,
              "mode": "immediate",
              "transition": {
               "duration": 0,
               "easing": "linear"
              }
             }
            ],
            "label": "1967",
            "method": "animate"
           },
           {
            "args": [
             [
              "1968"
             ],
             {
              "frame": {
               "duration": 0,
               "redraw": true
              },
              "fromcurrent": true,
              "mode": "immediate",
              "transition": {
               "duration": 0,
               "easing": "linear"
              }
             }
            ],
            "label": "1968",
            "method": "animate"
           },
           {
            "args": [
             [
              "1969"
             ],
             {
              "frame": {
               "duration": 0,
               "redraw": true
              },
              "fromcurrent": true,
              "mode": "immediate",
              "transition": {
               "duration": 0,
               "easing": "linear"
              }
             }
            ],
            "label": "1969",
            "method": "animate"
           },
           {
            "args": [
             [
              "1970"
             ],
             {
              "frame": {
               "duration": 0,
               "redraw": true
              },
              "fromcurrent": true,
              "mode": "immediate",
              "transition": {
               "duration": 0,
               "easing": "linear"
              }
             }
            ],
            "label": "1970",
            "method": "animate"
           },
           {
            "args": [
             [
              "1971"
             ],
             {
              "frame": {
               "duration": 0,
               "redraw": true
              },
              "fromcurrent": true,
              "mode": "immediate",
              "transition": {
               "duration": 0,
               "easing": "linear"
              }
             }
            ],
            "label": "1971",
            "method": "animate"
           },
           {
            "args": [
             [
              "1972"
             ],
             {
              "frame": {
               "duration": 0,
               "redraw": true
              },
              "fromcurrent": true,
              "mode": "immediate",
              "transition": {
               "duration": 0,
               "easing": "linear"
              }
             }
            ],
            "label": "1972",
            "method": "animate"
           },
           {
            "args": [
             [
              "1973"
             ],
             {
              "frame": {
               "duration": 0,
               "redraw": true
              },
              "fromcurrent": true,
              "mode": "immediate",
              "transition": {
               "duration": 0,
               "easing": "linear"
              }
             }
            ],
            "label": "1973",
            "method": "animate"
           },
           {
            "args": [
             [
              "1974"
             ],
             {
              "frame": {
               "duration": 0,
               "redraw": true
              },
              "fromcurrent": true,
              "mode": "immediate",
              "transition": {
               "duration": 0,
               "easing": "linear"
              }
             }
            ],
            "label": "1974",
            "method": "animate"
           },
           {
            "args": [
             [
              "1975"
             ],
             {
              "frame": {
               "duration": 0,
               "redraw": true
              },
              "fromcurrent": true,
              "mode": "immediate",
              "transition": {
               "duration": 0,
               "easing": "linear"
              }
             }
            ],
            "label": "1975",
            "method": "animate"
           },
           {
            "args": [
             [
              "1976"
             ],
             {
              "frame": {
               "duration": 0,
               "redraw": true
              },
              "fromcurrent": true,
              "mode": "immediate",
              "transition": {
               "duration": 0,
               "easing": "linear"
              }
             }
            ],
            "label": "1976",
            "method": "animate"
           },
           {
            "args": [
             [
              "1977"
             ],
             {
              "frame": {
               "duration": 0,
               "redraw": true
              },
              "fromcurrent": true,
              "mode": "immediate",
              "transition": {
               "duration": 0,
               "easing": "linear"
              }
             }
            ],
            "label": "1977",
            "method": "animate"
           },
           {
            "args": [
             [
              "1978"
             ],
             {
              "frame": {
               "duration": 0,
               "redraw": true
              },
              "fromcurrent": true,
              "mode": "immediate",
              "transition": {
               "duration": 0,
               "easing": "linear"
              }
             }
            ],
            "label": "1978",
            "method": "animate"
           },
           {
            "args": [
             [
              "1979"
             ],
             {
              "frame": {
               "duration": 0,
               "redraw": true
              },
              "fromcurrent": true,
              "mode": "immediate",
              "transition": {
               "duration": 0,
               "easing": "linear"
              }
             }
            ],
            "label": "1979",
            "method": "animate"
           },
           {
            "args": [
             [
              "1980"
             ],
             {
              "frame": {
               "duration": 0,
               "redraw": true
              },
              "fromcurrent": true,
              "mode": "immediate",
              "transition": {
               "duration": 0,
               "easing": "linear"
              }
             }
            ],
            "label": "1980",
            "method": "animate"
           },
           {
            "args": [
             [
              "1981"
             ],
             {
              "frame": {
               "duration": 0,
               "redraw": true
              },
              "fromcurrent": true,
              "mode": "immediate",
              "transition": {
               "duration": 0,
               "easing": "linear"
              }
             }
            ],
            "label": "1981",
            "method": "animate"
           },
           {
            "args": [
             [
              "1982"
             ],
             {
              "frame": {
               "duration": 0,
               "redraw": true
              },
              "fromcurrent": true,
              "mode": "immediate",
              "transition": {
               "duration": 0,
               "easing": "linear"
              }
             }
            ],
            "label": "1982",
            "method": "animate"
           },
           {
            "args": [
             [
              "1983"
             ],
             {
              "frame": {
               "duration": 0,
               "redraw": true
              },
              "fromcurrent": true,
              "mode": "immediate",
              "transition": {
               "duration": 0,
               "easing": "linear"
              }
             }
            ],
            "label": "1983",
            "method": "animate"
           },
           {
            "args": [
             [
              "1984"
             ],
             {
              "frame": {
               "duration": 0,
               "redraw": true
              },
              "fromcurrent": true,
              "mode": "immediate",
              "transition": {
               "duration": 0,
               "easing": "linear"
              }
             }
            ],
            "label": "1984",
            "method": "animate"
           },
           {
            "args": [
             [
              "1985"
             ],
             {
              "frame": {
               "duration": 0,
               "redraw": true
              },
              "fromcurrent": true,
              "mode": "immediate",
              "transition": {
               "duration": 0,
               "easing": "linear"
              }
             }
            ],
            "label": "1985",
            "method": "animate"
           },
           {
            "args": [
             [
              "1986"
             ],
             {
              "frame": {
               "duration": 0,
               "redraw": true
              },
              "fromcurrent": true,
              "mode": "immediate",
              "transition": {
               "duration": 0,
               "easing": "linear"
              }
             }
            ],
            "label": "1986",
            "method": "animate"
           },
           {
            "args": [
             [
              "1987"
             ],
             {
              "frame": {
               "duration": 0,
               "redraw": true
              },
              "fromcurrent": true,
              "mode": "immediate",
              "transition": {
               "duration": 0,
               "easing": "linear"
              }
             }
            ],
            "label": "1987",
            "method": "animate"
           },
           {
            "args": [
             [
              "1988"
             ],
             {
              "frame": {
               "duration": 0,
               "redraw": true
              },
              "fromcurrent": true,
              "mode": "immediate",
              "transition": {
               "duration": 0,
               "easing": "linear"
              }
             }
            ],
            "label": "1988",
            "method": "animate"
           },
           {
            "args": [
             [
              "1989"
             ],
             {
              "frame": {
               "duration": 0,
               "redraw": true
              },
              "fromcurrent": true,
              "mode": "immediate",
              "transition": {
               "duration": 0,
               "easing": "linear"
              }
             }
            ],
            "label": "1989",
            "method": "animate"
           },
           {
            "args": [
             [
              "1990"
             ],
             {
              "frame": {
               "duration": 0,
               "redraw": true
              },
              "fromcurrent": true,
              "mode": "immediate",
              "transition": {
               "duration": 0,
               "easing": "linear"
              }
             }
            ],
            "label": "1990",
            "method": "animate"
           },
           {
            "args": [
             [
              "1991"
             ],
             {
              "frame": {
               "duration": 0,
               "redraw": true
              },
              "fromcurrent": true,
              "mode": "immediate",
              "transition": {
               "duration": 0,
               "easing": "linear"
              }
             }
            ],
            "label": "1991",
            "method": "animate"
           },
           {
            "args": [
             [
              "1992"
             ],
             {
              "frame": {
               "duration": 0,
               "redraw": true
              },
              "fromcurrent": true,
              "mode": "immediate",
              "transition": {
               "duration": 0,
               "easing": "linear"
              }
             }
            ],
            "label": "1992",
            "method": "animate"
           },
           {
            "args": [
             [
              "1993"
             ],
             {
              "frame": {
               "duration": 0,
               "redraw": true
              },
              "fromcurrent": true,
              "mode": "immediate",
              "transition": {
               "duration": 0,
               "easing": "linear"
              }
             }
            ],
            "label": "1993",
            "method": "animate"
           },
           {
            "args": [
             [
              "1994"
             ],
             {
              "frame": {
               "duration": 0,
               "redraw": true
              },
              "fromcurrent": true,
              "mode": "immediate",
              "transition": {
               "duration": 0,
               "easing": "linear"
              }
             }
            ],
            "label": "1994",
            "method": "animate"
           },
           {
            "args": [
             [
              "1995"
             ],
             {
              "frame": {
               "duration": 0,
               "redraw": true
              },
              "fromcurrent": true,
              "mode": "immediate",
              "transition": {
               "duration": 0,
               "easing": "linear"
              }
             }
            ],
            "label": "1995",
            "method": "animate"
           },
           {
            "args": [
             [
              "1996"
             ],
             {
              "frame": {
               "duration": 0,
               "redraw": true
              },
              "fromcurrent": true,
              "mode": "immediate",
              "transition": {
               "duration": 0,
               "easing": "linear"
              }
             }
            ],
            "label": "1996",
            "method": "animate"
           },
           {
            "args": [
             [
              "1997"
             ],
             {
              "frame": {
               "duration": 0,
               "redraw": true
              },
              "fromcurrent": true,
              "mode": "immediate",
              "transition": {
               "duration": 0,
               "easing": "linear"
              }
             }
            ],
            "label": "1997",
            "method": "animate"
           },
           {
            "args": [
             [
              "1998"
             ],
             {
              "frame": {
               "duration": 0,
               "redraw": true
              },
              "fromcurrent": true,
              "mode": "immediate",
              "transition": {
               "duration": 0,
               "easing": "linear"
              }
             }
            ],
            "label": "1998",
            "method": "animate"
           },
           {
            "args": [
             [
              "1999"
             ],
             {
              "frame": {
               "duration": 0,
               "redraw": true
              },
              "fromcurrent": true,
              "mode": "immediate",
              "transition": {
               "duration": 0,
               "easing": "linear"
              }
             }
            ],
            "label": "1999",
            "method": "animate"
           },
           {
            "args": [
             [
              "2000"
             ],
             {
              "frame": {
               "duration": 0,
               "redraw": true
              },
              "fromcurrent": true,
              "mode": "immediate",
              "transition": {
               "duration": 0,
               "easing": "linear"
              }
             }
            ],
            "label": "2000",
            "method": "animate"
           },
           {
            "args": [
             [
              "2001"
             ],
             {
              "frame": {
               "duration": 0,
               "redraw": true
              },
              "fromcurrent": true,
              "mode": "immediate",
              "transition": {
               "duration": 0,
               "easing": "linear"
              }
             }
            ],
            "label": "2001",
            "method": "animate"
           },
           {
            "args": [
             [
              "2002"
             ],
             {
              "frame": {
               "duration": 0,
               "redraw": true
              },
              "fromcurrent": true,
              "mode": "immediate",
              "transition": {
               "duration": 0,
               "easing": "linear"
              }
             }
            ],
            "label": "2002",
            "method": "animate"
           },
           {
            "args": [
             [
              "2003"
             ],
             {
              "frame": {
               "duration": 0,
               "redraw": true
              },
              "fromcurrent": true,
              "mode": "immediate",
              "transition": {
               "duration": 0,
               "easing": "linear"
              }
             }
            ],
            "label": "2003",
            "method": "animate"
           },
           {
            "args": [
             [
              "2004"
             ],
             {
              "frame": {
               "duration": 0,
               "redraw": true
              },
              "fromcurrent": true,
              "mode": "immediate",
              "transition": {
               "duration": 0,
               "easing": "linear"
              }
             }
            ],
            "label": "2004",
            "method": "animate"
           },
           {
            "args": [
             [
              "2005"
             ],
             {
              "frame": {
               "duration": 0,
               "redraw": true
              },
              "fromcurrent": true,
              "mode": "immediate",
              "transition": {
               "duration": 0,
               "easing": "linear"
              }
             }
            ],
            "label": "2005",
            "method": "animate"
           },
           {
            "args": [
             [
              "2006"
             ],
             {
              "frame": {
               "duration": 0,
               "redraw": true
              },
              "fromcurrent": true,
              "mode": "immediate",
              "transition": {
               "duration": 0,
               "easing": "linear"
              }
             }
            ],
            "label": "2006",
            "method": "animate"
           },
           {
            "args": [
             [
              "2007"
             ],
             {
              "frame": {
               "duration": 0,
               "redraw": true
              },
              "fromcurrent": true,
              "mode": "immediate",
              "transition": {
               "duration": 0,
               "easing": "linear"
              }
             }
            ],
            "label": "2007",
            "method": "animate"
           },
           {
            "args": [
             [
              "2008"
             ],
             {
              "frame": {
               "duration": 0,
               "redraw": true
              },
              "fromcurrent": true,
              "mode": "immediate",
              "transition": {
               "duration": 0,
               "easing": "linear"
              }
             }
            ],
            "label": "2008",
            "method": "animate"
           },
           {
            "args": [
             [
              "2009"
             ],
             {
              "frame": {
               "duration": 0,
               "redraw": true
              },
              "fromcurrent": true,
              "mode": "immediate",
              "transition": {
               "duration": 0,
               "easing": "linear"
              }
             }
            ],
            "label": "2009",
            "method": "animate"
           },
           {
            "args": [
             [
              "2010"
             ],
             {
              "frame": {
               "duration": 0,
               "redraw": true
              },
              "fromcurrent": true,
              "mode": "immediate",
              "transition": {
               "duration": 0,
               "easing": "linear"
              }
             }
            ],
            "label": "2010",
            "method": "animate"
           },
           {
            "args": [
             [
              "2011"
             ],
             {
              "frame": {
               "duration": 0,
               "redraw": true
              },
              "fromcurrent": true,
              "mode": "immediate",
              "transition": {
               "duration": 0,
               "easing": "linear"
              }
             }
            ],
            "label": "2011",
            "method": "animate"
           },
           {
            "args": [
             [
              "2012"
             ],
             {
              "frame": {
               "duration": 0,
               "redraw": true
              },
              "fromcurrent": true,
              "mode": "immediate",
              "transition": {
               "duration": 0,
               "easing": "linear"
              }
             }
            ],
            "label": "2012",
            "method": "animate"
           },
           {
            "args": [
             [
              "2013"
             ],
             {
              "frame": {
               "duration": 0,
               "redraw": true
              },
              "fromcurrent": true,
              "mode": "immediate",
              "transition": {
               "duration": 0,
               "easing": "linear"
              }
             }
            ],
            "label": "2013",
            "method": "animate"
           },
           {
            "args": [
             [
              "2014"
             ],
             {
              "frame": {
               "duration": 0,
               "redraw": true
              },
              "fromcurrent": true,
              "mode": "immediate",
              "transition": {
               "duration": 0,
               "easing": "linear"
              }
             }
            ],
            "label": "2014",
            "method": "animate"
           },
           {
            "args": [
             [
              "2015"
             ],
             {
              "frame": {
               "duration": 0,
               "redraw": true
              },
              "fromcurrent": true,
              "mode": "immediate",
              "transition": {
               "duration": 0,
               "easing": "linear"
              }
             }
            ],
            "label": "2015",
            "method": "animate"
           },
           {
            "args": [
             [
              "2016"
             ],
             {
              "frame": {
               "duration": 0,
               "redraw": true
              },
              "fromcurrent": true,
              "mode": "immediate",
              "transition": {
               "duration": 0,
               "easing": "linear"
              }
             }
            ],
            "label": "2016",
            "method": "animate"
           },
           {
            "args": [
             [
              "2017"
             ],
             {
              "frame": {
               "duration": 0,
               "redraw": true
              },
              "fromcurrent": true,
              "mode": "immediate",
              "transition": {
               "duration": 0,
               "easing": "linear"
              }
             }
            ],
            "label": "2017",
            "method": "animate"
           },
           {
            "args": [
             [
              "2018"
             ],
             {
              "frame": {
               "duration": 0,
               "redraw": true
              },
              "fromcurrent": true,
              "mode": "immediate",
              "transition": {
               "duration": 0,
               "easing": "linear"
              }
             }
            ],
            "label": "2018",
            "method": "animate"
           },
           {
            "args": [
             [
              "2019"
             ],
             {
              "frame": {
               "duration": 0,
               "redraw": true
              },
              "fromcurrent": true,
              "mode": "immediate",
              "transition": {
               "duration": 0,
               "easing": "linear"
              }
             }
            ],
            "label": "2019",
            "method": "animate"
           },
           {
            "args": [
             [
              "2020"
             ],
             {
              "frame": {
               "duration": 0,
               "redraw": true
              },
              "fromcurrent": true,
              "mode": "immediate",
              "transition": {
               "duration": 0,
               "easing": "linear"
              }
             }
            ],
            "label": "2020",
            "method": "animate"
           },
           {
            "args": [
             [
              "2021"
             ],
             {
              "frame": {
               "duration": 0,
               "redraw": true
              },
              "fromcurrent": true,
              "mode": "immediate",
              "transition": {
               "duration": 0,
               "easing": "linear"
              }
             }
            ],
            "label": "2021",
            "method": "animate"
           },
           {
            "args": [
             [
              "2022"
             ],
             {
              "frame": {
               "duration": 0,
               "redraw": true
              },
              "fromcurrent": true,
              "mode": "immediate",
              "transition": {
               "duration": 0,
               "easing": "linear"
              }
             }
            ],
            "label": "2022",
            "method": "animate"
           },
           {
            "args": [
             [
              "2023"
             ],
             {
              "frame": {
               "duration": 0,
               "redraw": true
              },
              "fromcurrent": true,
              "mode": "immediate",
              "transition": {
               "duration": 0,
               "easing": "linear"
              }
             }
            ],
            "label": "2023",
            "method": "animate"
           }
          ],
          "x": 0.1,
          "xanchor": "left",
          "y": 0,
          "yanchor": "top"
         }
        ],
        "template": {
         "data": {
          "bar": [
           {
            "error_x": {
             "color": "#2a3f5f"
            },
            "error_y": {
             "color": "#2a3f5f"
            },
            "marker": {
             "line": {
              "color": "#E5ECF6",
              "width": 0.5
             },
             "pattern": {
              "fillmode": "overlay",
              "size": 10,
              "solidity": 0.2
             }
            },
            "type": "bar"
           }
          ],
          "barpolar": [
           {
            "marker": {
             "line": {
              "color": "#E5ECF6",
              "width": 0.5
             },
             "pattern": {
              "fillmode": "overlay",
              "size": 10,
              "solidity": 0.2
             }
            },
            "type": "barpolar"
           }
          ],
          "carpet": [
           {
            "aaxis": {
             "endlinecolor": "#2a3f5f",
             "gridcolor": "white",
             "linecolor": "white",
             "minorgridcolor": "white",
             "startlinecolor": "#2a3f5f"
            },
            "baxis": {
             "endlinecolor": "#2a3f5f",
             "gridcolor": "white",
             "linecolor": "white",
             "minorgridcolor": "white",
             "startlinecolor": "#2a3f5f"
            },
            "type": "carpet"
           }
          ],
          "choropleth": [
           {
            "colorbar": {
             "outlinewidth": 0,
             "ticks": ""
            },
            "type": "choropleth"
           }
          ],
          "contour": [
           {
            "colorbar": {
             "outlinewidth": 0,
             "ticks": ""
            },
            "colorscale": [
             [
              0,
              "#0d0887"
             ],
             [
              0.1111111111111111,
              "#46039f"
             ],
             [
              0.2222222222222222,
              "#7201a8"
             ],
             [
              0.3333333333333333,
              "#9c179e"
             ],
             [
              0.4444444444444444,
              "#bd3786"
             ],
             [
              0.5555555555555556,
              "#d8576b"
             ],
             [
              0.6666666666666666,
              "#ed7953"
             ],
             [
              0.7777777777777778,
              "#fb9f3a"
             ],
             [
              0.8888888888888888,
              "#fdca26"
             ],
             [
              1,
              "#f0f921"
             ]
            ],
            "type": "contour"
           }
          ],
          "contourcarpet": [
           {
            "colorbar": {
             "outlinewidth": 0,
             "ticks": ""
            },
            "type": "contourcarpet"
           }
          ],
          "heatmap": [
           {
            "colorbar": {
             "outlinewidth": 0,
             "ticks": ""
            },
            "colorscale": [
             [
              0,
              "#0d0887"
             ],
             [
              0.1111111111111111,
              "#46039f"
             ],
             [
              0.2222222222222222,
              "#7201a8"
             ],
             [
              0.3333333333333333,
              "#9c179e"
             ],
             [
              0.4444444444444444,
              "#bd3786"
             ],
             [
              0.5555555555555556,
              "#d8576b"
             ],
             [
              0.6666666666666666,
              "#ed7953"
             ],
             [
              0.7777777777777778,
              "#fb9f3a"
             ],
             [
              0.8888888888888888,
              "#fdca26"
             ],
             [
              1,
              "#f0f921"
             ]
            ],
            "type": "heatmap"
           }
          ],
          "heatmapgl": [
           {
            "colorbar": {
             "outlinewidth": 0,
             "ticks": ""
            },
            "colorscale": [
             [
              0,
              "#0d0887"
             ],
             [
              0.1111111111111111,
              "#46039f"
             ],
             [
              0.2222222222222222,
              "#7201a8"
             ],
             [
              0.3333333333333333,
              "#9c179e"
             ],
             [
              0.4444444444444444,
              "#bd3786"
             ],
             [
              0.5555555555555556,
              "#d8576b"
             ],
             [
              0.6666666666666666,
              "#ed7953"
             ],
             [
              0.7777777777777778,
              "#fb9f3a"
             ],
             [
              0.8888888888888888,
              "#fdca26"
             ],
             [
              1,
              "#f0f921"
             ]
            ],
            "type": "heatmapgl"
           }
          ],
          "histogram": [
           {
            "marker": {
             "pattern": {
              "fillmode": "overlay",
              "size": 10,
              "solidity": 0.2
             }
            },
            "type": "histogram"
           }
          ],
          "histogram2d": [
           {
            "colorbar": {
             "outlinewidth": 0,
             "ticks": ""
            },
            "colorscale": [
             [
              0,
              "#0d0887"
             ],
             [
              0.1111111111111111,
              "#46039f"
             ],
             [
              0.2222222222222222,
              "#7201a8"
             ],
             [
              0.3333333333333333,
              "#9c179e"
             ],
             [
              0.4444444444444444,
              "#bd3786"
             ],
             [
              0.5555555555555556,
              "#d8576b"
             ],
             [
              0.6666666666666666,
              "#ed7953"
             ],
             [
              0.7777777777777778,
              "#fb9f3a"
             ],
             [
              0.8888888888888888,
              "#fdca26"
             ],
             [
              1,
              "#f0f921"
             ]
            ],
            "type": "histogram2d"
           }
          ],
          "histogram2dcontour": [
           {
            "colorbar": {
             "outlinewidth": 0,
             "ticks": ""
            },
            "colorscale": [
             [
              0,
              "#0d0887"
             ],
             [
              0.1111111111111111,
              "#46039f"
             ],
             [
              0.2222222222222222,
              "#7201a8"
             ],
             [
              0.3333333333333333,
              "#9c179e"
             ],
             [
              0.4444444444444444,
              "#bd3786"
             ],
             [
              0.5555555555555556,
              "#d8576b"
             ],
             [
              0.6666666666666666,
              "#ed7953"
             ],
             [
              0.7777777777777778,
              "#fb9f3a"
             ],
             [
              0.8888888888888888,
              "#fdca26"
             ],
             [
              1,
              "#f0f921"
             ]
            ],
            "type": "histogram2dcontour"
           }
          ],
          "mesh3d": [
           {
            "colorbar": {
             "outlinewidth": 0,
             "ticks": ""
            },
            "type": "mesh3d"
           }
          ],
          "parcoords": [
           {
            "line": {
             "colorbar": {
              "outlinewidth": 0,
              "ticks": ""
             }
            },
            "type": "parcoords"
           }
          ],
          "pie": [
           {
            "automargin": true,
            "type": "pie"
           }
          ],
          "scatter": [
           {
            "fillpattern": {
             "fillmode": "overlay",
             "size": 10,
             "solidity": 0.2
            },
            "type": "scatter"
           }
          ],
          "scatter3d": [
           {
            "line": {
             "colorbar": {
              "outlinewidth": 0,
              "ticks": ""
             }
            },
            "marker": {
             "colorbar": {
              "outlinewidth": 0,
              "ticks": ""
             }
            },
            "type": "scatter3d"
           }
          ],
          "scattercarpet": [
           {
            "marker": {
             "colorbar": {
              "outlinewidth": 0,
              "ticks": ""
             }
            },
            "type": "scattercarpet"
           }
          ],
          "scattergeo": [
           {
            "marker": {
             "colorbar": {
              "outlinewidth": 0,
              "ticks": ""
             }
            },
            "type": "scattergeo"
           }
          ],
          "scattergl": [
           {
            "marker": {
             "colorbar": {
              "outlinewidth": 0,
              "ticks": ""
             }
            },
            "type": "scattergl"
           }
          ],
          "scattermapbox": [
           {
            "marker": {
             "colorbar": {
              "outlinewidth": 0,
              "ticks": ""
             }
            },
            "type": "scattermapbox"
           }
          ],
          "scatterpolar": [
           {
            "marker": {
             "colorbar": {
              "outlinewidth": 0,
              "ticks": ""
             }
            },
            "type": "scatterpolar"
           }
          ],
          "scatterpolargl": [
           {
            "marker": {
             "colorbar": {
              "outlinewidth": 0,
              "ticks": ""
             }
            },
            "type": "scatterpolargl"
           }
          ],
          "scatterternary": [
           {
            "marker": {
             "colorbar": {
              "outlinewidth": 0,
              "ticks": ""
             }
            },
            "type": "scatterternary"
           }
          ],
          "surface": [
           {
            "colorbar": {
             "outlinewidth": 0,
             "ticks": ""
            },
            "colorscale": [
             [
              0,
              "#0d0887"
             ],
             [
              0.1111111111111111,
              "#46039f"
             ],
             [
              0.2222222222222222,
              "#7201a8"
             ],
             [
              0.3333333333333333,
              "#9c179e"
             ],
             [
              0.4444444444444444,
              "#bd3786"
             ],
             [
              0.5555555555555556,
              "#d8576b"
             ],
             [
              0.6666666666666666,
              "#ed7953"
             ],
             [
              0.7777777777777778,
              "#fb9f3a"
             ],
             [
              0.8888888888888888,
              "#fdca26"
             ],
             [
              1,
              "#f0f921"
             ]
            ],
            "type": "surface"
           }
          ],
          "table": [
           {
            "cells": {
             "fill": {
              "color": "#EBF0F8"
             },
             "line": {
              "color": "white"
             }
            },
            "header": {
             "fill": {
              "color": "#C8D4E3"
             },
             "line": {
              "color": "white"
             }
            },
            "type": "table"
           }
          ]
         },
         "layout": {
          "annotationdefaults": {
           "arrowcolor": "#2a3f5f",
           "arrowhead": 0,
           "arrowwidth": 1
          },
          "autotypenumbers": "strict",
          "coloraxis": {
           "colorbar": {
            "outlinewidth": 0,
            "ticks": ""
           }
          },
          "colorscale": {
           "diverging": [
            [
             0,
             "#8e0152"
            ],
            [
             0.1,
             "#c51b7d"
            ],
            [
             0.2,
             "#de77ae"
            ],
            [
             0.3,
             "#f1b6da"
            ],
            [
             0.4,
             "#fde0ef"
            ],
            [
             0.5,
             "#f7f7f7"
            ],
            [
             0.6,
             "#e6f5d0"
            ],
            [
             0.7,
             "#b8e186"
            ],
            [
             0.8,
             "#7fbc41"
            ],
            [
             0.9,
             "#4d9221"
            ],
            [
             1,
             "#276419"
            ]
           ],
           "sequential": [
            [
             0,
             "#0d0887"
            ],
            [
             0.1111111111111111,
             "#46039f"
            ],
            [
             0.2222222222222222,
             "#7201a8"
            ],
            [
             0.3333333333333333,
             "#9c179e"
            ],
            [
             0.4444444444444444,
             "#bd3786"
            ],
            [
             0.5555555555555556,
             "#d8576b"
            ],
            [
             0.6666666666666666,
             "#ed7953"
            ],
            [
             0.7777777777777778,
             "#fb9f3a"
            ],
            [
             0.8888888888888888,
             "#fdca26"
            ],
            [
             1,
             "#f0f921"
            ]
           ],
           "sequentialminus": [
            [
             0,
             "#0d0887"
            ],
            [
             0.1111111111111111,
             "#46039f"
            ],
            [
             0.2222222222222222,
             "#7201a8"
            ],
            [
             0.3333333333333333,
             "#9c179e"
            ],
            [
             0.4444444444444444,
             "#bd3786"
            ],
            [
             0.5555555555555556,
             "#d8576b"
            ],
            [
             0.6666666666666666,
             "#ed7953"
            ],
            [
             0.7777777777777778,
             "#fb9f3a"
            ],
            [
             0.8888888888888888,
             "#fdca26"
            ],
            [
             1,
             "#f0f921"
            ]
           ]
          },
          "colorway": [
           "#636efa",
           "#EF553B",
           "#00cc96",
           "#ab63fa",
           "#FFA15A",
           "#19d3f3",
           "#FF6692",
           "#B6E880",
           "#FF97FF",
           "#FECB52"
          ],
          "font": {
           "color": "#2a3f5f"
          },
          "geo": {
           "bgcolor": "white",
           "lakecolor": "white",
           "landcolor": "#E5ECF6",
           "showlakes": true,
           "showland": true,
           "subunitcolor": "white"
          },
          "hoverlabel": {
           "align": "left"
          },
          "hovermode": "closest",
          "mapbox": {
           "style": "light"
          },
          "paper_bgcolor": "white",
          "plot_bgcolor": "#E5ECF6",
          "polar": {
           "angularaxis": {
            "gridcolor": "white",
            "linecolor": "white",
            "ticks": ""
           },
           "bgcolor": "#E5ECF6",
           "radialaxis": {
            "gridcolor": "white",
            "linecolor": "white",
            "ticks": ""
           }
          },
          "scene": {
           "xaxis": {
            "backgroundcolor": "#E5ECF6",
            "gridcolor": "white",
            "gridwidth": 2,
            "linecolor": "white",
            "showbackground": true,
            "ticks": "",
            "zerolinecolor": "white"
           },
           "yaxis": {
            "backgroundcolor": "#E5ECF6",
            "gridcolor": "white",
            "gridwidth": 2,
            "linecolor": "white",
            "showbackground": true,
            "ticks": "",
            "zerolinecolor": "white"
           },
           "zaxis": {
            "backgroundcolor": "#E5ECF6",
            "gridcolor": "white",
            "gridwidth": 2,
            "linecolor": "white",
            "showbackground": true,
            "ticks": "",
            "zerolinecolor": "white"
           }
          },
          "shapedefaults": {
           "line": {
            "color": "#2a3f5f"
           }
          },
          "ternary": {
           "aaxis": {
            "gridcolor": "white",
            "linecolor": "white",
            "ticks": ""
           },
           "baxis": {
            "gridcolor": "white",
            "linecolor": "white",
            "ticks": ""
           },
           "bgcolor": "#E5ECF6",
           "caxis": {
            "gridcolor": "white",
            "linecolor": "white",
            "ticks": ""
           }
          },
          "title": {
           "x": 0.05
          },
          "xaxis": {
           "automargin": true,
           "gridcolor": "white",
           "linecolor": "white",
           "ticks": "",
           "title": {
            "standoff": 15
           },
           "zerolinecolor": "white",
           "zerolinewidth": 2
          },
          "yaxis": {
           "automargin": true,
           "gridcolor": "white",
           "linecolor": "white",
           "ticks": "",
           "title": {
            "standoff": 15
           },
           "zerolinecolor": "white",
           "zerolinewidth": 2
          }
         }
        },
        "title": {
         "text": "Top 10 Countries by GDP from 1960 to 2023"
        },
        "updatemenus": [
         {
          "buttons": [
           {
            "args": [
             null,
             {
              "frame": {
               "duration": 500,
               "redraw": true
              },
              "fromcurrent": true,
              "mode": "immediate",
              "transition": {
               "duration": 500,
               "easing": "linear"
              }
             }
            ],
            "label": "&#9654;",
            "method": "animate"
           },
           {
            "args": [
             [
              null
             ],
             {
              "frame": {
               "duration": 0,
               "redraw": true
              },
              "fromcurrent": true,
              "mode": "immediate",
              "transition": {
               "duration": 0,
               "easing": "linear"
              }
             }
            ],
            "label": "&#9724;",
            "method": "animate"
           }
          ],
          "direction": "left",
          "pad": {
           "r": 10,
           "t": 70
          },
          "showactive": false,
          "type": "buttons",
          "x": 0.1,
          "xanchor": "right",
          "y": 0,
          "yanchor": "top"
         }
        ],
        "xaxis": {
         "anchor": "y",
         "domain": [
          0,
          1
         ],
         "range": [
          0,
          25439700000010
         ],
         "title": {
          "text": "GDP (in Trillions USD)"
         }
        },
        "yaxis": {
         "anchor": "x",
         "autorange": "reversed",
         "domain": [
          0,
          1
         ],
         "title": {
          "text": "Country"
         }
        }
       }
      }
     },
     "metadata": {},
     "output_type": "display_data"
    }
   ],
   "source": [
    "import plotly.express as px\n",
    "\n",
    "# creating the bar chart race animation with a title\n",
    "fig = px.bar(df_long_top10, \n",
    "             x=\"GDP\", \n",
    "             y=\"Country Name\", \n",
    "             animation_frame=\"Year\", \n",
    "             animation_group=\"Country Name\",\n",
    "             range_x=[0, df_long[\"GDP\"].max() + 10],\n",
    "             title=\"Top 10 Countries by GDP from 1960 to 2023\",\n",
    "             labels={\"GDP\": \"GDP (in Trillions USD)\", \"Country Name\": \"Country Name\"})\n",
    "\n",
    "# customizing the layout with axes titles\n",
    "fig.update_layout(\n",
    "    xaxis_title=\"GDP (in Trillions USD)\",\n",
    "    yaxis_title=\"Country\",\n",
    "    yaxis=dict(autorange=\"reversed\")\n",
    ")\n",
    "\n",
    "# showing the figure\n",
    "fig.show()\n",
    "\n",
    "# saving the animation as a HTML file\n",
    "fig.write_html(\"gdp_bar_chart_race.html\")"
   ]
  }
 ],
 "metadata": {
  "kernelspec": {
   "display_name": "Python 3",
   "language": "python",
   "name": "python3"
  },
  "language_info": {
   "codemirror_mode": {
    "name": "ipython",
    "version": 3
   },
   "file_extension": ".py",
   "mimetype": "text/x-python",
   "name": "python",
   "nbconvert_exporter": "python",
   "pygments_lexer": "ipython3",
   "version": "3.12.3"
  }
 },
 "nbformat": 4,
 "nbformat_minor": 2
}
